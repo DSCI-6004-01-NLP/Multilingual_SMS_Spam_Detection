{
  "nbformat": 4,
  "nbformat_minor": 0,
  "metadata": {
    "colab": {
      "provenance": [],
      "collapsed_sections": [
        "xGIwGMOi1-gk",
        "JLw4af3lTPMt",
        "5omgL6-APywR",
        "GbLofe0L5v2v",
        "mzoDuRLRA7DZ",
        "A7FSPaPNZ2LE",
        "QPVn3YnEZiSc",
        "kktMgh2QtNn3",
        "qxWwNzV8t8I7",
        "d2VEoQqY7BMl",
        "m3_gFdZ3AVaO"
      ]
    },
    "kernelspec": {
      "name": "python3",
      "display_name": "Python 3"
    },
    "language_info": {
      "name": "python"
    }
  },
  "cells": [
    {
      "cell_type": "markdown",
      "source": [
        "## Dataset Gathering"
      ],
      "metadata": {
        "id": "xGIwGMOi1-gk"
      }
    },
    {
      "cell_type": "markdown",
      "source": [
        "Datasets library contains datasets from huggingface"
      ],
      "metadata": {
        "id": "BLseJNLHNWxR"
      }
    },
    {
      "cell_type": "code",
      "source": [
        "!pip install datasets"
      ],
      "metadata": {
        "id": "S_nsriCANLEX",
        "colab": {
          "base_uri": "https://localhost:8080/"
        },
        "outputId": "ab4148a9-88b1-4bb0-fcdd-49e25d0c93d1"
      },
      "execution_count": 1,
      "outputs": [
        {
          "output_type": "stream",
          "name": "stdout",
          "text": [
            "Requirement already satisfied: datasets in /usr/local/lib/python3.10/dist-packages (2.15.0)\n",
            "Requirement already satisfied: numpy>=1.17 in /usr/local/lib/python3.10/dist-packages (from datasets) (1.23.5)\n",
            "Requirement already satisfied: pyarrow>=8.0.0 in /usr/local/lib/python3.10/dist-packages (from datasets) (9.0.0)\n",
            "Requirement already satisfied: pyarrow-hotfix in /usr/local/lib/python3.10/dist-packages (from datasets) (0.6)\n",
            "Requirement already satisfied: dill<0.3.8,>=0.3.0 in /usr/local/lib/python3.10/dist-packages (from datasets) (0.3.7)\n",
            "Requirement already satisfied: pandas in /usr/local/lib/python3.10/dist-packages (from datasets) (1.5.3)\n",
            "Requirement already satisfied: requests>=2.19.0 in /usr/local/lib/python3.10/dist-packages (from datasets) (2.31.0)\n",
            "Requirement already satisfied: tqdm>=4.62.1 in /usr/local/lib/python3.10/dist-packages (from datasets) (4.66.1)\n",
            "Requirement already satisfied: xxhash in /usr/local/lib/python3.10/dist-packages (from datasets) (3.4.1)\n",
            "Requirement already satisfied: multiprocess in /usr/local/lib/python3.10/dist-packages (from datasets) (0.70.15)\n",
            "Requirement already satisfied: fsspec[http]<=2023.10.0,>=2023.1.0 in /usr/local/lib/python3.10/dist-packages (from datasets) (2023.6.0)\n",
            "Requirement already satisfied: aiohttp in /usr/local/lib/python3.10/dist-packages (from datasets) (3.8.6)\n",
            "Requirement already satisfied: huggingface-hub>=0.18.0 in /usr/local/lib/python3.10/dist-packages (from datasets) (0.19.4)\n",
            "Requirement already satisfied: packaging in /usr/local/lib/python3.10/dist-packages (from datasets) (23.2)\n",
            "Requirement already satisfied: pyyaml>=5.1 in /usr/local/lib/python3.10/dist-packages (from datasets) (6.0.1)\n",
            "Requirement already satisfied: attrs>=17.3.0 in /usr/local/lib/python3.10/dist-packages (from aiohttp->datasets) (23.1.0)\n",
            "Requirement already satisfied: charset-normalizer<4.0,>=2.0 in /usr/local/lib/python3.10/dist-packages (from aiohttp->datasets) (3.3.2)\n",
            "Requirement already satisfied: multidict<7.0,>=4.5 in /usr/local/lib/python3.10/dist-packages (from aiohttp->datasets) (6.0.4)\n",
            "Requirement already satisfied: async-timeout<5.0,>=4.0.0a3 in /usr/local/lib/python3.10/dist-packages (from aiohttp->datasets) (4.0.3)\n",
            "Requirement already satisfied: yarl<2.0,>=1.0 in /usr/local/lib/python3.10/dist-packages (from aiohttp->datasets) (1.9.2)\n",
            "Requirement already satisfied: frozenlist>=1.1.1 in /usr/local/lib/python3.10/dist-packages (from aiohttp->datasets) (1.4.0)\n",
            "Requirement already satisfied: aiosignal>=1.1.2 in /usr/local/lib/python3.10/dist-packages (from aiohttp->datasets) (1.3.1)\n",
            "Requirement already satisfied: filelock in /usr/local/lib/python3.10/dist-packages (from huggingface-hub>=0.18.0->datasets) (3.13.1)\n",
            "Requirement already satisfied: typing-extensions>=3.7.4.3 in /usr/local/lib/python3.10/dist-packages (from huggingface-hub>=0.18.0->datasets) (4.5.0)\n",
            "Requirement already satisfied: idna<4,>=2.5 in /usr/local/lib/python3.10/dist-packages (from requests>=2.19.0->datasets) (3.4)\n",
            "Requirement already satisfied: urllib3<3,>=1.21.1 in /usr/local/lib/python3.10/dist-packages (from requests>=2.19.0->datasets) (2.0.7)\n",
            "Requirement already satisfied: certifi>=2017.4.17 in /usr/local/lib/python3.10/dist-packages (from requests>=2.19.0->datasets) (2023.7.22)\n",
            "Requirement already satisfied: python-dateutil>=2.8.1 in /usr/local/lib/python3.10/dist-packages (from pandas->datasets) (2.8.2)\n",
            "Requirement already satisfied: pytz>=2020.1 in /usr/local/lib/python3.10/dist-packages (from pandas->datasets) (2023.3.post1)\n",
            "Requirement already satisfied: six>=1.5 in /usr/local/lib/python3.10/dist-packages (from python-dateutil>=2.8.1->pandas->datasets) (1.16.0)\n"
          ]
        }
      ]
    },
    {
      "cell_type": "code",
      "source": [
        "import warnings\n",
        "warnings.filterwarnings('ignore')"
      ],
      "metadata": {
        "id": "44YLV_P0n0r8"
      },
      "execution_count": 2,
      "outputs": []
    },
    {
      "cell_type": "code",
      "source": [
        "# Downloading the dataset\n",
        "from datasets import load_dataset\n",
        "\n",
        "dataset = load_dataset(\"dbarbedillo/SMS_Spam_Multilingual_Collection_Dataset\")"
      ],
      "metadata": {
        "id": "yZYNEiOm2qXT"
      },
      "execution_count": 3,
      "outputs": []
    },
    {
      "cell_type": "code",
      "source": [
        "dataset"
      ],
      "metadata": {
        "colab": {
          "base_uri": "https://localhost:8080/"
        },
        "id": "VsqCiPQKM29J",
        "outputId": "5fcf1058-3bd4-49b3-da25-28ec7d1bae12"
      },
      "execution_count": 4,
      "outputs": [
        {
          "output_type": "execute_result",
          "data": {
            "text/plain": [
              "DatasetDict({\n",
              "    train: Dataset({\n",
              "        features: ['Unnamed: 0', 'labels', 'text', 'text_hi', 'text_de', 'text_fr', 'text_es', 'text_zh', 'text_ar', 'text_bn', 'text_ru', 'text_pt', 'text_ja', 'text_id', 'text_ur', 'text_pa', 'text_jv', 'text_tr', 'text_ko', 'text_mr', 'text_uk', 'text_sv', 'text_no'],\n",
              "        num_rows: 5572\n",
              "    })\n",
              "})"
            ]
          },
          "metadata": {},
          "execution_count": 4
        }
      ]
    },
    {
      "cell_type": "code",
      "source": [
        "train_data = dataset['train']\n",
        "df = train_data.to_pandas()"
      ],
      "metadata": {
        "id": "iemddJPYM25B"
      },
      "execution_count": 5,
      "outputs": []
    },
    {
      "cell_type": "code",
      "source": [
        "df.head()"
      ],
      "metadata": {
        "colab": {
          "base_uri": "https://localhost:8080/",
          "height": 880
        },
        "id": "pJL4X2MfM202",
        "outputId": "d5aa83fa-5afb-4e8f-9ab1-5a3885bf2861"
      },
      "execution_count": 6,
      "outputs": [
        {
          "output_type": "execute_result",
          "data": {
            "text/plain": [
              "   Unnamed: 0 labels                                               text  \\\n",
              "0           0    ham  Go until jurong point, crazy.. Available only ...   \n",
              "1           1    ham                      Ok lar... Joking wif u oni...   \n",
              "2           2   spam  Free entry in 2 a wkly comp to win FA Cup fina...   \n",
              "3           3    ham  U dun say so early hor... U c already then say...   \n",
              "4           4    ham  Nah I don't think he goes to usf, he lives aro...   \n",
              "\n",
              "                                             text_hi  \\\n",
              "0  Dakag बिंदु तक जाओ, पागल. केवल Bag Non महान वि...   \n",
              "1                         ओके लामर.... if if uue पर.   \n",
              "2  Fktatatat 21 मई को प्राप्त करने के लिए मुफ्त प...   \n",
              "3  Uden इतना जल्दी कहते हैं... तो पहले से ही यूसी...   \n",
              "4  नहीं, मुझे नहीं लगता कि वह हमारे लिए चला जाता ...   \n",
              "\n",
              "                                             text_de  \\\n",
              "0  Gehen Sie bis jurong Punkt, verrückt.. Verfügb...   \n",
              "1                      Ok Lar... joking wif u oni...   \n",
              "2  Freier Eintritt in 2 a wkly comp zum Gewinn FA...   \n",
              "3     U dun sagen so früh... U c schon dann sagen...   \n",
              "4  Nein, ich glaube nicht, dass er zu unsf geht, ...   \n",
              "\n",
              "                                             text_fr  \\\n",
              "0  Allez jusqu'à Jurong point, fou.. Disponible s...   \n",
              "1           J'ai fait une blague sur le wif u oni...   \n",
              "2  Entrée libre dans 2 a wkly comp pour gagner FA...   \n",
              "3     U dun dit si tôt hor... U c déjà dire alors...   \n",
              "4  Non, je ne pense pas qu'il va à usf, il vit da...   \n",
              "\n",
              "                                             text_es  \\\n",
              "0  Go until jurong point, crazy.. Available only ...   \n",
              "1                       Bueno, la broma, la broma...   \n",
              "2  Ingreso gratuito en 2 a wkly comp para ganar F...   \n",
              "3  U dun dice tan temprano hor... U c ya entonces...   \n",
              "4         No creo que vaya a la USF, pero vive aquí.   \n",
              "\n",
              "                                             text_zh  \\\n",
              "0  走到陪审点,疯狂.. 仅在 bugis n great world la e buffet....   \n",
              "1                                  哈哈哈哈哈哈哈哈哈哈哈哈哈哈哈哈哈   \n",
              "2  免费入场 2 a wkly comp 获胜 FA 杯决赛 tkts 2005年5月21日 文...   \n",
              "3                       U dun 说得这么早, U c 说得这么早......   \n",
              "4                               好吧,我不认为他去USF,他住在这里虽然   \n",
              "\n",
              "                                             text_ar  \\\n",
              "0  الذهاب إلى نقطة الجورج، مجنون.. متوفر فقط في b...   \n",
              "1                     نعم نعم نعم نعم نعم نعم نعم...   \n",
              "2  إدخال مجاني في 2 a wkly comp للفوز FA Cup fina...   \n",
              "3  وَقَالَ رَسُولُ اللَّهِ صَلَّى اللَّهُ عَلَيْه...   \n",
              "4  أنا لا أعتقد أنه يذهب إلى usf ، لكنه يعيش هنا ...   \n",
              "\n",
              "                                             text_bn  ...  \\\n",
              "0  যান যান যান যান যান যান যান যান যান যান যান যা...  ...   \n",
              "1  হ্যাঁ হ্যাঁ হ্যাঁ হ্যাঁ হ্যাঁ হ্যাঁ হ্যাঁ হ্যা...  ...   \n",
              "2  বিনামূল্যে প্রবেশ 2 a wkly comp বিজয় FA কাপ ফ...  ...   \n",
              "3  কখনো কখনো কখনো কখনো কখনো কখনো কখনো কখনো কখনো ক...  ...   \n",
              "4  আমি মনে করি তিনি ইউএসএফে যেতে পারবেন না, তিনি ...  ...   \n",
              "\n",
              "                                             text_id  \\\n",
              "0  Pergi sampai jurong point, gila.. Tersedia han...   \n",
              "1               Awalnya, ia bergurau dengan Wif U...   \n",
              "2  Free entry in 2 a wkly comp to win FA Cup fina...   \n",
              "3  U dun berkata begitu awal hor... U c sudah kem...   \n",
              "4  Saya tidak berpikir dia pergi ke usf, dia ting...   \n",
              "\n",
              "                                             text_ur  \\\n",
              "0  جاؤ جب تک جورج پوائنٹ، پاگل.. دستیاب صرف میں b...   \n",
              "1       ہا ہا ہا ہا ہا ہا ہا ہا ہا ہا ہا ہا ہا ہا ہا   \n",
              "2  مفت انٹرویو میں 2 a wkly comp جیتنے کے لئے FA ...   \n",
              "3  U dun کہتے ہیں اتنا جلدی hor... U c پہلے ہی کہ...   \n",
              "4  مجھے نہیں لگتا کہ وہ یو ایس ایف میں جا رہا ہے،...   \n",
              "\n",
              "                                             text_pa  \\\n",
              "0  ਗਾਹਕ 'ਤੇ ਗਾਹਕ 'ਤੇ ਗਾਹਕ 'ਤੇ ਗਾਹਕ 'ਤੇ ਗਾਹਕ 'ਤੇ ਗ...   \n",
              "1                      OK lar... Joking wif u oni...   \n",
              "2  Free entry in 2 a wkly comp to win FA Cup fina...   \n",
              "3  U dun says so early hor... U c already then sa...   \n",
              "4  ਹੈ, ਮੈਨੂੰ ਇਸ ਨੂੰ usf ਵਿੱਚ ਜਾ ਰਿਹਾ ਹੈ ਨਾ ਹੈ, ਇਸ...   \n",
              "\n",
              "                                             text_jv  \\\n",
              "0  Ing titik jurong, crazy..Dapat ora ing bugis n...   \n",
              "1  Lan lan lan lan lan lan lan lan lan lan lan la...   \n",
              "2  Free entry in 2 a wkly comp kanggo menang FA C...   \n",
              "3      U dun saka begitu awal hor... U c uga saka...   \n",
              "4          Dheweke ana ing usf, nanging iku ana ing.   \n",
              "\n",
              "                                             text_tr  \\\n",
              "0  Yürüyüş noktasına kadar gidin, çılgın.. Sadece...   \n",
              "1          Hayır hayır hayır hayır hayır hayır hayır   \n",
              "2  Free entry in 2 a wkly comp to win FA Cup fina...   \n",
              "3  U dun diyor o kadar erken hor... U c zaten o z...   \n",
              "4        Bence o USF'ye gitmiyor ama burada yaşıyor.   \n",
              "\n",
              "                                             text_ko  \\\n",
              "0  조롱 포인트까지 가라, 미친.. 오직 bugis n great world la e ...   \n",
              "1                     ᄏᄏᄏᄏᄏᄏᄏᄏᄏᄏᄏᄏᄏᄏᄏᄏᄏᄏᄏᄏᄏᄏᄏᄏᄏᄏᄏᄏᄏᄏ   \n",
              "2  무료 입장 2 a wkly comp 승리 FA 컵 결승전 tkts 2005년 5월 ...   \n",
              "3           ᄏᄏᄏᄏᄏᄏᄏᄏᄏᄏᄏᄏᄏᄏᄏᄏᄏᄏᄏᄏᄏᄏᄏᄏᄏᄏᄏᄏᄏᄏᄏᄏᄏᄏᄏᄏᄏᄏᄏᄏ   \n",
              "4         나는 그가 USF에 가고 있다고 생각하지 않습니다, 그는 여기에 살고 있지만   \n",
              "\n",
              "                                             text_mr  \\\n",
              "0  जॉर्ज बिंदुपर्यंत जा, पागल.. उपलब्ध फक्त bugis...   \n",
              "1                 शंका आहोत, शंका आहोत, शंका आहोत...   \n",
              "2  मुक्त प्रवेश 2 a wkly comp विजेता FA कप फाइनल ...   \n",
              "3  त्याचबरोबरच त्याचबरोबरच त्याचबरोबरच त्याचबरोबर...   \n",
              "4  मला वाटत नाही की, तो यूएसएफमध्ये जातो, पण तिथे...   \n",
              "\n",
              "                                             text_uk  \\\n",
              "0  Ідіть до пункту присяги, божевільний.. Доступн...   \n",
              "1                Звичайно ж, це жартує про те, що...   \n",
              "2  Безкоштовний вхід у 2 а wkly comp виграти ФА К...   \n",
              "3  У дуні так рано говорити... У C вже тоді говор...   \n",
              "4   Я не думаю, що він йде в УСФ, він живе тут, хоча   \n",
              "\n",
              "                                             text_sv  \\\n",
              "0  Go till jurong point, crazy.. Tillgänglig bara...   \n",
              "1                      Ok lar... Joking wif u oni...   \n",
              "2  Fri entré i 2 a wkly comp för att vinna FA Cup...   \n",
              "3  U dun säger så tidigt hor... U c säger redan d...   \n",
              "4  Nej, jag tror inte att han går till usf, han b...   \n",
              "\n",
              "                                             text_no  \n",
              "0  Gå til jurong point, gal.. Tilgjengelig bare i...  \n",
              "1                      Ok lar... Joking wif u oni...  \n",
              "2  Free entry in 2 a wkly comp to win FA Cup fina...  \n",
              "3  U dun sier så tidlig hor... U c sier allerede ...  \n",
              "4  Nei, jeg tror ikke han går til usf, han bor ru...  \n",
              "\n",
              "[5 rows x 23 columns]"
            ],
            "text/html": [
              "\n",
              "  <div id=\"df-1b1ec324-a43c-4bf4-8b31-f4c14f6cae64\" class=\"colab-df-container\">\n",
              "    <div>\n",
              "<style scoped>\n",
              "    .dataframe tbody tr th:only-of-type {\n",
              "        vertical-align: middle;\n",
              "    }\n",
              "\n",
              "    .dataframe tbody tr th {\n",
              "        vertical-align: top;\n",
              "    }\n",
              "\n",
              "    .dataframe thead th {\n",
              "        text-align: right;\n",
              "    }\n",
              "</style>\n",
              "<table border=\"1\" class=\"dataframe\">\n",
              "  <thead>\n",
              "    <tr style=\"text-align: right;\">\n",
              "      <th></th>\n",
              "      <th>Unnamed: 0</th>\n",
              "      <th>labels</th>\n",
              "      <th>text</th>\n",
              "      <th>text_hi</th>\n",
              "      <th>text_de</th>\n",
              "      <th>text_fr</th>\n",
              "      <th>text_es</th>\n",
              "      <th>text_zh</th>\n",
              "      <th>text_ar</th>\n",
              "      <th>text_bn</th>\n",
              "      <th>...</th>\n",
              "      <th>text_id</th>\n",
              "      <th>text_ur</th>\n",
              "      <th>text_pa</th>\n",
              "      <th>text_jv</th>\n",
              "      <th>text_tr</th>\n",
              "      <th>text_ko</th>\n",
              "      <th>text_mr</th>\n",
              "      <th>text_uk</th>\n",
              "      <th>text_sv</th>\n",
              "      <th>text_no</th>\n",
              "    </tr>\n",
              "  </thead>\n",
              "  <tbody>\n",
              "    <tr>\n",
              "      <th>0</th>\n",
              "      <td>0</td>\n",
              "      <td>ham</td>\n",
              "      <td>Go until jurong point, crazy.. Available only ...</td>\n",
              "      <td>Dakag बिंदु तक जाओ, पागल. केवल Bag Non महान वि...</td>\n",
              "      <td>Gehen Sie bis jurong Punkt, verrückt.. Verfügb...</td>\n",
              "      <td>Allez jusqu'à Jurong point, fou.. Disponible s...</td>\n",
              "      <td>Go until jurong point, crazy.. Available only ...</td>\n",
              "      <td>走到陪审点,疯狂.. 仅在 bugis n great world la e buffet....</td>\n",
              "      <td>الذهاب إلى نقطة الجورج، مجنون.. متوفر فقط في b...</td>\n",
              "      <td>যান যান যান যান যান যান যান যান যান যান যান যা...</td>\n",
              "      <td>...</td>\n",
              "      <td>Pergi sampai jurong point, gila.. Tersedia han...</td>\n",
              "      <td>جاؤ جب تک جورج پوائنٹ، پاگل.. دستیاب صرف میں b...</td>\n",
              "      <td>ਗਾਹਕ 'ਤੇ ਗਾਹਕ 'ਤੇ ਗਾਹਕ 'ਤੇ ਗਾਹਕ 'ਤੇ ਗਾਹਕ 'ਤੇ ਗ...</td>\n",
              "      <td>Ing titik jurong, crazy..Dapat ora ing bugis n...</td>\n",
              "      <td>Yürüyüş noktasına kadar gidin, çılgın.. Sadece...</td>\n",
              "      <td>조롱 포인트까지 가라, 미친.. 오직 bugis n great world la e ...</td>\n",
              "      <td>जॉर्ज बिंदुपर्यंत जा, पागल.. उपलब्ध फक्त bugis...</td>\n",
              "      <td>Ідіть до пункту присяги, божевільний.. Доступн...</td>\n",
              "      <td>Go till jurong point, crazy.. Tillgänglig bara...</td>\n",
              "      <td>Gå til jurong point, gal.. Tilgjengelig bare i...</td>\n",
              "    </tr>\n",
              "    <tr>\n",
              "      <th>1</th>\n",
              "      <td>1</td>\n",
              "      <td>ham</td>\n",
              "      <td>Ok lar... Joking wif u oni...</td>\n",
              "      <td>ओके लामर.... if if uue पर.</td>\n",
              "      <td>Ok Lar... joking wif u oni...</td>\n",
              "      <td>J'ai fait une blague sur le wif u oni...</td>\n",
              "      <td>Bueno, la broma, la broma...</td>\n",
              "      <td>哈哈哈哈哈哈哈哈哈哈哈哈哈哈哈哈哈</td>\n",
              "      <td>نعم نعم نعم نعم نعم نعم نعم...</td>\n",
              "      <td>হ্যাঁ হ্যাঁ হ্যাঁ হ্যাঁ হ্যাঁ হ্যাঁ হ্যাঁ হ্যা...</td>\n",
              "      <td>...</td>\n",
              "      <td>Awalnya, ia bergurau dengan Wif U...</td>\n",
              "      <td>ہا ہا ہا ہا ہا ہا ہا ہا ہا ہا ہا ہا ہا ہا ہا</td>\n",
              "      <td>OK lar... Joking wif u oni...</td>\n",
              "      <td>Lan lan lan lan lan lan lan lan lan lan lan la...</td>\n",
              "      <td>Hayır hayır hayır hayır hayır hayır hayır</td>\n",
              "      <td>ᄏᄏᄏᄏᄏᄏᄏᄏᄏᄏᄏᄏᄏᄏᄏᄏᄏᄏᄏᄏᄏᄏᄏᄏᄏᄏᄏᄏᄏᄏ</td>\n",
              "      <td>शंका आहोत, शंका आहोत, शंका आहोत...</td>\n",
              "      <td>Звичайно ж, це жартує про те, що...</td>\n",
              "      <td>Ok lar... Joking wif u oni...</td>\n",
              "      <td>Ok lar... Joking wif u oni...</td>\n",
              "    </tr>\n",
              "    <tr>\n",
              "      <th>2</th>\n",
              "      <td>2</td>\n",
              "      <td>spam</td>\n",
              "      <td>Free entry in 2 a wkly comp to win FA Cup fina...</td>\n",
              "      <td>Fktatatat 21 मई को प्राप्त करने के लिए मुफ्त प...</td>\n",
              "      <td>Freier Eintritt in 2 a wkly comp zum Gewinn FA...</td>\n",
              "      <td>Entrée libre dans 2 a wkly comp pour gagner FA...</td>\n",
              "      <td>Ingreso gratuito en 2 a wkly comp para ganar F...</td>\n",
              "      <td>免费入场 2 a wkly comp 获胜 FA 杯决赛 tkts 2005年5月21日 文...</td>\n",
              "      <td>إدخال مجاني في 2 a wkly comp للفوز FA Cup fina...</td>\n",
              "      <td>বিনামূল্যে প্রবেশ 2 a wkly comp বিজয় FA কাপ ফ...</td>\n",
              "      <td>...</td>\n",
              "      <td>Free entry in 2 a wkly comp to win FA Cup fina...</td>\n",
              "      <td>مفت انٹرویو میں 2 a wkly comp جیتنے کے لئے FA ...</td>\n",
              "      <td>Free entry in 2 a wkly comp to win FA Cup fina...</td>\n",
              "      <td>Free entry in 2 a wkly comp kanggo menang FA C...</td>\n",
              "      <td>Free entry in 2 a wkly comp to win FA Cup fina...</td>\n",
              "      <td>무료 입장 2 a wkly comp 승리 FA 컵 결승전 tkts 2005년 5월 ...</td>\n",
              "      <td>मुक्त प्रवेश 2 a wkly comp विजेता FA कप फाइनल ...</td>\n",
              "      <td>Безкоштовний вхід у 2 а wkly comp виграти ФА К...</td>\n",
              "      <td>Fri entré i 2 a wkly comp för att vinna FA Cup...</td>\n",
              "      <td>Free entry in 2 a wkly comp to win FA Cup fina...</td>\n",
              "    </tr>\n",
              "    <tr>\n",
              "      <th>3</th>\n",
              "      <td>3</td>\n",
              "      <td>ham</td>\n",
              "      <td>U dun say so early hor... U c already then say...</td>\n",
              "      <td>Uden इतना जल्दी कहते हैं... तो पहले से ही यूसी...</td>\n",
              "      <td>U dun sagen so früh... U c schon dann sagen...</td>\n",
              "      <td>U dun dit si tôt hor... U c déjà dire alors...</td>\n",
              "      <td>U dun dice tan temprano hor... U c ya entonces...</td>\n",
              "      <td>U dun 说得这么早, U c 说得这么早......</td>\n",
              "      <td>وَقَالَ رَسُولُ اللَّهِ صَلَّى اللَّهُ عَلَيْه...</td>\n",
              "      <td>কখনো কখনো কখনো কখনো কখনো কখনো কখনো কখনো কখনো ক...</td>\n",
              "      <td>...</td>\n",
              "      <td>U dun berkata begitu awal hor... U c sudah kem...</td>\n",
              "      <td>U dun کہتے ہیں اتنا جلدی hor... U c پہلے ہی کہ...</td>\n",
              "      <td>U dun says so early hor... U c already then sa...</td>\n",
              "      <td>U dun saka begitu awal hor... U c uga saka...</td>\n",
              "      <td>U dun diyor o kadar erken hor... U c zaten o z...</td>\n",
              "      <td>ᄏᄏᄏᄏᄏᄏᄏᄏᄏᄏᄏᄏᄏᄏᄏᄏᄏᄏᄏᄏᄏᄏᄏᄏᄏᄏᄏᄏᄏᄏᄏᄏᄏᄏᄏᄏᄏᄏᄏᄏ</td>\n",
              "      <td>त्याचबरोबरच त्याचबरोबरच त्याचबरोबरच त्याचबरोबर...</td>\n",
              "      <td>У дуні так рано говорити... У C вже тоді говор...</td>\n",
              "      <td>U dun säger så tidigt hor... U c säger redan d...</td>\n",
              "      <td>U dun sier så tidlig hor... U c sier allerede ...</td>\n",
              "    </tr>\n",
              "    <tr>\n",
              "      <th>4</th>\n",
              "      <td>4</td>\n",
              "      <td>ham</td>\n",
              "      <td>Nah I don't think he goes to usf, he lives aro...</td>\n",
              "      <td>नहीं, मुझे नहीं लगता कि वह हमारे लिए चला जाता ...</td>\n",
              "      <td>Nein, ich glaube nicht, dass er zu unsf geht, ...</td>\n",
              "      <td>Non, je ne pense pas qu'il va à usf, il vit da...</td>\n",
              "      <td>No creo que vaya a la USF, pero vive aquí.</td>\n",
              "      <td>好吧,我不认为他去USF,他住在这里虽然</td>\n",
              "      <td>أنا لا أعتقد أنه يذهب إلى usf ، لكنه يعيش هنا ...</td>\n",
              "      <td>আমি মনে করি তিনি ইউএসএফে যেতে পারবেন না, তিনি ...</td>\n",
              "      <td>...</td>\n",
              "      <td>Saya tidak berpikir dia pergi ke usf, dia ting...</td>\n",
              "      <td>مجھے نہیں لگتا کہ وہ یو ایس ایف میں جا رہا ہے،...</td>\n",
              "      <td>ਹੈ, ਮੈਨੂੰ ਇਸ ਨੂੰ usf ਵਿੱਚ ਜਾ ਰਿਹਾ ਹੈ ਨਾ ਹੈ, ਇਸ...</td>\n",
              "      <td>Dheweke ana ing usf, nanging iku ana ing.</td>\n",
              "      <td>Bence o USF'ye gitmiyor ama burada yaşıyor.</td>\n",
              "      <td>나는 그가 USF에 가고 있다고 생각하지 않습니다, 그는 여기에 살고 있지만</td>\n",
              "      <td>मला वाटत नाही की, तो यूएसएफमध्ये जातो, पण तिथे...</td>\n",
              "      <td>Я не думаю, що він йде в УСФ, він живе тут, хоча</td>\n",
              "      <td>Nej, jag tror inte att han går till usf, han b...</td>\n",
              "      <td>Nei, jeg tror ikke han går til usf, han bor ru...</td>\n",
              "    </tr>\n",
              "  </tbody>\n",
              "</table>\n",
              "<p>5 rows × 23 columns</p>\n",
              "</div>\n",
              "    <div class=\"colab-df-buttons\">\n",
              "\n",
              "  <div class=\"colab-df-container\">\n",
              "    <button class=\"colab-df-convert\" onclick=\"convertToInteractive('df-1b1ec324-a43c-4bf4-8b31-f4c14f6cae64')\"\n",
              "            title=\"Convert this dataframe to an interactive table.\"\n",
              "            style=\"display:none;\">\n",
              "\n",
              "  <svg xmlns=\"http://www.w3.org/2000/svg\" height=\"24px\" viewBox=\"0 -960 960 960\">\n",
              "    <path d=\"M120-120v-720h720v720H120Zm60-500h600v-160H180v160Zm220 220h160v-160H400v160Zm0 220h160v-160H400v160ZM180-400h160v-160H180v160Zm440 0h160v-160H620v160ZM180-180h160v-160H180v160Zm440 0h160v-160H620v160Z\"/>\n",
              "  </svg>\n",
              "    </button>\n",
              "\n",
              "  <style>\n",
              "    .colab-df-container {\n",
              "      display:flex;\n",
              "      gap: 12px;\n",
              "    }\n",
              "\n",
              "    .colab-df-convert {\n",
              "      background-color: #E8F0FE;\n",
              "      border: none;\n",
              "      border-radius: 50%;\n",
              "      cursor: pointer;\n",
              "      display: none;\n",
              "      fill: #1967D2;\n",
              "      height: 32px;\n",
              "      padding: 0 0 0 0;\n",
              "      width: 32px;\n",
              "    }\n",
              "\n",
              "    .colab-df-convert:hover {\n",
              "      background-color: #E2EBFA;\n",
              "      box-shadow: 0px 1px 2px rgba(60, 64, 67, 0.3), 0px 1px 3px 1px rgba(60, 64, 67, 0.15);\n",
              "      fill: #174EA6;\n",
              "    }\n",
              "\n",
              "    .colab-df-buttons div {\n",
              "      margin-bottom: 4px;\n",
              "    }\n",
              "\n",
              "    [theme=dark] .colab-df-convert {\n",
              "      background-color: #3B4455;\n",
              "      fill: #D2E3FC;\n",
              "    }\n",
              "\n",
              "    [theme=dark] .colab-df-convert:hover {\n",
              "      background-color: #434B5C;\n",
              "      box-shadow: 0px 1px 3px 1px rgba(0, 0, 0, 0.15);\n",
              "      filter: drop-shadow(0px 1px 2px rgba(0, 0, 0, 0.3));\n",
              "      fill: #FFFFFF;\n",
              "    }\n",
              "  </style>\n",
              "\n",
              "    <script>\n",
              "      const buttonEl =\n",
              "        document.querySelector('#df-1b1ec324-a43c-4bf4-8b31-f4c14f6cae64 button.colab-df-convert');\n",
              "      buttonEl.style.display =\n",
              "        google.colab.kernel.accessAllowed ? 'block' : 'none';\n",
              "\n",
              "      async function convertToInteractive(key) {\n",
              "        const element = document.querySelector('#df-1b1ec324-a43c-4bf4-8b31-f4c14f6cae64');\n",
              "        const dataTable =\n",
              "          await google.colab.kernel.invokeFunction('convertToInteractive',\n",
              "                                                    [key], {});\n",
              "        if (!dataTable) return;\n",
              "\n",
              "        const docLinkHtml = 'Like what you see? Visit the ' +\n",
              "          '<a target=\"_blank\" href=https://colab.research.google.com/notebooks/data_table.ipynb>data table notebook</a>'\n",
              "          + ' to learn more about interactive tables.';\n",
              "        element.innerHTML = '';\n",
              "        dataTable['output_type'] = 'display_data';\n",
              "        await google.colab.output.renderOutput(dataTable, element);\n",
              "        const docLink = document.createElement('div');\n",
              "        docLink.innerHTML = docLinkHtml;\n",
              "        element.appendChild(docLink);\n",
              "      }\n",
              "    </script>\n",
              "  </div>\n",
              "\n",
              "\n",
              "<div id=\"df-afb7c8d0-afe0-4ad1-883c-d1442feb6ee6\">\n",
              "  <button class=\"colab-df-quickchart\" onclick=\"quickchart('df-afb7c8d0-afe0-4ad1-883c-d1442feb6ee6')\"\n",
              "            title=\"Suggest charts\"\n",
              "            style=\"display:none;\">\n",
              "\n",
              "<svg xmlns=\"http://www.w3.org/2000/svg\" height=\"24px\"viewBox=\"0 0 24 24\"\n",
              "     width=\"24px\">\n",
              "    <g>\n",
              "        <path d=\"M19 3H5c-1.1 0-2 .9-2 2v14c0 1.1.9 2 2 2h14c1.1 0 2-.9 2-2V5c0-1.1-.9-2-2-2zM9 17H7v-7h2v7zm4 0h-2V7h2v10zm4 0h-2v-4h2v4z\"/>\n",
              "    </g>\n",
              "</svg>\n",
              "  </button>\n",
              "\n",
              "<style>\n",
              "  .colab-df-quickchart {\n",
              "      --bg-color: #E8F0FE;\n",
              "      --fill-color: #1967D2;\n",
              "      --hover-bg-color: #E2EBFA;\n",
              "      --hover-fill-color: #174EA6;\n",
              "      --disabled-fill-color: #AAA;\n",
              "      --disabled-bg-color: #DDD;\n",
              "  }\n",
              "\n",
              "  [theme=dark] .colab-df-quickchart {\n",
              "      --bg-color: #3B4455;\n",
              "      --fill-color: #D2E3FC;\n",
              "      --hover-bg-color: #434B5C;\n",
              "      --hover-fill-color: #FFFFFF;\n",
              "      --disabled-bg-color: #3B4455;\n",
              "      --disabled-fill-color: #666;\n",
              "  }\n",
              "\n",
              "  .colab-df-quickchart {\n",
              "    background-color: var(--bg-color);\n",
              "    border: none;\n",
              "    border-radius: 50%;\n",
              "    cursor: pointer;\n",
              "    display: none;\n",
              "    fill: var(--fill-color);\n",
              "    height: 32px;\n",
              "    padding: 0;\n",
              "    width: 32px;\n",
              "  }\n",
              "\n",
              "  .colab-df-quickchart:hover {\n",
              "    background-color: var(--hover-bg-color);\n",
              "    box-shadow: 0 1px 2px rgba(60, 64, 67, 0.3), 0 1px 3px 1px rgba(60, 64, 67, 0.15);\n",
              "    fill: var(--button-hover-fill-color);\n",
              "  }\n",
              "\n",
              "  .colab-df-quickchart-complete:disabled,\n",
              "  .colab-df-quickchart-complete:disabled:hover {\n",
              "    background-color: var(--disabled-bg-color);\n",
              "    fill: var(--disabled-fill-color);\n",
              "    box-shadow: none;\n",
              "  }\n",
              "\n",
              "  .colab-df-spinner {\n",
              "    border: 2px solid var(--fill-color);\n",
              "    border-color: transparent;\n",
              "    border-bottom-color: var(--fill-color);\n",
              "    animation:\n",
              "      spin 1s steps(1) infinite;\n",
              "  }\n",
              "\n",
              "  @keyframes spin {\n",
              "    0% {\n",
              "      border-color: transparent;\n",
              "      border-bottom-color: var(--fill-color);\n",
              "      border-left-color: var(--fill-color);\n",
              "    }\n",
              "    20% {\n",
              "      border-color: transparent;\n",
              "      border-left-color: var(--fill-color);\n",
              "      border-top-color: var(--fill-color);\n",
              "    }\n",
              "    30% {\n",
              "      border-color: transparent;\n",
              "      border-left-color: var(--fill-color);\n",
              "      border-top-color: var(--fill-color);\n",
              "      border-right-color: var(--fill-color);\n",
              "    }\n",
              "    40% {\n",
              "      border-color: transparent;\n",
              "      border-right-color: var(--fill-color);\n",
              "      border-top-color: var(--fill-color);\n",
              "    }\n",
              "    60% {\n",
              "      border-color: transparent;\n",
              "      border-right-color: var(--fill-color);\n",
              "    }\n",
              "    80% {\n",
              "      border-color: transparent;\n",
              "      border-right-color: var(--fill-color);\n",
              "      border-bottom-color: var(--fill-color);\n",
              "    }\n",
              "    90% {\n",
              "      border-color: transparent;\n",
              "      border-bottom-color: var(--fill-color);\n",
              "    }\n",
              "  }\n",
              "</style>\n",
              "\n",
              "  <script>\n",
              "    async function quickchart(key) {\n",
              "      const quickchartButtonEl =\n",
              "        document.querySelector('#' + key + ' button');\n",
              "      quickchartButtonEl.disabled = true;  // To prevent multiple clicks.\n",
              "      quickchartButtonEl.classList.add('colab-df-spinner');\n",
              "      try {\n",
              "        const charts = await google.colab.kernel.invokeFunction(\n",
              "            'suggestCharts', [key], {});\n",
              "      } catch (error) {\n",
              "        console.error('Error during call to suggestCharts:', error);\n",
              "      }\n",
              "      quickchartButtonEl.classList.remove('colab-df-spinner');\n",
              "      quickchartButtonEl.classList.add('colab-df-quickchart-complete');\n",
              "    }\n",
              "    (() => {\n",
              "      let quickchartButtonEl =\n",
              "        document.querySelector('#df-afb7c8d0-afe0-4ad1-883c-d1442feb6ee6 button');\n",
              "      quickchartButtonEl.style.display =\n",
              "        google.colab.kernel.accessAllowed ? 'block' : 'none';\n",
              "    })();\n",
              "  </script>\n",
              "</div>\n",
              "    </div>\n",
              "  </div>\n"
            ]
          },
          "metadata": {},
          "execution_count": 6
        }
      ]
    },
    {
      "cell_type": "markdown",
      "source": [
        "## Data Analysis"
      ],
      "metadata": {
        "id": "JLw4af3lTPMt"
      }
    },
    {
      "cell_type": "code",
      "source": [
        "df.shape"
      ],
      "metadata": {
        "colab": {
          "base_uri": "https://localhost:8080/"
        },
        "id": "E_kfHe-rM2xS",
        "outputId": "cef47a17-f7d7-452a-e694-2d573a9f0716"
      },
      "execution_count": 7,
      "outputs": [
        {
          "output_type": "execute_result",
          "data": {
            "text/plain": [
              "(5572, 23)"
            ]
          },
          "metadata": {},
          "execution_count": 7
        }
      ]
    },
    {
      "cell_type": "markdown",
      "source": [
        "We have 23 columns and 5572 rows out of which 21 columns contain texts of different languages."
      ],
      "metadata": {
        "id": "6StQoYA2PXe1"
      }
    },
    {
      "cell_type": "code",
      "source": [
        "df.columns"
      ],
      "metadata": {
        "colab": {
          "base_uri": "https://localhost:8080/"
        },
        "id": "_uIv02ACTSZV",
        "outputId": "730f46f0-011b-4696-ba6d-736dacd86815"
      },
      "execution_count": 8,
      "outputs": [
        {
          "output_type": "execute_result",
          "data": {
            "text/plain": [
              "Index(['Unnamed: 0', 'labels', 'text', 'text_hi', 'text_de', 'text_fr',\n",
              "       'text_es', 'text_zh', 'text_ar', 'text_bn', 'text_ru', 'text_pt',\n",
              "       'text_ja', 'text_id', 'text_ur', 'text_pa', 'text_jv', 'text_tr',\n",
              "       'text_ko', 'text_mr', 'text_uk', 'text_sv', 'text_no'],\n",
              "      dtype='object')"
            ]
          },
          "metadata": {},
          "execution_count": 8
        }
      ]
    },
    {
      "cell_type": "code",
      "source": [
        "df.labels.unique()"
      ],
      "metadata": {
        "colab": {
          "base_uri": "https://localhost:8080/"
        },
        "id": "BaITIEJiTvtn",
        "outputId": "b84c7ebc-a91c-49ea-e538-7123a1fd8e92"
      },
      "execution_count": 9,
      "outputs": [
        {
          "output_type": "execute_result",
          "data": {
            "text/plain": [
              "array(['ham', 'spam'], dtype=object)"
            ]
          },
          "metadata": {},
          "execution_count": 9
        }
      ]
    },
    {
      "cell_type": "code",
      "source": [
        "import seaborn as sns\n",
        "\n",
        "sns.countplot(y=df['labels'])"
      ],
      "metadata": {
        "colab": {
          "base_uri": "https://localhost:8080/",
          "height": 466
        },
        "id": "hanaSv1AT_NM",
        "outputId": "2f5b34de-7c06-4d80-8b23-7d1bbc3684a3"
      },
      "execution_count": 10,
      "outputs": [
        {
          "output_type": "execute_result",
          "data": {
            "text/plain": [
              "<Axes: xlabel='count', ylabel='labels'>"
            ]
          },
          "metadata": {},
          "execution_count": 10
        },
        {
          "output_type": "display_data",
          "data": {
            "text/plain": [
              "<Figure size 640x480 with 1 Axes>"
            ],
            "image/png": "[encoded data removed]"
          },
          "metadata": {}
        }
      ]
    },
    {
      "cell_type": "markdown",
      "source": [
        "Only approximately 20% of the data contains spam sms"
      ],
      "metadata": {
        "id": "6U0P3ktbULcX"
      }
    },
    {
      "cell_type": "markdown",
      "source": [
        "## Data Pre-Processing"
      ],
      "metadata": {
        "id": "5omgL6-APywR"
      }
    },
    {
      "cell_type": "code",
      "source": [
        "# Checking missing values in data\n",
        "df.isnull().sum()"
      ],
      "metadata": {
        "colab": {
          "base_uri": "https://localhost:8080/"
        },
        "id": "LXVCnxgtT3Du",
        "outputId": "d058575a-86f1-40a9-e2b7-c59a1eed8c7c"
      },
      "execution_count": 11,
      "outputs": [
        {
          "output_type": "execute_result",
          "data": {
            "text/plain": [
              "Unnamed: 0     0\n",
              "labels         0\n",
              "text           0\n",
              "text_hi        0\n",
              "text_de        0\n",
              "text_fr        0\n",
              "text_es        0\n",
              "text_zh       26\n",
              "text_ar        1\n",
              "text_bn        0\n",
              "text_ru        0\n",
              "text_pt        0\n",
              "text_ja        0\n",
              "text_id        0\n",
              "text_ur        0\n",
              "text_pa        0\n",
              "text_jv        0\n",
              "text_tr        0\n",
              "text_ko       56\n",
              "text_mr        0\n",
              "text_uk        0\n",
              "text_sv        0\n",
              "text_no        0\n",
              "dtype: int64"
            ]
          },
          "metadata": {},
          "execution_count": 11
        }
      ]
    },
    {
      "cell_type": "code",
      "source": [
        "# dropping the rows with missing values\n",
        "df = df.dropna()\n",
        "df.isnull().sum()"
      ],
      "metadata": {
        "colab": {
          "base_uri": "https://localhost:8080/"
        },
        "id": "fgMrlLAmUiJ_",
        "outputId": "ff1c7d6e-ca98-4310-b27f-181bcd5fc3b3"
      },
      "execution_count": 12,
      "outputs": [
        {
          "output_type": "execute_result",
          "data": {
            "text/plain": [
              "Unnamed: 0    0\n",
              "labels        0\n",
              "text          0\n",
              "text_hi       0\n",
              "text_de       0\n",
              "text_fr       0\n",
              "text_es       0\n",
              "text_zh       0\n",
              "text_ar       0\n",
              "text_bn       0\n",
              "text_ru       0\n",
              "text_pt       0\n",
              "text_ja       0\n",
              "text_id       0\n",
              "text_ur       0\n",
              "text_pa       0\n",
              "text_jv       0\n",
              "text_tr       0\n",
              "text_ko       0\n",
              "text_mr       0\n",
              "text_uk       0\n",
              "text_sv       0\n",
              "text_no       0\n",
              "dtype: int64"
            ]
          },
          "metadata": {},
          "execution_count": 12
        }
      ]
    },
    {
      "cell_type": "markdown",
      "source": [
        "Let us have an example on a text of how we are going to process our data"
      ],
      "metadata": {
        "id": "bkFUwBMGQLu2"
      }
    },
    {
      "cell_type": "code",
      "source": [
        "# Importing Regular Expression library\n",
        "import re\n",
        "\n",
        "# Removing the unwanted special characters. Numbers and money signs are kept as they are important factor in spam sms\n",
        "text = re.sub(r'[.,?/`~&*]', '', 'Dakag बिंदु&& तक \"जाओ\", पागल. केवल Bag Non   महान विश्व cag में उपलब्ध है... वहाँ एक अधिक wack मिला...')\n",
        "text"
      ],
      "metadata": {
        "colab": {
          "base_uri": "https://localhost:8080/",
          "height": 35
        },
        "id": "6WzqimiaK35o",
        "outputId": "478e8f38-adb9-4352-b54d-8b45cc5b21ba"
      },
      "execution_count": 13,
      "outputs": [
        {
          "output_type": "execute_result",
          "data": {
            "text/plain": [
              "'Dakag बिंदु तक \"जाओ\" पागल केवल Bag Non   महान विश्व cag में उपलब्ध है वहाँ एक अधिक wack मिला'"
            ],
            "application/vnd.google.colaboratory.intrinsic+json": {
              "type": "string"
            }
          },
          "metadata": {},
          "execution_count": 13
        }
      ]
    },
    {
      "cell_type": "code",
      "source": [
        "# If the translated text contains english letters or words, they are to be converted to lowercase\n",
        "text = text.lower().strip()\n",
        "text"
      ],
      "metadata": {
        "colab": {
          "base_uri": "https://localhost:8080/",
          "height": 35
        },
        "id": "_NP3E3FDMaLb",
        "outputId": "71f5eb1a-aeed-47bb-b9ae-5521ba3925c2"
      },
      "execution_count": 14,
      "outputs": [
        {
          "output_type": "execute_result",
          "data": {
            "text/plain": [
              "'dakag बिंदु तक \"जाओ\" पागल केवल bag non   महान विश्व cag में उपलब्ध है वहाँ एक अधिक wack मिला'"
            ],
            "application/vnd.google.colaboratory.intrinsic+json": {
              "type": "string"
            }
          },
          "metadata": {},
          "execution_count": 14
        }
      ]
    },
    {
      "cell_type": "code",
      "source": [
        "# Removing the punctuation marks\n",
        "import string\n",
        "\n",
        "translator = str.maketrans('', '', string.punctuation)\n",
        "text = text.translate(translator)\n",
        "text"
      ],
      "metadata": {
        "colab": {
          "base_uri": "https://localhost:8080/",
          "height": 35
        },
        "id": "wS3nojEGLn2g",
        "outputId": "000936c9-2b65-49f7-b36e-1e5107561a03"
      },
      "execution_count": 15,
      "outputs": [
        {
          "output_type": "execute_result",
          "data": {
            "text/plain": [
              "'dakag बिंदु तक जाओ पागल केवल bag non   महान विश्व cag में उपलब्ध है वहाँ एक अधिक wack मिला'"
            ],
            "application/vnd.google.colaboratory.intrinsic+json": {
              "type": "string"
            }
          },
          "metadata": {},
          "execution_count": 15
        }
      ]
    },
    {
      "cell_type": "code",
      "source": [
        "# Removing extra space from the text\n",
        "text=re.sub(' +', ' ', text)\n",
        "text"
      ],
      "metadata": {
        "colab": {
          "base_uri": "https://localhost:8080/",
          "height": 35
        },
        "id": "NhCRYFBGK_Qw",
        "outputId": "6035e926-2d6b-4eca-dd13-748ad36add75"
      },
      "execution_count": 16,
      "outputs": [
        {
          "output_type": "execute_result",
          "data": {
            "text/plain": [
              "'dakag बिंदु तक जाओ पागल केवल bag non महान विश्व cag में उपलब्ध है वहाँ एक अधिक wack मिला'"
            ],
            "application/vnd.google.colaboratory.intrinsic+json": {
              "type": "string"
            }
          },
          "metadata": {},
          "execution_count": 16
        }
      ]
    },
    {
      "cell_type": "markdown",
      "source": [
        "In the same way, pre-processing the complete dataset"
      ],
      "metadata": {
        "id": "OeNPPdnIS8cU"
      }
    },
    {
      "cell_type": "code",
      "source": [
        "# function for all the steps of pre-processing\n",
        "def preprocess(text):\n",
        "  text = re.sub(r'[.,?/`~&*]', '', text)\n",
        "  text = text.lower().strip()\n",
        "  text = text.translate(translator)\n",
        "  text = re.sub(' +', ' ', text)\n",
        "  return text"
      ],
      "metadata": {
        "id": "kOaWCDVxWPHD"
      },
      "execution_count": 17,
      "outputs": []
    },
    {
      "cell_type": "code",
      "source": [
        "text_columns = df.columns[2:]\n",
        "for col in text_columns:\n",
        "    df[col] = df[col].apply(preprocess)"
      ],
      "metadata": {
        "id": "WPzvsZeCYC2i"
      },
      "execution_count": 18,
      "outputs": []
    },
    {
      "cell_type": "code",
      "source": [
        "df.head()"
      ],
      "metadata": {
        "colab": {
          "base_uri": "https://localhost:8080/",
          "height": 880
        },
        "id": "LpSmapMEWS7G",
        "outputId": "344676ea-dc23-4b09-d855-9d38fb8e259e"
      },
      "execution_count": 19,
      "outputs": [
        {
          "output_type": "execute_result",
          "data": {
            "text/plain": [
              "   Unnamed: 0 labels                                               text  \\\n",
              "0           0    ham  go until jurong point crazy available only in ...   \n",
              "1           1    ham                            ok lar joking wif u oni   \n",
              "2           2   spam  free entry in 2 a wkly comp to win fa cup fina...   \n",
              "3           3    ham        u dun say so early hor u c already then say   \n",
              "4           4    ham  nah i dont think he goes to usf he lives aroun...   \n",
              "\n",
              "                                             text_hi  \\\n",
              "0  dakag बिंदु तक जाओ पागल केवल bag non महान विश्...   \n",
              "1                              ओके लामर if if uue पर   \n",
              "2  fktatatat 21 मई को प्राप्त करने के लिए मुफ्त प...   \n",
              "3  uden इतना जल्दी कहते हैं तो पहले से ही यूसी कह...   \n",
              "4  नहीं मुझे नहीं लगता कि वह हमारे लिए चला जाता ह...   \n",
              "\n",
              "                                             text_de  \\\n",
              "0  gehen sie bis jurong punkt verrückt verfügbar ...   \n",
              "1                            ok lar joking wif u oni   \n",
              "2  freier eintritt in 2 a wkly comp zum gewinn fa...   \n",
              "3           u dun sagen so früh u c schon dann sagen   \n",
              "4  nein ich glaube nicht dass er zu unsf geht er ...   \n",
              "\n",
              "                                             text_fr  \\\n",
              "0  allez jusquà jurong point fou disponible seule...   \n",
              "1               jai fait une blague sur le wif u oni   \n",
              "2  entrée libre dans 2 a wkly comp pour gagner fa...   \n",
              "3           u dun dit si tôt hor u c déjà dire alors   \n",
              "4  non je ne pense pas quil va à usf il vit dans ...   \n",
              "\n",
              "                                             text_es  \\\n",
              "0  go until jurong point crazy available only in ...   \n",
              "1                            bueno la broma la broma   \n",
              "2  ingreso gratuito en 2 a wkly comp para ganar f...   \n",
              "3   u dun dice tan temprano hor u c ya entonces dice   \n",
              "4           no creo que vaya a la usf pero vive aquí   \n",
              "\n",
              "                                             text_zh  \\\n",
              "0  走到陪审点疯狂 仅在 bugis n great world la e buffet cin...   \n",
              "1                                  哈哈哈哈哈哈哈哈哈哈哈哈哈哈哈哈哈   \n",
              "2  免费入场 2 a wkly comp 获胜 fa 杯决赛 tkts 2005年5月21日 文...   \n",
              "3                              u dun 说得这么早 u c 说得这么早   \n",
              "4                                 好吧我不认为他去usf他住在这里虽然   \n",
              "\n",
              "                                             text_ar  \\\n",
              "0  الذهاب إلى نقطة الجورج، مجنون متوفر فقط في bug...   \n",
              "1                        نعم نعم نعم نعم نعم نعم نعم   \n",
              "2  إدخال مجاني في 2 a wkly comp للفوز fa cup fina...   \n",
              "3  وَقَالَ رَسُولُ اللَّهِ صَلَّى اللَّهُ عَلَيْه...   \n",
              "4  أنا لا أعتقد أنه يذهب إلى usf ، لكنه يعيش هنا ...   \n",
              "\n",
              "                                             text_bn  ...  \\\n",
              "0  যান যান যান যান যান যান যান যান যান যান যান যা...  ...   \n",
              "1    হ্যাঁ হ্যাঁ হ্যাঁ হ্যাঁ হ্যাঁ হ্যাঁ হ্যাঁ হ্যাঁ  ...   \n",
              "2  বিনামূল্যে প্রবেশ 2 a wkly comp বিজয় fa কাপ ফ...  ...   \n",
              "3  কখনো কখনো কখনো কখনো কখনো কখনো কখনো কখনো কখনো ক...  ...   \n",
              "4  আমি মনে করি তিনি ইউএসএফে যেতে পারবেন না তিনি এ...  ...   \n",
              "\n",
              "                                             text_id  \\\n",
              "0  pergi sampai jurong point gila tersedia hanya ...   \n",
              "1                   awalnya ia bergurau dengan wif u   \n",
              "2  free entry in 2 a wkly comp to win fa cup fina...   \n",
              "3  u dun berkata begitu awal hor u c sudah kemudi...   \n",
              "4  saya tidak berpikir dia pergi ke usf dia tingg...   \n",
              "\n",
              "                                             text_ur  \\\n",
              "0  جاؤ جب تک جورج پوائنٹ، پاگل دستیاب صرف میں bug...   \n",
              "1       ہا ہا ہا ہا ہا ہا ہا ہا ہا ہا ہا ہا ہا ہا ہا   \n",
              "2  مفت انٹرویو میں 2 a wkly comp جیتنے کے لئے fa ...   \n",
              "3  u dun کہتے ہیں اتنا جلدی hor u c پہلے ہی کہتے ہیں   \n",
              "4  مجھے نہیں لگتا کہ وہ یو ایس ایف میں جا رہا ہے،...   \n",
              "\n",
              "                                             text_pa  \\\n",
              "0  ਗਾਹਕ ਤੇ ਗਾਹਕ ਤੇ ਗਾਹਕ ਤੇ ਗਾਹਕ ਤੇ ਗਾਹਕ ਤੇ ਗਾਹਕ ਤ...   \n",
              "1                            ok lar joking wif u oni   \n",
              "2  free entry in 2 a wkly comp to win fa cup fina...   \n",
              "3  u dun says so early hor u c already then says ...   \n",
              "4  ਹੈ ਮੈਨੂੰ ਇਸ ਨੂੰ usf ਵਿੱਚ ਜਾ ਰਿਹਾ ਹੈ ਨਾ ਹੈ ਇਸ ਨ...   \n",
              "\n",
              "                                             text_jv  \\\n",
              "0  ing titik jurong crazydapat ora ing bugis n gr...   \n",
              "1    lan lan lan lan lan lan lan lan lan lan lan lan   \n",
              "2  free entry in 2 a wkly comp kanggo menang fa c...   \n",
              "3            u dun saka begitu awal hor u c uga saka   \n",
              "4            dheweke ana ing usf nanging iku ana ing   \n",
              "\n",
              "                                             text_tr  \\\n",
              "0  yürüyüş noktasına kadar gidin çılgın sadece bu...   \n",
              "1          hayır hayır hayır hayır hayır hayır hayır   \n",
              "2  free entry in 2 a wkly comp to win fa cup fina...   \n",
              "3  u dun diyor o kadar erken hor u c zaten o zama...   \n",
              "4          bence o usfye gitmiyor ama burada yaşıyor   \n",
              "\n",
              "                                             text_ko  \\\n",
              "0  조롱 포인트까지 가라 미친 오직 bugis n great world la e buf...   \n",
              "1                     ᄏᄏᄏᄏᄏᄏᄏᄏᄏᄏᄏᄏᄏᄏᄏᄏᄏᄏᄏᄏᄏᄏᄏᄏᄏᄏᄏᄏᄏᄏ   \n",
              "2  무료 입장 2 a wkly comp 승리 fa 컵 결승전 tkts 2005년 5월 ...   \n",
              "3           ᄏᄏᄏᄏᄏᄏᄏᄏᄏᄏᄏᄏᄏᄏᄏᄏᄏᄏᄏᄏᄏᄏᄏᄏᄏᄏᄏᄏᄏᄏᄏᄏᄏᄏᄏᄏᄏᄏᄏᄏ   \n",
              "4          나는 그가 usf에 가고 있다고 생각하지 않습니다 그는 여기에 살고 있지만   \n",
              "\n",
              "                                             text_mr  \\\n",
              "0  जॉर्ज बिंदुपर्यंत जा पागल उपलब्ध फक्त bugis n ...   \n",
              "1                      शंका आहोत शंका आहोत शंका आहोत   \n",
              "2  मुक्त प्रवेश 2 a wkly comp विजेता fa कप फाइनल ...   \n",
              "3  त्याचबरोबरच त्याचबरोबरच त्याचबरोबरच त्याचबरोबर...   \n",
              "4  मला वाटत नाही की तो यूएसएफमध्ये जातो पण तिथे र...   \n",
              "\n",
              "                                             text_uk  \\\n",
              "0  ідіть до пункту присяги божевільний доступно т...   \n",
              "1                     звичайно ж це жартує про те що   \n",
              "2  безкоштовний вхід у 2 а wkly comp виграти фа к...   \n",
              "3     у дуні так рано говорити у c вже тоді говорити   \n",
              "4      я не думаю що він йде в усф він живе тут хоча   \n",
              "\n",
              "                                             text_sv  \\\n",
              "0  go till jurong point crazy tillgänglig bara i ...   \n",
              "1                            ok lar joking wif u oni   \n",
              "2  fri entré i 2 a wkly comp för att vinna fa cup...   \n",
              "3       u dun säger så tidigt hor u c säger redan då   \n",
              "4  nej jag tror inte att han går till usf han bor...   \n",
              "\n",
              "                                             text_no  \n",
              "0  gå til jurong point gal tilgjengelig bare i bu...  \n",
              "1                            ok lar joking wif u oni  \n",
              "2  free entry in 2 a wkly comp to win fa cup fina...  \n",
              "3      u dun sier så tidlig hor u c sier allerede da  \n",
              "4  nei jeg tror ikke han går til usf han bor rund...  \n",
              "\n",
              "[5 rows x 23 columns]"
            ],
            "text/html": [
              "\n",
              "  <div id=\"df-b15654cc-2543-425c-afcf-7871eeb54fbb\" class=\"colab-df-container\">\n",
              "    <div>\n",
              "<style scoped>\n",
              "    .dataframe tbody tr th:only-of-type {\n",
              "        vertical-align: middle;\n",
              "    }\n",
              "\n",
              "    .dataframe tbody tr th {\n",
              "        vertical-align: top;\n",
              "    }\n",
              "\n",
              "    .dataframe thead th {\n",
              "        text-align: right;\n",
              "    }\n",
              "</style>\n",
              "<table border=\"1\" class=\"dataframe\">\n",
              "  <thead>\n",
              "    <tr style=\"text-align: right;\">\n",
              "      <th></th>\n",
              "      <th>Unnamed: 0</th>\n",
              "      <th>labels</th>\n",
              "      <th>text</th>\n",
              "      <th>text_hi</th>\n",
              "      <th>text_de</th>\n",
              "      <th>text_fr</th>\n",
              "      <th>text_es</th>\n",
              "      <th>text_zh</th>\n",
              "      <th>text_ar</th>\n",
              "      <th>text_bn</th>\n",
              "      <th>...</th>\n",
              "      <th>text_id</th>\n",
              "      <th>text_ur</th>\n",
              "      <th>text_pa</th>\n",
              "      <th>text_jv</th>\n",
              "      <th>text_tr</th>\n",
              "      <th>text_ko</th>\n",
              "      <th>text_mr</th>\n",
              "      <th>text_uk</th>\n",
              "      <th>text_sv</th>\n",
              "      <th>text_no</th>\n",
              "    </tr>\n",
              "  </thead>\n",
              "  <tbody>\n",
              "    <tr>\n",
              "      <th>0</th>\n",
              "      <td>0</td>\n",
              "      <td>ham</td>\n",
              "      <td>go until jurong point crazy available only in ...</td>\n",
              "      <td>dakag बिंदु तक जाओ पागल केवल bag non महान विश्...</td>\n",
              "      <td>gehen sie bis jurong punkt verrückt verfügbar ...</td>\n",
              "      <td>allez jusquà jurong point fou disponible seule...</td>\n",
              "      <td>go until jurong point crazy available only in ...</td>\n",
              "      <td>走到陪审点疯狂 仅在 bugis n great world la e buffet cin...</td>\n",
              "      <td>الذهاب إلى نقطة الجورج، مجنون متوفر فقط في bug...</td>\n",
              "      <td>যান যান যান যান যান যান যান যান যান যান যান যা...</td>\n",
              "      <td>...</td>\n",
              "      <td>pergi sampai jurong point gila tersedia hanya ...</td>\n",
              "      <td>جاؤ جب تک جورج پوائنٹ، پاگل دستیاب صرف میں bug...</td>\n",
              "      <td>ਗਾਹਕ ਤੇ ਗਾਹਕ ਤੇ ਗਾਹਕ ਤੇ ਗਾਹਕ ਤੇ ਗਾਹਕ ਤੇ ਗਾਹਕ ਤ...</td>\n",
              "      <td>ing titik jurong crazydapat ora ing bugis n gr...</td>\n",
              "      <td>yürüyüş noktasına kadar gidin çılgın sadece bu...</td>\n",
              "      <td>조롱 포인트까지 가라 미친 오직 bugis n great world la e buf...</td>\n",
              "      <td>जॉर्ज बिंदुपर्यंत जा पागल उपलब्ध फक्त bugis n ...</td>\n",
              "      <td>ідіть до пункту присяги божевільний доступно т...</td>\n",
              "      <td>go till jurong point crazy tillgänglig bara i ...</td>\n",
              "      <td>gå til jurong point gal tilgjengelig bare i bu...</td>\n",
              "    </tr>\n",
              "    <tr>\n",
              "      <th>1</th>\n",
              "      <td>1</td>\n",
              "      <td>ham</td>\n",
              "      <td>ok lar joking wif u oni</td>\n",
              "      <td>ओके लामर if if uue पर</td>\n",
              "      <td>ok lar joking wif u oni</td>\n",
              "      <td>jai fait une blague sur le wif u oni</td>\n",
              "      <td>bueno la broma la broma</td>\n",
              "      <td>哈哈哈哈哈哈哈哈哈哈哈哈哈哈哈哈哈</td>\n",
              "      <td>نعم نعم نعم نعم نعم نعم نعم</td>\n",
              "      <td>হ্যাঁ হ্যাঁ হ্যাঁ হ্যাঁ হ্যাঁ হ্যাঁ হ্যাঁ হ্যাঁ</td>\n",
              "      <td>...</td>\n",
              "      <td>awalnya ia bergurau dengan wif u</td>\n",
              "      <td>ہا ہا ہا ہا ہا ہا ہا ہا ہا ہا ہا ہا ہا ہا ہا</td>\n",
              "      <td>ok lar joking wif u oni</td>\n",
              "      <td>lan lan lan lan lan lan lan lan lan lan lan lan</td>\n",
              "      <td>hayır hayır hayır hayır hayır hayır hayır</td>\n",
              "      <td>ᄏᄏᄏᄏᄏᄏᄏᄏᄏᄏᄏᄏᄏᄏᄏᄏᄏᄏᄏᄏᄏᄏᄏᄏᄏᄏᄏᄏᄏᄏ</td>\n",
              "      <td>शंका आहोत शंका आहोत शंका आहोत</td>\n",
              "      <td>звичайно ж це жартує про те що</td>\n",
              "      <td>ok lar joking wif u oni</td>\n",
              "      <td>ok lar joking wif u oni</td>\n",
              "    </tr>\n",
              "    <tr>\n",
              "      <th>2</th>\n",
              "      <td>2</td>\n",
              "      <td>spam</td>\n",
              "      <td>free entry in 2 a wkly comp to win fa cup fina...</td>\n",
              "      <td>fktatatat 21 मई को प्राप्त करने के लिए मुफ्त प...</td>\n",
              "      <td>freier eintritt in 2 a wkly comp zum gewinn fa...</td>\n",
              "      <td>entrée libre dans 2 a wkly comp pour gagner fa...</td>\n",
              "      <td>ingreso gratuito en 2 a wkly comp para ganar f...</td>\n",
              "      <td>免费入场 2 a wkly comp 获胜 fa 杯决赛 tkts 2005年5月21日 文...</td>\n",
              "      <td>إدخال مجاني في 2 a wkly comp للفوز fa cup fina...</td>\n",
              "      <td>বিনামূল্যে প্রবেশ 2 a wkly comp বিজয় fa কাপ ফ...</td>\n",
              "      <td>...</td>\n",
              "      <td>free entry in 2 a wkly comp to win fa cup fina...</td>\n",
              "      <td>مفت انٹرویو میں 2 a wkly comp جیتنے کے لئے fa ...</td>\n",
              "      <td>free entry in 2 a wkly comp to win fa cup fina...</td>\n",
              "      <td>free entry in 2 a wkly comp kanggo menang fa c...</td>\n",
              "      <td>free entry in 2 a wkly comp to win fa cup fina...</td>\n",
              "      <td>무료 입장 2 a wkly comp 승리 fa 컵 결승전 tkts 2005년 5월 ...</td>\n",
              "      <td>मुक्त प्रवेश 2 a wkly comp विजेता fa कप फाइनल ...</td>\n",
              "      <td>безкоштовний вхід у 2 а wkly comp виграти фа к...</td>\n",
              "      <td>fri entré i 2 a wkly comp för att vinna fa cup...</td>\n",
              "      <td>free entry in 2 a wkly comp to win fa cup fina...</td>\n",
              "    </tr>\n",
              "    <tr>\n",
              "      <th>3</th>\n",
              "      <td>3</td>\n",
              "      <td>ham</td>\n",
              "      <td>u dun say so early hor u c already then say</td>\n",
              "      <td>uden इतना जल्दी कहते हैं तो पहले से ही यूसी कह...</td>\n",
              "      <td>u dun sagen so früh u c schon dann sagen</td>\n",
              "      <td>u dun dit si tôt hor u c déjà dire alors</td>\n",
              "      <td>u dun dice tan temprano hor u c ya entonces dice</td>\n",
              "      <td>u dun 说得这么早 u c 说得这么早</td>\n",
              "      <td>وَقَالَ رَسُولُ اللَّهِ صَلَّى اللَّهُ عَلَيْه...</td>\n",
              "      <td>কখনো কখনো কখনো কখনো কখনো কখনো কখনো কখনো কখনো ক...</td>\n",
              "      <td>...</td>\n",
              "      <td>u dun berkata begitu awal hor u c sudah kemudi...</td>\n",
              "      <td>u dun کہتے ہیں اتنا جلدی hor u c پہلے ہی کہتے ہیں</td>\n",
              "      <td>u dun says so early hor u c already then says ...</td>\n",
              "      <td>u dun saka begitu awal hor u c uga saka</td>\n",
              "      <td>u dun diyor o kadar erken hor u c zaten o zama...</td>\n",
              "      <td>ᄏᄏᄏᄏᄏᄏᄏᄏᄏᄏᄏᄏᄏᄏᄏᄏᄏᄏᄏᄏᄏᄏᄏᄏᄏᄏᄏᄏᄏᄏᄏᄏᄏᄏᄏᄏᄏᄏᄏᄏ</td>\n",
              "      <td>त्याचबरोबरच त्याचबरोबरच त्याचबरोबरच त्याचबरोबर...</td>\n",
              "      <td>у дуні так рано говорити у c вже тоді говорити</td>\n",
              "      <td>u dun säger så tidigt hor u c säger redan då</td>\n",
              "      <td>u dun sier så tidlig hor u c sier allerede da</td>\n",
              "    </tr>\n",
              "    <tr>\n",
              "      <th>4</th>\n",
              "      <td>4</td>\n",
              "      <td>ham</td>\n",
              "      <td>nah i dont think he goes to usf he lives aroun...</td>\n",
              "      <td>नहीं मुझे नहीं लगता कि वह हमारे लिए चला जाता ह...</td>\n",
              "      <td>nein ich glaube nicht dass er zu unsf geht er ...</td>\n",
              "      <td>non je ne pense pas quil va à usf il vit dans ...</td>\n",
              "      <td>no creo que vaya a la usf pero vive aquí</td>\n",
              "      <td>好吧我不认为他去usf他住在这里虽然</td>\n",
              "      <td>أنا لا أعتقد أنه يذهب إلى usf ، لكنه يعيش هنا ...</td>\n",
              "      <td>আমি মনে করি তিনি ইউএসএফে যেতে পারবেন না তিনি এ...</td>\n",
              "      <td>...</td>\n",
              "      <td>saya tidak berpikir dia pergi ke usf dia tingg...</td>\n",
              "      <td>مجھے نہیں لگتا کہ وہ یو ایس ایف میں جا رہا ہے،...</td>\n",
              "      <td>ਹੈ ਮੈਨੂੰ ਇਸ ਨੂੰ usf ਵਿੱਚ ਜਾ ਰਿਹਾ ਹੈ ਨਾ ਹੈ ਇਸ ਨ...</td>\n",
              "      <td>dheweke ana ing usf nanging iku ana ing</td>\n",
              "      <td>bence o usfye gitmiyor ama burada yaşıyor</td>\n",
              "      <td>나는 그가 usf에 가고 있다고 생각하지 않습니다 그는 여기에 살고 있지만</td>\n",
              "      <td>मला वाटत नाही की तो यूएसएफमध्ये जातो पण तिथे र...</td>\n",
              "      <td>я не думаю що він йде в усф він живе тут хоча</td>\n",
              "      <td>nej jag tror inte att han går till usf han bor...</td>\n",
              "      <td>nei jeg tror ikke han går til usf han bor rund...</td>\n",
              "    </tr>\n",
              "  </tbody>\n",
              "</table>\n",
              "<p>5 rows × 23 columns</p>\n",
              "</div>\n",
              "    <div class=\"colab-df-buttons\">\n",
              "\n",
              "  <div class=\"colab-df-container\">\n",
              "    <button class=\"colab-df-convert\" onclick=\"convertToInteractive('df-b15654cc-2543-425c-afcf-7871eeb54fbb')\"\n",
              "            title=\"Convert this dataframe to an interactive table.\"\n",
              "            style=\"display:none;\">\n",
              "\n",
              "  <svg xmlns=\"http://www.w3.org/2000/svg\" height=\"24px\" viewBox=\"0 -960 960 960\">\n",
              "    <path d=\"M120-120v-720h720v720H120Zm60-500h600v-160H180v160Zm220 220h160v-160H400v160Zm0 220h160v-160H400v160ZM180-400h160v-160H180v160Zm440 0h160v-160H620v160ZM180-180h160v-160H180v160Zm440 0h160v-160H620v160Z\"/>\n",
              "  </svg>\n",
              "    </button>\n",
              "\n",
              "  <style>\n",
              "    .colab-df-container {\n",
              "      display:flex;\n",
              "      gap: 12px;\n",
              "    }\n",
              "\n",
              "    .colab-df-convert {\n",
              "      background-color: #E8F0FE;\n",
              "      border: none;\n",
              "      border-radius: 50%;\n",
              "      cursor: pointer;\n",
              "      display: none;\n",
              "      fill: #1967D2;\n",
              "      height: 32px;\n",
              "      padding: 0 0 0 0;\n",
              "      width: 32px;\n",
              "    }\n",
              "\n",
              "    .colab-df-convert:hover {\n",
              "      background-color: #E2EBFA;\n",
              "      box-shadow: 0px 1px 2px rgba(60, 64, 67, 0.3), 0px 1px 3px 1px rgba(60, 64, 67, 0.15);\n",
              "      fill: #174EA6;\n",
              "    }\n",
              "\n",
              "    .colab-df-buttons div {\n",
              "      margin-bottom: 4px;\n",
              "    }\n",
              "\n",
              "    [theme=dark] .colab-df-convert {\n",
              "      background-color: #3B4455;\n",
              "      fill: #D2E3FC;\n",
              "    }\n",
              "\n",
              "    [theme=dark] .colab-df-convert:hover {\n",
              "      background-color: #434B5C;\n",
              "      box-shadow: 0px 1px 3px 1px rgba(0, 0, 0, 0.15);\n",
              "      filter: drop-shadow(0px 1px 2px rgba(0, 0, 0, 0.3));\n",
              "      fill: #FFFFFF;\n",
              "    }\n",
              "  </style>\n",
              "\n",
              "    <script>\n",
              "      const buttonEl =\n",
              "        document.querySelector('#df-b15654cc-2543-425c-afcf-7871eeb54fbb button.colab-df-convert');\n",
              "      buttonEl.style.display =\n",
              "        google.colab.kernel.accessAllowed ? 'block' : 'none';\n",
              "\n",
              "      async function convertToInteractive(key) {\n",
              "        const element = document.querySelector('#df-b15654cc-2543-425c-afcf-7871eeb54fbb');\n",
              "        const dataTable =\n",
              "          await google.colab.kernel.invokeFunction('convertToInteractive',\n",
              "                                                    [key], {});\n",
              "        if (!dataTable) return;\n",
              "\n",
              "        const docLinkHtml = 'Like what you see? Visit the ' +\n",
              "          '<a target=\"_blank\" href=https://colab.research.google.com/notebooks/data_table.ipynb>data table notebook</a>'\n",
              "          + ' to learn more about interactive tables.';\n",
              "        element.innerHTML = '';\n",
              "        dataTable['output_type'] = 'display_data';\n",
              "        await google.colab.output.renderOutput(dataTable, element);\n",
              "        const docLink = document.createElement('div');\n",
              "        docLink.innerHTML = docLinkHtml;\n",
              "        element.appendChild(docLink);\n",
              "      }\n",
              "    </script>\n",
              "  </div>\n",
              "\n",
              "\n",
              "<div id=\"df-d5dc394a-b907-4d40-9fdc-ea3f82833bbc\">\n",
              "  <button class=\"colab-df-quickchart\" onclick=\"quickchart('df-d5dc394a-b907-4d40-9fdc-ea3f82833bbc')\"\n",
              "            title=\"Suggest charts\"\n",
              "            style=\"display:none;\">\n",
              "\n",
              "<svg xmlns=\"http://www.w3.org/2000/svg\" height=\"24px\"viewBox=\"0 0 24 24\"\n",
              "     width=\"24px\">\n",
              "    <g>\n",
              "        <path d=\"M19 3H5c-1.1 0-2 .9-2 2v14c0 1.1.9 2 2 2h14c1.1 0 2-.9 2-2V5c0-1.1-.9-2-2-2zM9 17H7v-7h2v7zm4 0h-2V7h2v10zm4 0h-2v-4h2v4z\"/>\n",
              "    </g>\n",
              "</svg>\n",
              "  </button>\n",
              "\n",
              "<style>\n",
              "  .colab-df-quickchart {\n",
              "      --bg-color: #E8F0FE;\n",
              "      --fill-color: #1967D2;\n",
              "      --hover-bg-color: #E2EBFA;\n",
              "      --hover-fill-color: #174EA6;\n",
              "      --disabled-fill-color: #AAA;\n",
              "      --disabled-bg-color: #DDD;\n",
              "  }\n",
              "\n",
              "  [theme=dark] .colab-df-quickchart {\n",
              "      --bg-color: #3B4455;\n",
              "      --fill-color: #D2E3FC;\n",
              "      --hover-bg-color: #434B5C;\n",
              "      --hover-fill-color: #FFFFFF;\n",
              "      --disabled-bg-color: #3B4455;\n",
              "      --disabled-fill-color: #666;\n",
              "  }\n",
              "\n",
              "  .colab-df-quickchart {\n",
              "    background-color: var(--bg-color);\n",
              "    border: none;\n",
              "    border-radius: 50%;\n",
              "    cursor: pointer;\n",
              "    display: none;\n",
              "    fill: var(--fill-color);\n",
              "    height: 32px;\n",
              "    padding: 0;\n",
              "    width: 32px;\n",
              "  }\n",
              "\n",
              "  .colab-df-quickchart:hover {\n",
              "    background-color: var(--hover-bg-color);\n",
              "    box-shadow: 0 1px 2px rgba(60, 64, 67, 0.3), 0 1px 3px 1px rgba(60, 64, 67, 0.15);\n",
              "    fill: var(--button-hover-fill-color);\n",
              "  }\n",
              "\n",
              "  .colab-df-quickchart-complete:disabled,\n",
              "  .colab-df-quickchart-complete:disabled:hover {\n",
              "    background-color: var(--disabled-bg-color);\n",
              "    fill: var(--disabled-fill-color);\n",
              "    box-shadow: none;\n",
              "  }\n",
              "\n",
              "  .colab-df-spinner {\n",
              "    border: 2px solid var(--fill-color);\n",
              "    border-color: transparent;\n",
              "    border-bottom-color: var(--fill-color);\n",
              "    animation:\n",
              "      spin 1s steps(1) infinite;\n",
              "  }\n",
              "\n",
              "  @keyframes spin {\n",
              "    0% {\n",
              "      border-color: transparent;\n",
              "      border-bottom-color: var(--fill-color);\n",
              "      border-left-color: var(--fill-color);\n",
              "    }\n",
              "    20% {\n",
              "      border-color: transparent;\n",
              "      border-left-color: var(--fill-color);\n",
              "      border-top-color: var(--fill-color);\n",
              "    }\n",
              "    30% {\n",
              "      border-color: transparent;\n",
              "      border-left-color: var(--fill-color);\n",
              "      border-top-color: var(--fill-color);\n",
              "      border-right-color: var(--fill-color);\n",
              "    }\n",
              "    40% {\n",
              "      border-color: transparent;\n",
              "      border-right-color: var(--fill-color);\n",
              "      border-top-color: var(--fill-color);\n",
              "    }\n",
              "    60% {\n",
              "      border-color: transparent;\n",
              "      border-right-color: var(--fill-color);\n",
              "    }\n",
              "    80% {\n",
              "      border-color: transparent;\n",
              "      border-right-color: var(--fill-color);\n",
              "      border-bottom-color: var(--fill-color);\n",
              "    }\n",
              "    90% {\n",
              "      border-color: transparent;\n",
              "      border-bottom-color: var(--fill-color);\n",
              "    }\n",
              "  }\n",
              "</style>\n",
              "\n",
              "  <script>\n",
              "    async function quickchart(key) {\n",
              "      const quickchartButtonEl =\n",
              "        document.querySelector('#' + key + ' button');\n",
              "      quickchartButtonEl.disabled = true;  // To prevent multiple clicks.\n",
              "      quickchartButtonEl.classList.add('colab-df-spinner');\n",
              "      try {\n",
              "        const charts = await google.colab.kernel.invokeFunction(\n",
              "            'suggestCharts', [key], {});\n",
              "      } catch (error) {\n",
              "        console.error('Error during call to suggestCharts:', error);\n",
              "      }\n",
              "      quickchartButtonEl.classList.remove('colab-df-spinner');\n",
              "      quickchartButtonEl.classList.add('colab-df-quickchart-complete');\n",
              "    }\n",
              "    (() => {\n",
              "      let quickchartButtonEl =\n",
              "        document.querySelector('#df-d5dc394a-b907-4d40-9fdc-ea3f82833bbc button');\n",
              "      quickchartButtonEl.style.display =\n",
              "        google.colab.kernel.accessAllowed ? 'block' : 'none';\n",
              "    })();\n",
              "  </script>\n",
              "</div>\n",
              "    </div>\n",
              "  </div>\n"
            ]
          },
          "metadata": {},
          "execution_count": 19
        }
      ]
    },
    {
      "cell_type": "code",
      "source": [
        "# Dropping the unwanted first column\n",
        "df = df.drop(df.columns[0], axis=1)\n",
        "df.columns"
      ],
      "metadata": {
        "colab": {
          "base_uri": "https://localhost:8080/"
        },
        "id": "RgXweQAIXFZm",
        "outputId": "e13f49c0-578c-48a9-f3cf-731d1d150902"
      },
      "execution_count": 20,
      "outputs": [
        {
          "output_type": "execute_result",
          "data": {
            "text/plain": [
              "Index(['labels', 'text', 'text_hi', 'text_de', 'text_fr', 'text_es', 'text_zh',\n",
              "       'text_ar', 'text_bn', 'text_ru', 'text_pt', 'text_ja', 'text_id',\n",
              "       'text_ur', 'text_pa', 'text_jv', 'text_tr', 'text_ko', 'text_mr',\n",
              "       'text_uk', 'text_sv', 'text_no'],\n",
              "      dtype='object')"
            ]
          },
          "metadata": {},
          "execution_count": 20
        }
      ]
    },
    {
      "cell_type": "code",
      "source": [
        "# Converting categorical label to numerical\n",
        "from sklearn.preprocessing import LabelEncoder\n",
        "\n",
        "le = LabelEncoder()\n",
        "le.fit(df[\"labels\"])"
      ],
      "metadata": {
        "colab": {
          "base_uri": "https://localhost:8080/",
          "height": 75
        },
        "id": "tXKaxfCiWVDa",
        "outputId": "04bb5a56-3e34-415e-c607-52af92776c28"
      },
      "execution_count": 21,
      "outputs": [
        {
          "output_type": "execute_result",
          "data": {
            "text/plain": [
              "LabelEncoder()"
            ],
            "text/html": [
              "<style>#sk-container-id-1 {color: black;background-color: white;}#sk-container-id-1 pre{padding: 0;}#sk-container-id-1 div.sk-toggleable {background-color: white;}#sk-container-id-1 label.sk-toggleable__label {cursor: pointer;display: block;width: 100%;margin-bottom: 0;padding: 0.3em;box-sizing: border-box;text-align: center;}#sk-container-id-1 label.sk-toggleable__label-arrow:before {content: \"▸\";float: left;margin-right: 0.25em;color: #696969;}#sk-container-id-1 label.sk-toggleable__label-arrow:hover:before {color: black;}#sk-container-id-1 div.sk-estimator:hover label.sk-toggleable__label-arrow:before {color: black;}#sk-container-id-1 div.sk-toggleable__content {max-height: 0;max-width: 0;overflow: hidden;text-align: left;background-color: #f0f8ff;}#sk-container-id-1 div.sk-toggleable__content pre {margin: 0.2em;color: black;border-radius: 0.25em;background-color: #f0f8ff;}#sk-container-id-1 input.sk-toggleable__control:checked~div.sk-toggleable__content {max-height: 200px;max-width: 100%;overflow: auto;}#sk-container-id-1 input.sk-toggleable__control:checked~label.sk-toggleable__label-arrow:before {content: \"▾\";}#sk-container-id-1 div.sk-estimator input.sk-toggleable__control:checked~label.sk-toggleable__label {background-color: #d4ebff;}#sk-container-id-1 div.sk-label input.sk-toggleable__control:checked~label.sk-toggleable__label {background-color: #d4ebff;}#sk-container-id-1 input.sk-hidden--visually {border: 0;clip: rect(1px 1px 1px 1px);clip: rect(1px, 1px, 1px, 1px);height: 1px;margin: -1px;overflow: hidden;padding: 0;position: absolute;width: 1px;}#sk-container-id-1 div.sk-estimator {font-family: monospace;background-color: #f0f8ff;border: 1px dotted black;border-radius: 0.25em;box-sizing: border-box;margin-bottom: 0.5em;}#sk-container-id-1 div.sk-estimator:hover {background-color: #d4ebff;}#sk-container-id-1 div.sk-parallel-item::after {content: \"\";width: 100%;border-bottom: 1px solid gray;flex-grow: 1;}#sk-container-id-1 div.sk-label:hover label.sk-toggleable__label {background-color: #d4ebff;}#sk-container-id-1 div.sk-serial::before {content: \"\";position: absolute;border-left: 1px solid gray;box-sizing: border-box;top: 0;bottom: 0;left: 50%;z-index: 0;}#sk-container-id-1 div.sk-serial {display: flex;flex-direction: column;align-items: center;background-color: white;padding-right: 0.2em;padding-left: 0.2em;position: relative;}#sk-container-id-1 div.sk-item {position: relative;z-index: 1;}#sk-container-id-1 div.sk-parallel {display: flex;align-items: stretch;justify-content: center;background-color: white;position: relative;}#sk-container-id-1 div.sk-item::before, #sk-container-id-1 div.sk-parallel-item::before {content: \"\";position: absolute;border-left: 1px solid gray;box-sizing: border-box;top: 0;bottom: 0;left: 50%;z-index: -1;}#sk-container-id-1 div.sk-parallel-item {display: flex;flex-direction: column;z-index: 1;position: relative;background-color: white;}#sk-container-id-1 div.sk-parallel-item:first-child::after {align-self: flex-end;width: 50%;}#sk-container-id-1 div.sk-parallel-item:last-child::after {align-self: flex-start;width: 50%;}#sk-container-id-1 div.sk-parallel-item:only-child::after {width: 0;}#sk-container-id-1 div.sk-dashed-wrapped {border: 1px dashed gray;margin: 0 0.4em 0.5em 0.4em;box-sizing: border-box;padding-bottom: 0.4em;background-color: white;}#sk-container-id-1 div.sk-label label {font-family: monospace;font-weight: bold;display: inline-block;line-height: 1.2em;}#sk-container-id-1 div.sk-label-container {text-align: center;}#sk-container-id-1 div.sk-container {/* jupyter's `normalize.less` sets `[hidden] { display: none; }` but bootstrap.min.css set `[hidden] { display: none !important; }` so we also need the `!important` here to be able to override the default hidden behavior on the sphinx rendered scikit-learn.org. See: https://github.com/scikit-learn/scikit-learn/issues/21755 */display: inline-block !important;position: relative;}#sk-container-id-1 div.sk-text-repr-fallback {display: none;}</style><div id=\"sk-container-id-1\" class=\"sk-top-container\"><div class=\"sk-text-repr-fallback\"><pre>LabelEncoder()</pre><b>In a Jupyter environment, please rerun this cell to show the HTML representation or trust the notebook. <br />On GitHub, the HTML representation is unable to render, please try loading this page with nbviewer.org.</b></div><div class=\"sk-container\" hidden><div class=\"sk-item\"><div class=\"sk-estimator sk-toggleable\"><input class=\"sk-toggleable__control sk-hidden--visually\" id=\"sk-estimator-id-1\" type=\"checkbox\" checked><label for=\"sk-estimator-id-1\" class=\"sk-toggleable__label sk-toggleable__label-arrow\">LabelEncoder</label><div class=\"sk-toggleable__content\"><pre>LabelEncoder()</pre></div></div></div></div></div>"
            ]
          },
          "metadata": {},
          "execution_count": 21
        }
      ]
    },
    {
      "cell_type": "code",
      "source": [
        "df[\"labels\"] = le.transform(df[\"labels\"])\n",
        "df.labels.unique()"
      ],
      "metadata": {
        "colab": {
          "base_uri": "https://localhost:8080/"
        },
        "id": "_6pYxk5aZNku",
        "outputId": "830aadd5-3af5-47b5-eb14-961fba0b9ad0"
      },
      "execution_count": 22,
      "outputs": [
        {
          "output_type": "execute_result",
          "data": {
            "text/plain": [
              "array([0, 1])"
            ]
          },
          "metadata": {},
          "execution_count": 22
        }
      ]
    },
    {
      "cell_type": "markdown",
      "source": [
        "## Classical ML Models"
      ],
      "metadata": {
        "id": "b58fp2Dp44Ka"
      }
    },
    {
      "cell_type": "markdown",
      "source": [
        "### Further Pre-Processing"
      ],
      "metadata": {
        "id": "GbLofe0L5v2v"
      }
    },
    {
      "cell_type": "markdown",
      "source": [
        "Further Pre-processing consists of Tokenizing the text data and removing stop-words specific to languages."
      ],
      "metadata": {
        "id": "GmtTv9_r56RY"
      }
    },
    {
      "cell_type": "code",
      "source": [
        "import nltk\n",
        "from nltk.corpus import stopwords\n",
        "from nltk.tokenize import word_tokenize"
      ],
      "metadata": {
        "id": "28t4WIT05f37"
      },
      "execution_count": 23,
      "outputs": []
    },
    {
      "cell_type": "code",
      "source": [
        "# Download NLTK resources\n",
        "nltk.download('punkt')\n",
        "nltk.download('stopwords')"
      ],
      "metadata": {
        "colab": {
          "base_uri": "https://localhost:8080/"
        },
        "id": "AcTQfrZ65ib7",
        "outputId": "57f9e1ef-4bd1-41c8-9584-753dd12bd3ce"
      },
      "execution_count": 24,
      "outputs": [
        {
          "output_type": "stream",
          "name": "stderr",
          "text": [
            "[nltk_data] Downloading package punkt to /root/nltk_data...\n",
            "[nltk_data]   Package punkt is already up-to-date!\n",
            "[nltk_data] Downloading package stopwords to /root/nltk_data...\n",
            "[nltk_data]   Package stopwords is already up-to-date!\n"
          ]
        },
        {
          "output_type": "execute_result",
          "data": {
            "text/plain": [
              "True"
            ]
          },
          "metadata": {},
          "execution_count": 24
        }
      ]
    },
    {
      "cell_type": "code",
      "source": [
        "def preprocess_text(text, language):\n",
        "  stop_words = set(stopwords.words(language))\n",
        "  words = word_tokenize(text)\n",
        "  return ' '.join(words)"
      ],
      "metadata": {
        "id": "t7BjovIv7P2E"
      },
      "execution_count": 25,
      "outputs": []
    },
    {
      "cell_type": "code",
      "source": [
        "# Although our modeling works for all languages, we will consider 4 languages, English which is the main one, French, Arabic and Spanish.\n",
        "\n",
        "df_1 = df[['labels','text', 'text_fr', 'text_ar', 'text_es']]\n",
        "\n",
        "# Preprocess text messages for each language\n",
        "df_1['text'] = df_1.apply(lambda row: preprocess_text(row['text'], 'english'), axis=1)\n",
        "df_1['text_fr'] = df_1.apply(lambda row: preprocess_text(row['text_fr'], 'french'), axis=1)\n",
        "df_1['text_ar'] = df_1.apply(lambda row: preprocess_text(row['text_ar'], 'arabic'), axis=1)\n",
        "df_1['text_es'] = df_1.apply(lambda row: preprocess_text(row['text_es'], 'spanish'), axis=1)"
      ],
      "metadata": {
        "id": "CTwyL_R67pnK"
      },
      "execution_count": 26,
      "outputs": []
    },
    {
      "cell_type": "markdown",
      "source": [
        "### Preparing Training and Test Data"
      ],
      "metadata": {
        "id": "mzoDuRLRA7DZ"
      }
    },
    {
      "cell_type": "code",
      "source": [
        "x = df_1.iloc[:, 1:]\n",
        "y = df_1.iloc[:, 0]"
      ],
      "metadata": {
        "id": "1YobzYuDA-SV"
      },
      "execution_count": 27,
      "outputs": []
    },
    {
      "cell_type": "code",
      "source": [
        "from sklearn.model_selection import train_test_split\n",
        "\n",
        "X_train, X_test, y_train, y_test = train_test_split(x, y, test_size=0.20, random_state=42)"
      ],
      "metadata": {
        "id": "NGZCkoeuBNJI"
      },
      "execution_count": 28,
      "outputs": []
    },
    {
      "cell_type": "code",
      "source": [
        "X_train.shape"
      ],
      "metadata": {
        "colab": {
          "base_uri": "https://localhost:8080/"
        },
        "id": "_JOFOzV2PUpT",
        "outputId": "604a7df8-3bbf-472e-93e0-554eae055cac"
      },
      "execution_count": 29,
      "outputs": [
        {
          "output_type": "execute_result",
          "data": {
            "text/plain": [
              "(4400, 4)"
            ]
          },
          "metadata": {},
          "execution_count": 29
        }
      ]
    },
    {
      "cell_type": "markdown",
      "source": [
        "Now, we will vertically concatenate the texts of all the languages to obtain all language texts in one X_train column"
      ],
      "metadata": {
        "id": "UqwbfYZqPhRP"
      }
    },
    {
      "cell_type": "code",
      "source": [
        "import pandas as pd\n",
        "\n",
        "X_train = pd.concat([X_train['text'], X_train['text_fr'], X_train['text_ar'], X_train['text_es']], axis=0)\n",
        "X_train = X_train.to_frame()\n",
        "X_train = X_train.rename(columns= {0: 'text_all'})\n",
        "\n",
        "X_train.shape"
      ],
      "metadata": {
        "colab": {
          "base_uri": "https://localhost:8080/"
        },
        "id": "zjnMMAeoSYyp",
        "outputId": "c800af8f-fe80-47b4-8d65-14d9c830d280"
      },
      "execution_count": 30,
      "outputs": [
        {
          "output_type": "execute_result",
          "data": {
            "text/plain": [
              "(17600, 1)"
            ]
          },
          "metadata": {},
          "execution_count": 30
        }
      ]
    },
    {
      "cell_type": "code",
      "source": [
        "y_train = pd.concat([y_train, y_train, y_train, y_train])\n",
        "y_train.shape"
      ],
      "metadata": {
        "colab": {
          "base_uri": "https://localhost:8080/"
        },
        "id": "sFLOg1ZEV8zX",
        "outputId": "9699ebea-bb01-4619-d0cc-2452c28848dd"
      },
      "execution_count": 31,
      "outputs": [
        {
          "output_type": "execute_result",
          "data": {
            "text/plain": [
              "(17600,)"
            ]
          },
          "metadata": {},
          "execution_count": 31
        }
      ]
    },
    {
      "cell_type": "code",
      "source": [
        "# Similarly for test data\n",
        "\n",
        "X_test = pd.concat([X_test['text'], X_test['text_fr'], X_test['text_ar'], X_test['text_es']], axis=0)\n",
        "X_test = X_test.to_frame()\n",
        "X_test = X_test.rename(columns= {0: 'text_all'})\n",
        "\n",
        "y_test = pd.concat([y_test, y_test, y_test, y_test])"
      ],
      "metadata": {
        "id": "yh_xe0WjWfXc"
      },
      "execution_count": 32,
      "outputs": []
    },
    {
      "cell_type": "markdown",
      "source": [
        "Vectorization"
      ],
      "metadata": {
        "id": "1AhMDAutWNLr"
      }
    },
    {
      "cell_type": "code",
      "source": [
        "# Vectorize the preprocessed text using CountVectorizer\n",
        "from sklearn.feature_extraction.text import CountVectorizer\n",
        "\n",
        "vectorizer = CountVectorizer()\n",
        "\n",
        "X_train = X_train['text_all']\n",
        "X_train_vectorized = vectorizer.fit_transform(X_train)\n",
        "\n",
        "X_test = X_test['text_all']\n",
        "X_test_vectorized = vectorizer.fit_transform(X_test)"
      ],
      "metadata": {
        "id": "qcyxsuA4BVyB"
      },
      "execution_count": 33,
      "outputs": []
    },
    {
      "cell_type": "code",
      "source": [
        "X_train_vectorized"
      ],
      "metadata": {
        "colab": {
          "base_uri": "https://localhost:8080/"
        },
        "id": "37kdsTWFemZ_",
        "outputId": "4023ed7a-9d26-4069-f00d-2984e2910b14"
      },
      "execution_count": 34,
      "outputs": [
        {
          "output_type": "execute_result",
          "data": {
            "text/plain": [
              "<17600x26192 sparse matrix of type '<class 'numpy.int64'>'\n",
              "\twith 221024 stored elements in Compressed Sparse Row format>"
            ]
          },
          "metadata": {},
          "execution_count": 34
        }
      ]
    },
    {
      "cell_type": "code",
      "source": [
        "# Appliying PCA as the matrix is too large\n",
        "from sklearn.decomposition import PCA\n",
        "\n",
        "# Apply PCA to the  data\n",
        "pca = PCA(n_components=100)\n",
        "\n",
        "X_train_pca = pca.fit_transform(X_train_vectorized.toarray())\n",
        "X_test_pca = pca.fit_transform(X_test_vectorized.toarray())"
      ],
      "metadata": {
        "id": "N8uDRnthrPR_"
      },
      "execution_count": 35,
      "outputs": []
    },
    {
      "cell_type": "markdown",
      "source": [
        "### Model 1 - SVM Model"
      ],
      "metadata": {
        "id": "4QeG8G3qG7iX"
      }
    },
    {
      "cell_type": "code",
      "source": [
        "from sklearn.svm import SVC\n",
        "\n",
        "classifier = SVC(kernel='linear')\n",
        "classifier.fit(X_train_pca, y_train)"
      ],
      "metadata": {
        "colab": {
          "base_uri": "https://localhost:8080/",
          "height": 75
        },
        "id": "7_i2fAObaGTq",
        "outputId": "edfe06a4-5c3d-448a-884a-7ebda7424dd9"
      },
      "execution_count": 36,
      "outputs": [
        {
          "output_type": "execute_result",
          "data": {
            "text/plain": [
              "SVC(kernel='linear')"
            ],
            "text/html": [
              "<style>#sk-container-id-2 {color: black;background-color: white;}#sk-container-id-2 pre{padding: 0;}#sk-container-id-2 div.sk-toggleable {background-color: white;}#sk-container-id-2 label.sk-toggleable__label {cursor: pointer;display: block;width: 100%;margin-bottom: 0;padding: 0.3em;box-sizing: border-box;text-align: center;}#sk-container-id-2 label.sk-toggleable__label-arrow:before {content: \"▸\";float: left;margin-right: 0.25em;color: #696969;}#sk-container-id-2 label.sk-toggleable__label-arrow:hover:before {color: black;}#sk-container-id-2 div.sk-estimator:hover label.sk-toggleable__label-arrow:before {color: black;}#sk-container-id-2 div.sk-toggleable__content {max-height: 0;max-width: 0;overflow: hidden;text-align: left;background-color: #f0f8ff;}#sk-container-id-2 div.sk-toggleable__content pre {margin: 0.2em;color: black;border-radius: 0.25em;background-color: #f0f8ff;}#sk-container-id-2 input.sk-toggleable__control:checked~div.sk-toggleable__content {max-height: 200px;max-width: 100%;overflow: auto;}#sk-container-id-2 input.sk-toggleable__control:checked~label.sk-toggleable__label-arrow:before {content: \"▾\";}#sk-container-id-2 div.sk-estimator input.sk-toggleable__control:checked~label.sk-toggleable__label {background-color: #d4ebff;}#sk-container-id-2 div.sk-label input.sk-toggleable__control:checked~label.sk-toggleable__label {background-color: #d4ebff;}#sk-container-id-2 input.sk-hidden--visually {border: 0;clip: rect(1px 1px 1px 1px);clip: rect(1px, 1px, 1px, 1px);height: 1px;margin: -1px;overflow: hidden;padding: 0;position: absolute;width: 1px;}#sk-container-id-2 div.sk-estimator {font-family: monospace;background-color: #f0f8ff;border: 1px dotted black;border-radius: 0.25em;box-sizing: border-box;margin-bottom: 0.5em;}#sk-container-id-2 div.sk-estimator:hover {background-color: #d4ebff;}#sk-container-id-2 div.sk-parallel-item::after {content: \"\";width: 100%;border-bottom: 1px solid gray;flex-grow: 1;}#sk-container-id-2 div.sk-label:hover label.sk-toggleable__label {background-color: #d4ebff;}#sk-container-id-2 div.sk-serial::before {content: \"\";position: absolute;border-left: 1px solid gray;box-sizing: border-box;top: 0;bottom: 0;left: 50%;z-index: 0;}#sk-container-id-2 div.sk-serial {display: flex;flex-direction: column;align-items: center;background-color: white;padding-right: 0.2em;padding-left: 0.2em;position: relative;}#sk-container-id-2 div.sk-item {position: relative;z-index: 1;}#sk-container-id-2 div.sk-parallel {display: flex;align-items: stretch;justify-content: center;background-color: white;position: relative;}#sk-container-id-2 div.sk-item::before, #sk-container-id-2 div.sk-parallel-item::before {content: \"\";position: absolute;border-left: 1px solid gray;box-sizing: border-box;top: 0;bottom: 0;left: 50%;z-index: -1;}#sk-container-id-2 div.sk-parallel-item {display: flex;flex-direction: column;z-index: 1;position: relative;background-color: white;}#sk-container-id-2 div.sk-parallel-item:first-child::after {align-self: flex-end;width: 50%;}#sk-container-id-2 div.sk-parallel-item:last-child::after {align-self: flex-start;width: 50%;}#sk-container-id-2 div.sk-parallel-item:only-child::after {width: 0;}#sk-container-id-2 div.sk-dashed-wrapped {border: 1px dashed gray;margin: 0 0.4em 0.5em 0.4em;box-sizing: border-box;padding-bottom: 0.4em;background-color: white;}#sk-container-id-2 div.sk-label label {font-family: monospace;font-weight: bold;display: inline-block;line-height: 1.2em;}#sk-container-id-2 div.sk-label-container {text-align: center;}#sk-container-id-2 div.sk-container {/* jupyter's `normalize.less` sets `[hidden] { display: none; }` but bootstrap.min.css set `[hidden] { display: none !important; }` so we also need the `!important` here to be able to override the default hidden behavior on the sphinx rendered scikit-learn.org. See: https://github.com/scikit-learn/scikit-learn/issues/21755 */display: inline-block !important;position: relative;}#sk-container-id-2 div.sk-text-repr-fallback {display: none;}</style><div id=\"sk-container-id-2\" class=\"sk-top-container\"><div class=\"sk-text-repr-fallback\"><pre>SVC(kernel=&#x27;linear&#x27;)</pre><b>In a Jupyter environment, please rerun this cell to show the HTML representation or trust the notebook. <br />On GitHub, the HTML representation is unable to render, please try loading this page with nbviewer.org.</b></div><div class=\"sk-container\" hidden><div class=\"sk-item\"><div class=\"sk-estimator sk-toggleable\"><input class=\"sk-toggleable__control sk-hidden--visually\" id=\"sk-estimator-id-2\" type=\"checkbox\" checked><label for=\"sk-estimator-id-2\" class=\"sk-toggleable__label sk-toggleable__label-arrow\">SVC</label><div class=\"sk-toggleable__content\"><pre>SVC(kernel=&#x27;linear&#x27;)</pre></div></div></div></div></div>"
            ]
          },
          "metadata": {},
          "execution_count": 36
        }
      ]
    },
    {
      "cell_type": "code",
      "source": [
        "from sklearn.metrics import accuracy_score\n",
        "from sklearn.metrics import confusion_matrix\n",
        "from sklearn.metrics import classification_report"
      ],
      "metadata": {
        "id": "ZizM6D-ZcW31"
      },
      "execution_count": 37,
      "outputs": []
    },
    {
      "cell_type": "code",
      "source": [
        "# Testing\n",
        "y_pred = classifier.predict(X_test_pca)\n",
        "\n",
        "acc_svc = accuracy_score(y_test,y_pred)\n",
        "cm_svc = confusion_matrix(y_test,y_pred)\n",
        "cr_svc = classification_report(y_test, y_pred, target_names=['ham', 'spam'])\n",
        "\n",
        "print(f'Accuracy of SVC Model is {acc_svc:.4f}\\n')\n",
        "print(f'Confusion Matrix of SVC Model is \\n{cm_svc}\\n')\n",
        "print(f'Classification Report of SVC Model is \\n{cr_svc}')"
      ],
      "metadata": {
        "colab": {
          "base_uri": "https://localhost:8080/"
        },
        "id": "h50UpGZpp1w2",
        "outputId": "625919c7-0670-4eec-d3c4-85941b3dec54"
      },
      "execution_count": 38,
      "outputs": [
        {
          "output_type": "stream",
          "name": "stdout",
          "text": [
            "Accuracy of SVC Model is 0.7729\n",
            "\n",
            "Confusion Matrix of SVC Model is \n",
            "[[3243  513]\n",
            " [ 487  161]]\n",
            "\n",
            "Classification Report of SVC Model is \n",
            "              precision    recall  f1-score   support\n",
            "\n",
            "         ham       0.87      0.86      0.87      3756\n",
            "        spam       0.24      0.25      0.24       648\n",
            "\n",
            "    accuracy                           0.77      4404\n",
            "   macro avg       0.55      0.56      0.55      4404\n",
            "weighted avg       0.78      0.77      0.77      4404\n",
            "\n"
          ]
        }
      ]
    },
    {
      "cell_type": "markdown",
      "source": [
        "### Model 2 - Naive Bayes Model"
      ],
      "metadata": {
        "id": "ggWGmC9gfltG"
      }
    },
    {
      "cell_type": "code",
      "source": [
        "from sklearn.naive_bayes import GaussianNB\n",
        "\n",
        "gnb = GaussianNB()\n",
        "gnb.fit(X_train_pca, y_train)"
      ],
      "metadata": {
        "id": "UlTHm8RwftL_",
        "colab": {
          "base_uri": "https://localhost:8080/",
          "height": 75
        },
        "outputId": "8de905e5-085a-4650-95f9-267963920d0b"
      },
      "execution_count": 39,
      "outputs": [
        {
          "output_type": "execute_result",
          "data": {
            "text/plain": [
              "GaussianNB()"
            ],
            "text/html": [
              "<style>#sk-container-id-3 {color: black;background-color: white;}#sk-container-id-3 pre{padding: 0;}#sk-container-id-3 div.sk-toggleable {background-color: white;}#sk-container-id-3 label.sk-toggleable__label {cursor: pointer;display: block;width: 100%;margin-bottom: 0;padding: 0.3em;box-sizing: border-box;text-align: center;}#sk-container-id-3 label.sk-toggleable__label-arrow:before {content: \"▸\";float: left;margin-right: 0.25em;color: #696969;}#sk-container-id-3 label.sk-toggleable__label-arrow:hover:before {color: black;}#sk-container-id-3 div.sk-estimator:hover label.sk-toggleable__label-arrow:before {color: black;}#sk-container-id-3 div.sk-toggleable__content {max-height: 0;max-width: 0;overflow: hidden;text-align: left;background-color: #f0f8ff;}#sk-container-id-3 div.sk-toggleable__content pre {margin: 0.2em;color: black;border-radius: 0.25em;background-color: #f0f8ff;}#sk-container-id-3 input.sk-toggleable__control:checked~div.sk-toggleable__content {max-height: 200px;max-width: 100%;overflow: auto;}#sk-container-id-3 input.sk-toggleable__control:checked~label.sk-toggleable__label-arrow:before {content: \"▾\";}#sk-container-id-3 div.sk-estimator input.sk-toggleable__control:checked~label.sk-toggleable__label {background-color: #d4ebff;}#sk-container-id-3 div.sk-label input.sk-toggleable__control:checked~label.sk-toggleable__label {background-color: #d4ebff;}#sk-container-id-3 input.sk-hidden--visually {border: 0;clip: rect(1px 1px 1px 1px);clip: rect(1px, 1px, 1px, 1px);height: 1px;margin: -1px;overflow: hidden;padding: 0;position: absolute;width: 1px;}#sk-container-id-3 div.sk-estimator {font-family: monospace;background-color: #f0f8ff;border: 1px dotted black;border-radius: 0.25em;box-sizing: border-box;margin-bottom: 0.5em;}#sk-container-id-3 div.sk-estimator:hover {background-color: #d4ebff;}#sk-container-id-3 div.sk-parallel-item::after {content: \"\";width: 100%;border-bottom: 1px solid gray;flex-grow: 1;}#sk-container-id-3 div.sk-label:hover label.sk-toggleable__label {background-color: #d4ebff;}#sk-container-id-3 div.sk-serial::before {content: \"\";position: absolute;border-left: 1px solid gray;box-sizing: border-box;top: 0;bottom: 0;left: 50%;z-index: 0;}#sk-container-id-3 div.sk-serial {display: flex;flex-direction: column;align-items: center;background-color: white;padding-right: 0.2em;padding-left: 0.2em;position: relative;}#sk-container-id-3 div.sk-item {position: relative;z-index: 1;}#sk-container-id-3 div.sk-parallel {display: flex;align-items: stretch;justify-content: center;background-color: white;position: relative;}#sk-container-id-3 div.sk-item::before, #sk-container-id-3 div.sk-parallel-item::before {content: \"\";position: absolute;border-left: 1px solid gray;box-sizing: border-box;top: 0;bottom: 0;left: 50%;z-index: -1;}#sk-container-id-3 div.sk-parallel-item {display: flex;flex-direction: column;z-index: 1;position: relative;background-color: white;}#sk-container-id-3 div.sk-parallel-item:first-child::after {align-self: flex-end;width: 50%;}#sk-container-id-3 div.sk-parallel-item:last-child::after {align-self: flex-start;width: 50%;}#sk-container-id-3 div.sk-parallel-item:only-child::after {width: 0;}#sk-container-id-3 div.sk-dashed-wrapped {border: 1px dashed gray;margin: 0 0.4em 0.5em 0.4em;box-sizing: border-box;padding-bottom: 0.4em;background-color: white;}#sk-container-id-3 div.sk-label label {font-family: monospace;font-weight: bold;display: inline-block;line-height: 1.2em;}#sk-container-id-3 div.sk-label-container {text-align: center;}#sk-container-id-3 div.sk-container {/* jupyter's `normalize.less` sets `[hidden] { display: none; }` but bootstrap.min.css set `[hidden] { display: none !important; }` so we also need the `!important` here to be able to override the default hidden behavior on the sphinx rendered scikit-learn.org. See: https://github.com/scikit-learn/scikit-learn/issues/21755 */display: inline-block !important;position: relative;}#sk-container-id-3 div.sk-text-repr-fallback {display: none;}</style><div id=\"sk-container-id-3\" class=\"sk-top-container\"><div class=\"sk-text-repr-fallback\"><pre>GaussianNB()</pre><b>In a Jupyter environment, please rerun this cell to show the HTML representation or trust the notebook. <br />On GitHub, the HTML representation is unable to render, please try loading this page with nbviewer.org.</b></div><div class=\"sk-container\" hidden><div class=\"sk-item\"><div class=\"sk-estimator sk-toggleable\"><input class=\"sk-toggleable__control sk-hidden--visually\" id=\"sk-estimator-id-3\" type=\"checkbox\" checked><label for=\"sk-estimator-id-3\" class=\"sk-toggleable__label sk-toggleable__label-arrow\">GaussianNB</label><div class=\"sk-toggleable__content\"><pre>GaussianNB()</pre></div></div></div></div></div>"
            ]
          },
          "metadata": {},
          "execution_count": 39
        }
      ]
    },
    {
      "cell_type": "code",
      "source": [
        "# Testing\n",
        "y_pred = gnb.predict(X_test_pca)\n",
        "\n",
        "acc_gnb = accuracy_score(y_test,y_pred)\n",
        "cm_gnb = confusion_matrix(y_test,y_pred)\n",
        "cr_gnb = classification_report(y_test, y_pred, target_names=['ham', 'spam'])\n",
        "\n",
        "print(f'Accuracy of Naive Bayes Model is {acc_gnb:.4f}\\n')\n",
        "print(f'Confusion Matrix of Naive Bayes Model is \\n{cm_gnb}\\n')\n",
        "print(f'Classification Report of Naive Bayes Model is \\n{cr_gnb}')"
      ],
      "metadata": {
        "colab": {
          "base_uri": "https://localhost:8080/"
        },
        "id": "mtnhTJR0Rp2G",
        "outputId": "5b15bd0d-ab96-499b-f7ae-903cdf8e6483"
      },
      "execution_count": 40,
      "outputs": [
        {
          "output_type": "stream",
          "name": "stdout",
          "text": [
            "Accuracy of Naive Bayes Model is 0.7525\n",
            "\n",
            "Confusion Matrix of Naive Bayes Model is \n",
            "[[3265  491]\n",
            " [ 599   49]]\n",
            "\n",
            "Classification Report of Naive Bayes Model is \n",
            "              precision    recall  f1-score   support\n",
            "\n",
            "         ham       0.84      0.87      0.86      3756\n",
            "        spam       0.09      0.08      0.08       648\n",
            "\n",
            "    accuracy                           0.75      4404\n",
            "   macro avg       0.47      0.47      0.47      4404\n",
            "weighted avg       0.73      0.75      0.74      4404\n",
            "\n"
          ]
        }
      ]
    },
    {
      "cell_type": "markdown",
      "source": [
        "### Model 3 - XGBoost Model"
      ],
      "metadata": {
        "id": "GMaGk0UMtlBV"
      }
    },
    {
      "cell_type": "code",
      "source": [
        "from sklearn.ensemble import GradientBoostingClassifier\n",
        "\n",
        "xgb = GradientBoostingClassifier(random_state=0)\n",
        "xgb.fit(X_train_pca, y_train)"
      ],
      "metadata": {
        "id": "r6K6RR2GuFOY",
        "colab": {
          "base_uri": "https://localhost:8080/",
          "height": 75
        },
        "outputId": "9a899ab4-2ff3-4f87-c722-354160c19ff7"
      },
      "execution_count": 41,
      "outputs": [
        {
          "output_type": "execute_result",
          "data": {
            "text/plain": [
              "GradientBoostingClassifier(random_state=0)"
            ],
            "text/html": [
              "<style>#sk-container-id-4 {color: black;background-color: white;}#sk-container-id-4 pre{padding: 0;}#sk-container-id-4 div.sk-toggleable {background-color: white;}#sk-container-id-4 label.sk-toggleable__label {cursor: pointer;display: block;width: 100%;margin-bottom: 0;padding: 0.3em;box-sizing: border-box;text-align: center;}#sk-container-id-4 label.sk-toggleable__label-arrow:before {content: \"▸\";float: left;margin-right: 0.25em;color: #696969;}#sk-container-id-4 label.sk-toggleable__label-arrow:hover:before {color: black;}#sk-container-id-4 div.sk-estimator:hover label.sk-toggleable__label-arrow:before {color: black;}#sk-container-id-4 div.sk-toggleable__content {max-height: 0;max-width: 0;overflow: hidden;text-align: left;background-color: #f0f8ff;}#sk-container-id-4 div.sk-toggleable__content pre {margin: 0.2em;color: black;border-radius: 0.25em;background-color: #f0f8ff;}#sk-container-id-4 input.sk-toggleable__control:checked~div.sk-toggleable__content {max-height: 200px;max-width: 100%;overflow: auto;}#sk-container-id-4 input.sk-toggleable__control:checked~label.sk-toggleable__label-arrow:before {content: \"▾\";}#sk-container-id-4 div.sk-estimator input.sk-toggleable__control:checked~label.sk-toggleable__label {background-color: #d4ebff;}#sk-container-id-4 div.sk-label input.sk-toggleable__control:checked~label.sk-toggleable__label {background-color: #d4ebff;}#sk-container-id-4 input.sk-hidden--visually {border: 0;clip: rect(1px 1px 1px 1px);clip: rect(1px, 1px, 1px, 1px);height: 1px;margin: -1px;overflow: hidden;padding: 0;position: absolute;width: 1px;}#sk-container-id-4 div.sk-estimator {font-family: monospace;background-color: #f0f8ff;border: 1px dotted black;border-radius: 0.25em;box-sizing: border-box;margin-bottom: 0.5em;}#sk-container-id-4 div.sk-estimator:hover {background-color: #d4ebff;}#sk-container-id-4 div.sk-parallel-item::after {content: \"\";width: 100%;border-bottom: 1px solid gray;flex-grow: 1;}#sk-container-id-4 div.sk-label:hover label.sk-toggleable__label {background-color: #d4ebff;}#sk-container-id-4 div.sk-serial::before {content: \"\";position: absolute;border-left: 1px solid gray;box-sizing: border-box;top: 0;bottom: 0;left: 50%;z-index: 0;}#sk-container-id-4 div.sk-serial {display: flex;flex-direction: column;align-items: center;background-color: white;padding-right: 0.2em;padding-left: 0.2em;position: relative;}#sk-container-id-4 div.sk-item {position: relative;z-index: 1;}#sk-container-id-4 div.sk-parallel {display: flex;align-items: stretch;justify-content: center;background-color: white;position: relative;}#sk-container-id-4 div.sk-item::before, #sk-container-id-4 div.sk-parallel-item::before {content: \"\";position: absolute;border-left: 1px solid gray;box-sizing: border-box;top: 0;bottom: 0;left: 50%;z-index: -1;}#sk-container-id-4 div.sk-parallel-item {display: flex;flex-direction: column;z-index: 1;position: relative;background-color: white;}#sk-container-id-4 div.sk-parallel-item:first-child::after {align-self: flex-end;width: 50%;}#sk-container-id-4 div.sk-parallel-item:last-child::after {align-self: flex-start;width: 50%;}#sk-container-id-4 div.sk-parallel-item:only-child::after {width: 0;}#sk-container-id-4 div.sk-dashed-wrapped {border: 1px dashed gray;margin: 0 0.4em 0.5em 0.4em;box-sizing: border-box;padding-bottom: 0.4em;background-color: white;}#sk-container-id-4 div.sk-label label {font-family: monospace;font-weight: bold;display: inline-block;line-height: 1.2em;}#sk-container-id-4 div.sk-label-container {text-align: center;}#sk-container-id-4 div.sk-container {/* jupyter's `normalize.less` sets `[hidden] { display: none; }` but bootstrap.min.css set `[hidden] { display: none !important; }` so we also need the `!important` here to be able to override the default hidden behavior on the sphinx rendered scikit-learn.org. See: https://github.com/scikit-learn/scikit-learn/issues/21755 */display: inline-block !important;position: relative;}#sk-container-id-4 div.sk-text-repr-fallback {display: none;}</style><div id=\"sk-container-id-4\" class=\"sk-top-container\"><div class=\"sk-text-repr-fallback\"><pre>GradientBoostingClassifier(random_state=0)</pre><b>In a Jupyter environment, please rerun this cell to show the HTML representation or trust the notebook. <br />On GitHub, the HTML representation is unable to render, please try loading this page with nbviewer.org.</b></div><div class=\"sk-container\" hidden><div class=\"sk-item\"><div class=\"sk-estimator sk-toggleable\"><input class=\"sk-toggleable__control sk-hidden--visually\" id=\"sk-estimator-id-4\" type=\"checkbox\" checked><label for=\"sk-estimator-id-4\" class=\"sk-toggleable__label sk-toggleable__label-arrow\">GradientBoostingClassifier</label><div class=\"sk-toggleable__content\"><pre>GradientBoostingClassifier(random_state=0)</pre></div></div></div></div></div>"
            ]
          },
          "metadata": {},
          "execution_count": 41
        }
      ]
    },
    {
      "cell_type": "code",
      "source": [
        "# Testing\n",
        "y_pred = xgb.predict(X_test_pca)\n",
        "\n",
        "acc_xgb = accuracy_score(y_test,y_pred)\n",
        "cm_xgb = confusion_matrix(y_test,y_pred)\n",
        "cr_xgb = classification_report(y_test, y_pred, target_names=['ham', 'spam'])\n",
        "\n",
        "print(f'Accuracy of XGBoost Model is {acc_xgb:.4f}\\n')\n",
        "print(f'Confusion Matrix of XGBoost Model is \\n{cm_xgb}\\n')\n",
        "print(f'Classification Report of XGBoost Model is \\n{cr_xgb}')"
      ],
      "metadata": {
        "colab": {
          "base_uri": "https://localhost:8080/"
        },
        "id": "490iqOASSCdF",
        "outputId": "cd68a6cc-761e-4dab-c869-2a5c0fa389a6"
      },
      "execution_count": 42,
      "outputs": [
        {
          "output_type": "stream",
          "name": "stdout",
          "text": [
            "Accuracy of XGBoost Model is 0.7895\n",
            "\n",
            "Confusion Matrix of XGBoost Model is \n",
            "[[3457  299]\n",
            " [ 628   20]]\n",
            "\n",
            "Classification Report of XGBoost Model is \n",
            "              precision    recall  f1-score   support\n",
            "\n",
            "         ham       0.85      0.92      0.88      3756\n",
            "        spam       0.06      0.03      0.04       648\n",
            "\n",
            "    accuracy                           0.79      4404\n",
            "   macro avg       0.45      0.48      0.46      4404\n",
            "weighted avg       0.73      0.79      0.76      4404\n",
            "\n"
          ]
        }
      ]
    },
    {
      "cell_type": "markdown",
      "source": [
        "## DistilBERT ML Models"
      ],
      "metadata": {
        "id": "2xWFA2ok49zA"
      }
    },
    {
      "cell_type": "markdown",
      "source": [
        "### Converting texts to Embeddings"
      ],
      "metadata": {
        "id": "A7FSPaPNZ2LE"
      }
    },
    {
      "cell_type": "code",
      "source": [
        "x = df.iloc[:, 1:]\n",
        "y = df.iloc[:, 0]"
      ],
      "metadata": {
        "id": "fGpM291wktR2"
      },
      "execution_count": 43,
      "outputs": []
    },
    {
      "cell_type": "markdown",
      "source": [
        "We are doing the train test split before embedding the data because the train data will only contain English text as the encoding for all languages produces similar embeddings. We will then test the English sms along with the same rows of other languages so that no train data is repeated in testing"
      ],
      "metadata": {
        "id": "wUweEE1gmiCq"
      }
    },
    {
      "cell_type": "code",
      "source": [
        "from sklearn.model_selection import train_test_split\n",
        "\n",
        "X_train, X_test, y_train, y_test = train_test_split(x, y, test_size=0.20, random_state=42)"
      ],
      "metadata": {
        "id": "phFe5D17knsT"
      },
      "execution_count": 44,
      "outputs": []
    },
    {
      "cell_type": "markdown",
      "source": [
        "We could have used Tradition embeddings schmes like TFIDF or Bag of words but in that our model will only support only 1 language. We are going to use multilingual model. Multilingual model is basically a pretrained deep neural network model which produces same vectors for similar meaning of text in different languages."
      ],
      "metadata": {
        "id": "GJH0J6HiZ9_e"
      }
    },
    {
      "cell_type": "code",
      "source": [
        "!pip install sentence_transformers"
      ],
      "metadata": {
        "id": "C0le9J1O11mp",
        "colab": {
          "base_uri": "https://localhost:8080/"
        },
        "outputId": "913ad6ec-e1da-4576-98c1-82737f18c125"
      },
      "execution_count": 45,
      "outputs": [
        {
          "output_type": "stream",
          "name": "stdout",
          "text": [
            "Requirement already satisfied: sentence_transformers in /usr/local/lib/python3.10/dist-packages (2.2.2)\n",
            "Requirement already satisfied: transformers<5.0.0,>=4.6.0 in /usr/local/lib/python3.10/dist-packages (from sentence_transformers) (4.35.2)\n",
            "Requirement already satisfied: tqdm in /usr/local/lib/python3.10/dist-packages (from sentence_transformers) (4.66.1)\n",
            "Requirement already satisfied: torch>=1.6.0 in /usr/local/lib/python3.10/dist-packages (from sentence_transformers) (2.1.0+cu118)\n",
            "Requirement already satisfied: torchvision in /usr/local/lib/python3.10/dist-packages (from sentence_transformers) (0.16.0+cu118)\n",
            "Requirement already satisfied: numpy in /usr/local/lib/python3.10/dist-packages (from sentence_transformers) (1.23.5)\n",
            "Requirement already satisfied: scikit-learn in /usr/local/lib/python3.10/dist-packages (from sentence_transformers) (1.2.2)\n",
            "Requirement already satisfied: scipy in /usr/local/lib/python3.10/dist-packages (from sentence_transformers) (1.11.3)\n",
            "Requirement already satisfied: nltk in /usr/local/lib/python3.10/dist-packages (from sentence_transformers) (3.8.1)\n",
            "Requirement already satisfied: sentencepiece in /usr/local/lib/python3.10/dist-packages (from sentence_transformers) (0.1.99)\n",
            "Requirement already satisfied: huggingface-hub>=0.4.0 in /usr/local/lib/python3.10/dist-packages (from sentence_transformers) (0.19.4)\n",
            "Requirement already satisfied: filelock in /usr/local/lib/python3.10/dist-packages (from huggingface-hub>=0.4.0->sentence_transformers) (3.13.1)\n",
            "Requirement already satisfied: fsspec>=2023.5.0 in /usr/local/lib/python3.10/dist-packages (from huggingface-hub>=0.4.0->sentence_transformers) (2023.6.0)\n",
            "Requirement already satisfied: requests in /usr/local/lib/python3.10/dist-packages (from huggingface-hub>=0.4.0->sentence_transformers) (2.31.0)\n",
            "Requirement already satisfied: pyyaml>=5.1 in /usr/local/lib/python3.10/dist-packages (from huggingface-hub>=0.4.0->sentence_transformers) (6.0.1)\n",
            "Requirement already satisfied: typing-extensions>=3.7.4.3 in /usr/local/lib/python3.10/dist-packages (from huggingface-hub>=0.4.0->sentence_transformers) (4.5.0)\n",
            "Requirement already satisfied: packaging>=20.9 in /usr/local/lib/python3.10/dist-packages (from huggingface-hub>=0.4.0->sentence_transformers) (23.2)\n",
            "Requirement already satisfied: sympy in /usr/local/lib/python3.10/dist-packages (from torch>=1.6.0->sentence_transformers) (1.12)\n",
            "Requirement already satisfied: networkx in /usr/local/lib/python3.10/dist-packages (from torch>=1.6.0->sentence_transformers) (3.2.1)\n",
            "Requirement already satisfied: jinja2 in /usr/local/lib/python3.10/dist-packages (from torch>=1.6.0->sentence_transformers) (3.1.2)\n",
            "Requirement already satisfied: triton==2.1.0 in /usr/local/lib/python3.10/dist-packages (from torch>=1.6.0->sentence_transformers) (2.1.0)\n",
            "Requirement already satisfied: regex!=2019.12.17 in /usr/local/lib/python3.10/dist-packages (from transformers<5.0.0,>=4.6.0->sentence_transformers) (2023.6.3)\n",
            "Requirement already satisfied: tokenizers<0.19,>=0.14 in /usr/local/lib/python3.10/dist-packages (from transformers<5.0.0,>=4.6.0->sentence_transformers) (0.15.0)\n",
            "Requirement already satisfied: safetensors>=0.3.1 in /usr/local/lib/python3.10/dist-packages (from transformers<5.0.0,>=4.6.0->sentence_transformers) (0.4.0)\n",
            "Requirement already satisfied: click in /usr/local/lib/python3.10/dist-packages (from nltk->sentence_transformers) (8.1.7)\n",
            "Requirement already satisfied: joblib in /usr/local/lib/python3.10/dist-packages (from nltk->sentence_transformers) (1.3.2)\n",
            "Requirement already satisfied: threadpoolctl>=2.0.0 in /usr/local/lib/python3.10/dist-packages (from scikit-learn->sentence_transformers) (3.2.0)\n",
            "Requirement already satisfied: pillow!=8.3.*,>=5.3.0 in /usr/local/lib/python3.10/dist-packages (from torchvision->sentence_transformers) (9.4.0)\n",
            "Requirement already satisfied: MarkupSafe>=2.0 in /usr/local/lib/python3.10/dist-packages (from jinja2->torch>=1.6.0->sentence_transformers) (2.1.3)\n",
            "Requirement already satisfied: charset-normalizer<4,>=2 in /usr/local/lib/python3.10/dist-packages (from requests->huggingface-hub>=0.4.0->sentence_transformers) (3.3.2)\n",
            "Requirement already satisfied: idna<4,>=2.5 in /usr/local/lib/python3.10/dist-packages (from requests->huggingface-hub>=0.4.0->sentence_transformers) (3.4)\n",
            "Requirement already satisfied: urllib3<3,>=1.21.1 in /usr/local/lib/python3.10/dist-packages (from requests->huggingface-hub>=0.4.0->sentence_transformers) (2.0.7)\n",
            "Requirement already satisfied: certifi>=2017.4.17 in /usr/local/lib/python3.10/dist-packages (from requests->huggingface-hub>=0.4.0->sentence_transformers) (2023.7.22)\n",
            "Requirement already satisfied: mpmath>=0.19 in /usr/local/lib/python3.10/dist-packages (from sympy->torch>=1.6.0->sentence_transformers) (1.3.0)\n"
          ]
        }
      ]
    },
    {
      "cell_type": "markdown",
      "source": [
        "Sentence Transformers are used to create word embeddings for multilingual data. distiluse-base-multilingual-cased-v2 is a DistilBERT model fine-tuned for multilingual sentence embeddings. We use the distiluse-base-multilingual-cased-v2 model for our multilingual data. It maps sentences & paragraphs to a 512 dimensional dense vector space"
      ],
      "metadata": {
        "id": "F9k1Emyg2UHF"
      }
    },
    {
      "cell_type": "code",
      "source": [
        "from sentence_transformers import SentenceTransformer\n",
        "\n",
        "encoder = SentenceTransformer('distiluse-base-multilingual-cased-v2')"
      ],
      "metadata": {
        "id": "eGg2CRqJZ84w"
      },
      "execution_count": 46,
      "outputs": []
    },
    {
      "cell_type": "code",
      "source": [
        "# embedding the train english texts\n",
        "X_train_embeddings = []\n",
        "\n",
        "for index, row in X_train.iterrows():\n",
        "  X_train_embeddings.append(encoder.encode(row['text']))"
      ],
      "metadata": {
        "id": "L7z9IGvmlpJA"
      },
      "execution_count": 47,
      "outputs": []
    },
    {
      "cell_type": "code",
      "source": [
        "len(X_train_embeddings)"
      ],
      "metadata": {
        "colab": {
          "base_uri": "https://localhost:8080/"
        },
        "id": "rmTpMKuGptgn",
        "outputId": "0130aff1-1d41-45a0-a901-34c8668706bb"
      },
      "execution_count": 48,
      "outputs": [
        {
          "output_type": "execute_result",
          "data": {
            "text/plain": [
              "4400"
            ]
          },
          "metadata": {},
          "execution_count": 48
        }
      ]
    },
    {
      "cell_type": "code",
      "source": [
        "X_train_embeddings[0]"
      ],
      "metadata": {
        "colab": {
          "base_uri": "https://localhost:8080/"
        },
        "id": "-UKIbUyrpxdP",
        "outputId": "5773c4ba-03df-4969-bab3-8fe6d0893c2d"
      },
      "execution_count": 49,
      "outputs": [
        {
          "output_type": "execute_result",
          "data": {
            "text/plain": [
              "array([-6.88852684e-04,  4.34007794e-02, -3.11784539e-02,  3.55754374e-03,\n",
              "        3.48255374e-02, -3.42531577e-02, -8.68908912e-02,  1.95385236e-02,\n",
              "        2.88869571e-02,  9.73328855e-03,  1.31520536e-02, -8.88035912e-03,\n",
              "        4.69085649e-02, -3.71495672e-02, -1.17096426e-02,  2.06656158e-02,\n",
              "        2.28693020e-02, -2.29077935e-02, -9.31585580e-02,  3.05717643e-02,\n",
              "        5.80655970e-02, -1.36220176e-02, -1.93566307e-02,  8.29175394e-03,\n",
              "       -6.02078401e-02, -1.62327029e-02, -2.67068483e-03, -1.04411843e-03,\n",
              "       -1.86392572e-02,  2.89433319e-02,  8.12052712e-02,  4.44066785e-02,\n",
              "        9.01667029e-03, -3.00622266e-02, -4.29418981e-02, -1.67591423e-02,\n",
              "       -7.80162076e-03,  3.82333342e-03, -2.65065096e-02, -1.25990692e-03,\n",
              "       -3.36647592e-02,  4.27634642e-03, -1.67723373e-02,  7.00035319e-02,\n",
              "        1.29446536e-02, -2.78986078e-02,  2.31461897e-02, -2.40670331e-02,\n",
              "       -5.97845912e-02,  3.80748673e-03,  2.12089065e-03,  4.88417819e-02,\n",
              "        2.27915086e-02,  1.46574117e-02,  1.52458865e-02, -5.91726229e-03,\n",
              "       -5.90678416e-02,  8.06347409e-04, -2.44917199e-02,  1.86819676e-02,\n",
              "       -3.52763496e-02,  7.40989223e-02,  2.02250127e-02,  2.73155645e-02,\n",
              "       -2.14025695e-02,  7.65925571e-02, -4.21354882e-02,  3.59653868e-03,\n",
              "       -5.60382232e-02,  1.26156965e-02, -4.40806262e-02,  1.62321292e-02,\n",
              "       -3.47688794e-02,  1.24154920e-02, -1.08841965e-02,  1.23024853e-02,\n",
              "       -8.85770004e-03, -4.89229523e-02,  6.53212238e-03,  4.34261188e-02,\n",
              "       -4.25945930e-02, -7.55511075e-02,  6.94252625e-02, -9.21112299e-02,\n",
              "        3.02953031e-02, -2.91056689e-02, -4.66840118e-02,  4.11615744e-02,\n",
              "        2.52704080e-02,  2.28940882e-02,  6.89339042e-02, -3.10139228e-02,\n",
              "       -8.55701119e-02, -1.03480183e-04, -8.87364596e-02, -3.23949680e-02,\n",
              "       -2.92697325e-02,  7.38203824e-02,  2.62193009e-02, -8.85675922e-02,\n",
              "       -1.66816693e-02,  1.13329533e-02, -2.11100038e-02, -1.17174219e-02,\n",
              "        4.40836176e-02, -1.05601572e-01,  9.43221003e-02, -5.27236462e-02,\n",
              "       -3.83600593e-02,  6.54278174e-02, -6.97609335e-02,  1.10475734e-01,\n",
              "        5.50705828e-02, -3.78329866e-02, -2.44803615e-02,  3.93101200e-02,\n",
              "       -4.22529764e-02, -2.13220809e-02,  6.10978529e-02, -1.65064223e-02,\n",
              "        1.08820479e-03, -4.75114100e-02,  5.73072173e-02, -2.00946163e-03,\n",
              "       -2.89922543e-02,  2.24507209e-02,  2.25923304e-02,  2.26917174e-02,\n",
              "        3.36670503e-02, -7.83377886e-03,  1.10715114e-01, -1.03577012e-02,\n",
              "        1.77059844e-02,  1.33443652e-02,  1.67723820e-02, -5.37221655e-02,\n",
              "       -1.14072096e-02, -1.08654916e-01,  4.56885211e-02,  3.68950777e-02,\n",
              "       -9.16618034e-02, -6.17085434e-02,  7.33163133e-02, -3.08941826e-02,\n",
              "       -5.31148016e-02, -1.28743174e-02,  7.85739645e-02,  1.68893151e-02,\n",
              "        4.20450009e-02,  7.77943712e-03, -3.86383832e-02,  1.66100357e-02,\n",
              "       -2.79966481e-02,  1.48560032e-02, -5.39843403e-02,  2.19695852e-03,\n",
              "        2.94450987e-02,  6.14783764e-02, -2.99218222e-02, -3.40338517e-03,\n",
              "        4.24385294e-02,  9.84155461e-02,  1.35241998e-02,  2.97206752e-02,\n",
              "        3.90555747e-02,  1.26505746e-02,  2.94025056e-02,  2.21714918e-02,\n",
              "        4.77644131e-02, -5.95933236e-02, -5.61586209e-02,  4.27517705e-02,\n",
              "       -1.40016964e-02, -2.04346050e-02, -9.92370769e-03,  2.58254092e-02,\n",
              "        3.40152904e-02,  1.81477312e-02, -2.60862857e-02, -6.29272908e-02,\n",
              "       -1.52320517e-02,  1.67290438e-02, -6.93746880e-02,  4.46573719e-02,\n",
              "        4.40576859e-02,  9.15599708e-03,  4.11463752e-02, -8.44522938e-02,\n",
              "        2.17793994e-02,  1.12430938e-01,  6.61621103e-03,  1.03918808e-02,\n",
              "       -8.06177035e-03,  9.43952240e-03,  6.84571490e-02, -3.06709297e-03,\n",
              "       -2.16761418e-02, -2.11475771e-02,  2.29355805e-02,  3.74388583e-02,\n",
              "       -1.62461139e-02, -1.06469363e-01, -2.91683041e-02,  2.20892602e-03,\n",
              "       -1.75262410e-02,  5.90561517e-02,  4.12442535e-02, -3.40996459e-02,\n",
              "        3.70180309e-02, -7.21404282e-03,  1.83054116e-02, -4.31538885e-03,\n",
              "       -3.53333279e-02, -2.15277113e-02, -4.79833316e-03,  3.43629420e-02,\n",
              "       -4.66537513e-02, -1.19183194e-02, -9.28745233e-03,  1.51437102e-02,\n",
              "       -1.97701789e-02, -1.92887243e-02,  2.98407450e-02,  2.08444381e-03,\n",
              "       -9.83591229e-02, -3.70389223e-02,  4.16845381e-02,  2.59264447e-02,\n",
              "       -4.47499156e-02,  3.49052995e-02,  7.75034130e-02,  1.41357421e-03,\n",
              "       -5.38445227e-02, -4.18273136e-02, -7.95622841e-02,  3.56687307e-02,\n",
              "       -2.45110760e-03,  4.89877611e-02, -3.13915834e-02, -1.81523096e-02,\n",
              "       -2.53501185e-03, -4.24865298e-02, -1.63274165e-03,  5.16171902e-02,\n",
              "        1.25232665e-02, -3.63930240e-02, -5.51388562e-02, -7.29411095e-02,\n",
              "       -2.55226977e-02,  4.22951169e-02,  2.29168702e-02,  5.17083593e-02,\n",
              "        3.06091830e-02,  6.52706367e-04,  2.06175745e-02, -7.98688903e-02,\n",
              "        3.04402262e-02,  9.99515411e-03,  1.00169457e-01,  4.32370864e-02,\n",
              "       -5.60504496e-02,  5.00197299e-02,  4.15032431e-02,  7.47638047e-02,\n",
              "       -5.81492968e-02, -9.61777009e-03,  1.17183849e-02,  2.90399361e-02,\n",
              "        5.07203005e-02,  4.38746158e-03,  3.46590541e-02, -7.73465112e-02,\n",
              "       -5.62871667e-03,  4.90326062e-03, -2.50341017e-02,  6.10425184e-03,\n",
              "       -5.11261672e-02, -3.21485437e-02, -1.61254834e-02,  2.66499296e-02,\n",
              "        1.69945764e-04,  1.54033815e-02, -4.63891402e-02,  4.42648046e-02,\n",
              "        5.48755657e-03,  3.67570929e-02,  1.56042902e-02,  2.75264913e-03,\n",
              "        2.32707784e-02,  2.75553465e-02, -2.31922753e-02,  7.66333006e-03,\n",
              "        5.46217375e-02, -2.58808248e-02, -2.54269335e-02,  1.40255801e-02,\n",
              "        2.33342107e-02, -3.53902802e-02,  1.37400639e-03, -1.22526206e-01,\n",
              "       -2.36538090e-02, -9.01316106e-02, -3.38809490e-02, -3.75173637e-03,\n",
              "       -7.63669312e-02, -3.34911831e-02,  8.03904794e-03,  2.38596015e-02,\n",
              "        6.31634369e-02, -8.61410331e-03,  2.47566253e-02, -2.34356858e-02,\n",
              "        8.55702758e-02,  1.97501294e-02,  2.23041382e-02, -5.94056677e-03,\n",
              "        3.53015624e-02, -3.81175913e-02,  3.96533171e-03,  7.45414943e-02,\n",
              "       -1.91744659e-02,  2.68182661e-02,  1.92811210e-02, -4.18484509e-02,\n",
              "        4.98271063e-02, -6.48846701e-02, -4.22053896e-02, -1.66695341e-02,\n",
              "       -2.48882687e-03,  1.02613820e-02, -7.22033670e-03,  5.70496591e-03,\n",
              "       -6.71056211e-02, -1.77966598e-02, -2.70382930e-02, -5.84999972e-04,\n",
              "        4.49269488e-02, -1.57153532e-02,  7.27325818e-03,  4.42917310e-02,\n",
              "       -4.20813262e-03, -3.44993919e-02,  5.25012016e-02,  1.38121927e-02,\n",
              "        1.86044723e-02, -6.10333234e-02, -5.49762249e-02,  1.85381919e-02,\n",
              "        1.93331353e-02, -5.90152619e-03, -1.87540855e-02,  6.23049773e-03,\n",
              "       -4.49376516e-02,  1.14287715e-03,  4.01576683e-02,  3.87366228e-02,\n",
              "        4.79997434e-02, -1.72863044e-02, -2.56423298e-02, -1.11001246e-02,\n",
              "       -3.52550820e-02,  1.04708653e-02,  5.10337995e-05,  1.15172314e-02,\n",
              "       -8.13001767e-03, -7.14029884e-03,  5.79758622e-02,  7.57051399e-03,\n",
              "       -2.15520766e-02,  1.57975908e-02, -2.73689926e-02,  4.88645732e-02,\n",
              "        4.09236504e-03,  5.56472801e-02,  1.85724758e-02, -1.82305444e-02,\n",
              "       -1.88474059e-02, -7.16396281e-03,  7.40021840e-02, -1.18287019e-02,\n",
              "       -1.00114131e-02, -5.57860844e-02, -1.15944948e-02, -5.68076894e-02,\n",
              "       -5.31653427e-02, -3.95235680e-02, -7.73632759e-03,  1.48393158e-02,\n",
              "       -1.21306479e-02, -1.48287257e-02, -9.40273255e-02, -4.14093211e-02,\n",
              "       -6.22117519e-02, -3.66897471e-02, -7.19306245e-02, -4.96109203e-03,\n",
              "       -8.26473162e-03, -4.84607648e-03, -5.41395247e-02, -5.47733298e-03,\n",
              "        2.13313550e-02, -5.95199689e-02,  1.71432048e-02,  6.00724667e-02,\n",
              "        2.33884454e-02,  2.93539595e-02, -7.13598391e-04,  5.08081876e-02,\n",
              "       -1.55542023e-03,  7.90110901e-02,  5.96328825e-02, -8.07010084e-02,\n",
              "        2.96646282e-02, -8.77251569e-03, -2.27213558e-02, -5.23323976e-02,\n",
              "       -1.14413938e-02,  5.77055775e-02,  2.98996549e-03,  2.16392241e-02,\n",
              "        5.07020345e-03,  9.21926722e-02,  4.73030992e-02, -2.79161409e-02,\n",
              "       -1.07703935e-02, -4.60523330e-02, -3.17067467e-02,  9.28334519e-03,\n",
              "       -1.54515682e-02,  1.33604389e-02,  2.74017584e-02,  5.54667078e-02,\n",
              "        6.89557865e-02, -6.39376836e-03, -5.42475171e-02, -7.10984021e-02,\n",
              "        1.30704613e-02, -4.22990285e-02, -1.37758488e-02,  2.54112463e-02,\n",
              "       -3.14092562e-02, -9.86812487e-02, -1.79862864e-02,  6.51727710e-03,\n",
              "       -2.88322847e-02, -3.82762067e-02,  4.82358132e-03,  4.96935695e-02,\n",
              "       -4.30592149e-03,  2.88634207e-02,  2.06250884e-02,  7.54913911e-02,\n",
              "        2.36582593e-03,  3.08955815e-02, -4.14658636e-02, -5.54567836e-02,\n",
              "       -1.01801129e-02, -1.34679098e-02,  2.69101211e-03,  4.68248874e-03,\n",
              "        5.07650059e-03, -1.13530867e-02,  7.88526461e-02, -1.82323263e-03,\n",
              "       -6.68602809e-02,  3.50658596e-02, -4.62508537e-02,  9.88947228e-03,\n",
              "        1.85253415e-02,  4.09839228e-02,  5.40541634e-02, -2.80025080e-02,\n",
              "       -9.12524164e-02,  3.29178050e-02,  7.75079057e-03, -1.45381801e-02,\n",
              "       -1.36483228e-02, -4.27226797e-02,  3.20696160e-02, -4.36635688e-02,\n",
              "        6.31270781e-02, -7.23650912e-03, -3.94961871e-02,  6.02953881e-02,\n",
              "       -2.17675716e-02, -4.07466218e-02,  3.69887315e-02,  5.86041398e-02,\n",
              "        2.92384885e-02,  3.55389109e-03,  2.42581535e-02, -6.20657520e-04,\n",
              "        8.39095749e-03, -5.91811026e-03, -6.23443685e-02,  3.83747779e-02,\n",
              "        2.22819988e-02, -3.77076678e-02, -1.90907903e-02,  7.27014104e-03,\n",
              "        2.36380212e-02,  2.58732401e-02,  7.98909143e-02,  1.51320808e-02,\n",
              "       -2.92843161e-03,  1.31117282e-02,  7.69080669e-02, -4.07974236e-02,\n",
              "        2.90769450e-02, -1.79375336e-02, -3.44640538e-02,  5.24633825e-02],\n",
              "      dtype=float32)"
            ]
          },
          "metadata": {},
          "execution_count": 49
        }
      ]
    },
    {
      "cell_type": "code",
      "source": [
        "X_train_embeddings[0].shape"
      ],
      "metadata": {
        "colab": {
          "base_uri": "https://localhost:8080/"
        },
        "id": "Fd6IhqpEp0Ar",
        "outputId": "48adcfc8-d5ca-48cc-8612-25b995fc1b4f"
      },
      "execution_count": 50,
      "outputs": [
        {
          "output_type": "execute_result",
          "data": {
            "text/plain": [
              "(512,)"
            ]
          },
          "metadata": {},
          "execution_count": 50
        }
      ]
    },
    {
      "cell_type": "code",
      "source": [
        "# Similarly embedding the test english texts\n",
        "X_test_english_embeddings = []\n",
        "\n",
        "for index, row in X_test.iterrows():\n",
        "  X_test_english_embeddings.append(encoder.encode(row['text']))"
      ],
      "metadata": {
        "id": "784SK7VrmXYE"
      },
      "execution_count": 51,
      "outputs": []
    },
    {
      "cell_type": "code",
      "source": [
        "len(X_test_english_embeddings)"
      ],
      "metadata": {
        "colab": {
          "base_uri": "https://localhost:8080/"
        },
        "id": "F-ZDftEksMS0",
        "outputId": "93f7484e-bca4-4824-f2a2-2ea486068bb3"
      },
      "execution_count": 52,
      "outputs": [
        {
          "output_type": "execute_result",
          "data": {
            "text/plain": [
              "1101"
            ]
          },
          "metadata": {},
          "execution_count": 52
        }
      ]
    },
    {
      "cell_type": "code",
      "source": [
        "# Now, we will select additional 3 languages and encode them to vectors\n",
        "\n",
        "# 1st Language - French\n",
        "X_test_french_embeddings = []\n",
        "\n",
        "for index, row in X_test.iterrows():\n",
        "  X_test_french_embeddings.append(encoder.encode(row['text_fr']))"
      ],
      "metadata": {
        "id": "dlXJZfhemXd4"
      },
      "execution_count": 53,
      "outputs": []
    },
    {
      "cell_type": "code",
      "source": [
        "# 2nd Language - Arabic\n",
        "X_test_arabic_embeddings = []\n",
        "\n",
        "for index, row in X_test.iterrows():\n",
        "  X_test_arabic_embeddings.append(encoder.encode(row['text_ar']))"
      ],
      "metadata": {
        "id": "Q2Ufx_GCmXjB"
      },
      "execution_count": 54,
      "outputs": []
    },
    {
      "cell_type": "code",
      "source": [
        "# 3rd Language - Spanish\n",
        "X_test_spanish_embeddings = []\n",
        "\n",
        "for index, row in X_test.iterrows():\n",
        "  X_test_spanish_embeddings.append(encoder.encode(row['text_es']))"
      ],
      "metadata": {
        "id": "4WPc99AyrrGd"
      },
      "execution_count": 55,
      "outputs": []
    },
    {
      "cell_type": "markdown",
      "source": [
        "### Train and Test Data"
      ],
      "metadata": {
        "id": "QPVn3YnEZiSc"
      }
    },
    {
      "cell_type": "code",
      "source": [
        "y_train = y_train.values\n",
        "y_test = y_test.values"
      ],
      "metadata": {
        "id": "9t9SlgSSueXX"
      },
      "execution_count": 56,
      "outputs": []
    },
    {
      "cell_type": "code",
      "source": [
        "print(f'Size of train data: X: {len(X_train_embeddings)}, y: {len(y_train)}')\n",
        "print(f'Size of test data: X: {len(X_test_english_embeddings)}, y: {len(y_test)}')"
      ],
      "metadata": {
        "colab": {
          "base_uri": "https://localhost:8080/"
        },
        "id": "PrP4xEySsUJf",
        "outputId": "5e9276d8-b71e-430a-b948-589c162653db"
      },
      "execution_count": 57,
      "outputs": [
        {
          "output_type": "stream",
          "name": "stdout",
          "text": [
            "Size of train data: X: 4400, y: 4400\n",
            "Size of test data: X: 1101, y: 1101\n"
          ]
        }
      ]
    },
    {
      "cell_type": "code",
      "source": [
        "print(f'Size of French test data: X: {len(X_test_french_embeddings)}, y: {len(y_test)}')\n",
        "print(f'Size of Arabic test data: X: {len(X_test_arabic_embeddings)}, y: {len(y_test)}')\n",
        "print(f'Size of Spanish test data: X: {len(X_test_spanish_embeddings)}, y: {len(y_test)}')"
      ],
      "metadata": {
        "colab": {
          "base_uri": "https://localhost:8080/"
        },
        "id": "dpQoM3qQtq5l",
        "outputId": "80fd4760-9d92-4e57-b3f8-f45e89112b79"
      },
      "execution_count": 58,
      "outputs": [
        {
          "output_type": "stream",
          "name": "stdout",
          "text": [
            "Size of French test data: X: 1101, y: 1101\n",
            "Size of Arabic test data: X: 1101, y: 1101\n",
            "Size of Spanish test data: X: 1101, y: 1101\n"
          ]
        }
      ]
    },
    {
      "cell_type": "markdown",
      "source": [
        "### Model Evaluation Functions"
      ],
      "metadata": {
        "id": "kktMgh2QtNn3"
      }
    },
    {
      "cell_type": "code",
      "source": [
        "import matplotlib.pyplot as plt\n",
        "import seaborn as sns\n",
        "import numpy as np\n",
        "import pandas as pd"
      ],
      "metadata": {
        "id": "zTK9ucr7cRM2"
      },
      "execution_count": 59,
      "outputs": []
    },
    {
      "cell_type": "code",
      "source": [
        "# Function to plot confusion matrices of all languages on a model\n",
        "def confusion_matrix_comparison(cm):\n",
        "  # List of confusion matrices and languages\n",
        "  confusion_matrices = cm\n",
        "  language_names = ['English', 'French', 'Arabic', 'Spanish']\n",
        "\n",
        "  # Set up subplots\n",
        "  fig, axes = plt.subplots(nrows=2, ncols=2, figsize=(8, 6))\n",
        "\n",
        "  # Loop through confusion matrices and languages\n",
        "  for i, (cm, lang) in enumerate(zip(confusion_matrices, language_names)):\n",
        "      plt.subplot(2, 2, i+1)\n",
        "      sns.heatmap(cm, annot=True, fmt='d', cmap='Blues', cbar=False, annot_kws={\"size\": 14})\n",
        "      plt.title(f'Confusion Matrix - {lang}', fontsize=16)\n",
        "      plt.xlabel('Predicted', fontsize=14)\n",
        "      plt.ylabel('Actual', fontsize=14)\n",
        "\n",
        "  plt.tight_layout()\n",
        "  plt.show()"
      ],
      "metadata": {
        "id": "sXpWghhItNog"
      },
      "execution_count": 60,
      "outputs": []
    },
    {
      "cell_type": "code",
      "source": [
        "# Function to calculate correct and wrong predictions from confusion matrix\n",
        "def calculate_predictions(conf_matrix):\n",
        "    true_positive = conf_matrix[0, 0]\n",
        "    false_positive = conf_matrix[1, 0]\n",
        "    true_negative = conf_matrix[1, 1]\n",
        "    false_negative = conf_matrix[0, 1]\n",
        "    return true_positive, false_positive, true_negative, false_negative"
      ],
      "metadata": {
        "id": "km8GbTWCtNoi"
      },
      "execution_count": 61,
      "outputs": []
    },
    {
      "cell_type": "code",
      "source": [
        "def count_plot_comparison(cm):\n",
        "  confusion_matrices = cm\n",
        "  language_names = ['English', 'French', 'Arabic', 'Spanish']\n",
        "\n",
        "  # Calculate predictions for each language\n",
        "  predictions = [calculate_predictions(cm) for cm in confusion_matrices]\n",
        "\n",
        "  # Create a DataFrame for count plot\n",
        "  df_predictions = pd.DataFrame(predictions, columns=['True Positive', 'False Positive', 'True Negative', 'False Negative'])\n",
        "  df_predictions['Language'] = language_names\n",
        "\n",
        "  # Melt the DataFrame for count plot\n",
        "  df_melted = pd.melt(df_predictions, id_vars='Language', var_name='Prediction Type', value_name='Count')\n",
        "\n",
        "  # Creating a count plot\n",
        "  sns.barplot(y='Count', x='Language', hue='Prediction Type', data=df_melted)\n",
        "  plt.title('Language Comparison - Predictions', fontsize=16)\n",
        "  plt.xlabel('Language', fontsize=14)\n",
        "  plt.ylabel('Count', fontsize=14)\n",
        "\n",
        "  plt.show()"
      ],
      "metadata": {
        "id": "txkERTz8tNoj"
      },
      "execution_count": 62,
      "outputs": []
    },
    {
      "cell_type": "markdown",
      "source": [
        "### Model 1 Training and Evaluation - SVM Model"
      ],
      "metadata": {
        "id": "qxWwNzV8t8I7"
      }
    },
    {
      "cell_type": "code",
      "source": [
        "from sklearn.svm import SVC\n",
        "\n",
        "classifier = SVC(kernel='linear')\n",
        "classifier.fit(X_train_embeddings, y_train)"
      ],
      "metadata": {
        "colab": {
          "base_uri": "https://localhost:8080/",
          "height": 75
        },
        "id": "D10HP5KluDjk",
        "outputId": "6c008fb5-1636-4129-f263-4da8ec916912"
      },
      "execution_count": 63,
      "outputs": [
        {
          "output_type": "execute_result",
          "data": {
            "text/plain": [
              "SVC(kernel='linear')"
            ],
            "text/html": [
              "<style>#sk-container-id-5 {color: black;background-color: white;}#sk-container-id-5 pre{padding: 0;}#sk-container-id-5 div.sk-toggleable {background-color: white;}#sk-container-id-5 label.sk-toggleable__label {cursor: pointer;display: block;width: 100%;margin-bottom: 0;padding: 0.3em;box-sizing: border-box;text-align: center;}#sk-container-id-5 label.sk-toggleable__label-arrow:before {content: \"▸\";float: left;margin-right: 0.25em;color: #696969;}#sk-container-id-5 label.sk-toggleable__label-arrow:hover:before {color: black;}#sk-container-id-5 div.sk-estimator:hover label.sk-toggleable__label-arrow:before {color: black;}#sk-container-id-5 div.sk-toggleable__content {max-height: 0;max-width: 0;overflow: hidden;text-align: left;background-color: #f0f8ff;}#sk-container-id-5 div.sk-toggleable__content pre {margin: 0.2em;color: black;border-radius: 0.25em;background-color: #f0f8ff;}#sk-container-id-5 input.sk-toggleable__control:checked~div.sk-toggleable__content {max-height: 200px;max-width: 100%;overflow: auto;}#sk-container-id-5 input.sk-toggleable__control:checked~label.sk-toggleable__label-arrow:before {content: \"▾\";}#sk-container-id-5 div.sk-estimator input.sk-toggleable__control:checked~label.sk-toggleable__label {background-color: #d4ebff;}#sk-container-id-5 div.sk-label input.sk-toggleable__control:checked~label.sk-toggleable__label {background-color: #d4ebff;}#sk-container-id-5 input.sk-hidden--visually {border: 0;clip: rect(1px 1px 1px 1px);clip: rect(1px, 1px, 1px, 1px);height: 1px;margin: -1px;overflow: hidden;padding: 0;position: absolute;width: 1px;}#sk-container-id-5 div.sk-estimator {font-family: monospace;background-color: #f0f8ff;border: 1px dotted black;border-radius: 0.25em;box-sizing: border-box;margin-bottom: 0.5em;}#sk-container-id-5 div.sk-estimator:hover {background-color: #d4ebff;}#sk-container-id-5 div.sk-parallel-item::after {content: \"\";width: 100%;border-bottom: 1px solid gray;flex-grow: 1;}#sk-container-id-5 div.sk-label:hover label.sk-toggleable__label {background-color: #d4ebff;}#sk-container-id-5 div.sk-serial::before {content: \"\";position: absolute;border-left: 1px solid gray;box-sizing: border-box;top: 0;bottom: 0;left: 50%;z-index: 0;}#sk-container-id-5 div.sk-serial {display: flex;flex-direction: column;align-items: center;background-color: white;padding-right: 0.2em;padding-left: 0.2em;position: relative;}#sk-container-id-5 div.sk-item {position: relative;z-index: 1;}#sk-container-id-5 div.sk-parallel {display: flex;align-items: stretch;justify-content: center;background-color: white;position: relative;}#sk-container-id-5 div.sk-item::before, #sk-container-id-5 div.sk-parallel-item::before {content: \"\";position: absolute;border-left: 1px solid gray;box-sizing: border-box;top: 0;bottom: 0;left: 50%;z-index: -1;}#sk-container-id-5 div.sk-parallel-item {display: flex;flex-direction: column;z-index: 1;position: relative;background-color: white;}#sk-container-id-5 div.sk-parallel-item:first-child::after {align-self: flex-end;width: 50%;}#sk-container-id-5 div.sk-parallel-item:last-child::after {align-self: flex-start;width: 50%;}#sk-container-id-5 div.sk-parallel-item:only-child::after {width: 0;}#sk-container-id-5 div.sk-dashed-wrapped {border: 1px dashed gray;margin: 0 0.4em 0.5em 0.4em;box-sizing: border-box;padding-bottom: 0.4em;background-color: white;}#sk-container-id-5 div.sk-label label {font-family: monospace;font-weight: bold;display: inline-block;line-height: 1.2em;}#sk-container-id-5 div.sk-label-container {text-align: center;}#sk-container-id-5 div.sk-container {/* jupyter's `normalize.less` sets `[hidden] { display: none; }` but bootstrap.min.css set `[hidden] { display: none !important; }` so we also need the `!important` here to be able to override the default hidden behavior on the sphinx rendered scikit-learn.org. See: https://github.com/scikit-learn/scikit-learn/issues/21755 */display: inline-block !important;position: relative;}#sk-container-id-5 div.sk-text-repr-fallback {display: none;}</style><div id=\"sk-container-id-5\" class=\"sk-top-container\"><div class=\"sk-text-repr-fallback\"><pre>SVC(kernel=&#x27;linear&#x27;)</pre><b>In a Jupyter environment, please rerun this cell to show the HTML representation or trust the notebook. <br />On GitHub, the HTML representation is unable to render, please try loading this page with nbviewer.org.</b></div><div class=\"sk-container\" hidden><div class=\"sk-item\"><div class=\"sk-estimator sk-toggleable\"><input class=\"sk-toggleable__control sk-hidden--visually\" id=\"sk-estimator-id-5\" type=\"checkbox\" checked><label for=\"sk-estimator-id-5\" class=\"sk-toggleable__label sk-toggleable__label-arrow\">SVC</label><div class=\"sk-toggleable__content\"><pre>SVC(kernel=&#x27;linear&#x27;)</pre></div></div></div></div></div>"
            ]
          },
          "metadata": {},
          "execution_count": 63
        }
      ]
    },
    {
      "cell_type": "code",
      "source": [
        "# Testing for English texts\n",
        "y_pred_en_svc = classifier.predict(X_test_english_embeddings)\n",
        "\n",
        "acc_en_svc = accuracy_score(y_test,y_pred_en_svc)\n",
        "cm_en_svc = confusion_matrix(y_test,y_pred_en_svc)\n",
        "cr_en_svc = classification_report(y_test, y_pred_en_svc, target_names=['ham', 'spam'])\n",
        "\n",
        "print(f'Accuracy of SVC for English Texts is {acc_en_svc:.4f}\\n')\n",
        "print(f'Confusion Matrix of SVC for English Texts is \\n{cm_en_svc}\\n')\n",
        "print(f'Classification Report of SVC for English Texts is \\n{cr_en_svc}')"
      ],
      "metadata": {
        "colab": {
          "base_uri": "https://localhost:8080/"
        },
        "id": "4tjNv3PWwBNK",
        "outputId": "9072b1bd-ce8f-4dfa-970f-b8d707dce441"
      },
      "execution_count": 64,
      "outputs": [
        {
          "output_type": "stream",
          "name": "stdout",
          "text": [
            "Accuracy of SVC for English Texts is 0.9918\n",
            "\n",
            "Confusion Matrix of SVC for English Texts is \n",
            "[[939   0]\n",
            " [  9 153]]\n",
            "\n",
            "Classification Report of SVC for English Texts is \n",
            "              precision    recall  f1-score   support\n",
            "\n",
            "         ham       0.99      1.00      1.00       939\n",
            "        spam       1.00      0.94      0.97       162\n",
            "\n",
            "    accuracy                           0.99      1101\n",
            "   macro avg       1.00      0.97      0.98      1101\n",
            "weighted avg       0.99      0.99      0.99      1101\n",
            "\n"
          ]
        }
      ]
    },
    {
      "cell_type": "code",
      "source": [
        "# Testing for French texts\n",
        "y_pred_fr_svc = classifier.predict(X_test_french_embeddings)\n",
        "\n",
        "acc_fr_svc = accuracy_score(y_test,y_pred_fr_svc)\n",
        "cm_fr_svc = confusion_matrix(y_test,y_pred_fr_svc)\n",
        "cr_fr_svc = classification_report(y_test, y_pred_fr_svc, target_names=['ham', 'spam'])\n",
        "\n",
        "print(f'Accuracy of SVC for French Texts is {acc_fr_svc:.4f}\\n')\n",
        "print(f'Confusion Matrix of SVC for French Texts is \\n{cm_fr_svc}\\n')\n",
        "print(f'Classification Report of SVC for French Texts is \\n{cr_fr_svc}')"
      ],
      "metadata": {
        "colab": {
          "base_uri": "https://localhost:8080/"
        },
        "id": "VOzv_Ik20UVX",
        "outputId": "8d7d155b-bba6-41ba-d696-08f20f2f9800"
      },
      "execution_count": 65,
      "outputs": [
        {
          "output_type": "stream",
          "name": "stdout",
          "text": [
            "Accuracy of SVC for French Texts is 0.9882\n",
            "\n",
            "Confusion Matrix of SVC for French Texts is \n",
            "[[938   1]\n",
            " [ 12 150]]\n",
            "\n",
            "Classification Report of SVC for French Texts is \n",
            "              precision    recall  f1-score   support\n",
            "\n",
            "         ham       0.99      1.00      0.99       939\n",
            "        spam       0.99      0.93      0.96       162\n",
            "\n",
            "    accuracy                           0.99      1101\n",
            "   macro avg       0.99      0.96      0.98      1101\n",
            "weighted avg       0.99      0.99      0.99      1101\n",
            "\n"
          ]
        }
      ]
    },
    {
      "cell_type": "code",
      "source": [
        "# Testing for Arabic texts\n",
        "y_pred_ar_svc = classifier.predict(X_test_arabic_embeddings)\n",
        "\n",
        "acc_ar_svc = accuracy_score(y_test,y_pred_ar_svc)\n",
        "cm_ar_svc = confusion_matrix(y_test,y_pred_ar_svc)\n",
        "cr_ar_svc = classification_report(y_test, y_pred_ar_svc, target_names=['ham', 'spam'])\n",
        "\n",
        "print(f'Accuracy of SVC for Arabic Texts is {acc_ar_svc:.4f}\\n')\n",
        "print(f'Confusion Matrix of SVC for Arabic Texts is \\n{cm_ar_svc}\\n')\n",
        "print(f'Classification Report of SVC for Arabic Texts is \\n{cr_ar_svc}')"
      ],
      "metadata": {
        "colab": {
          "base_uri": "https://localhost:8080/"
        },
        "id": "ZIUXPqL_0sBx",
        "outputId": "b1ad0a09-3e6e-426e-eeee-4b250fc26761"
      },
      "execution_count": 66,
      "outputs": [
        {
          "output_type": "stream",
          "name": "stdout",
          "text": [
            "Accuracy of SVC for Arabic Texts is 0.9791\n",
            "\n",
            "Confusion Matrix of SVC for Arabic Texts is \n",
            "[[938   1]\n",
            " [ 22 140]]\n",
            "\n",
            "Classification Report of SVC for Arabic Texts is \n",
            "              precision    recall  f1-score   support\n",
            "\n",
            "         ham       0.98      1.00      0.99       939\n",
            "        spam       0.99      0.86      0.92       162\n",
            "\n",
            "    accuracy                           0.98      1101\n",
            "   macro avg       0.98      0.93      0.96      1101\n",
            "weighted avg       0.98      0.98      0.98      1101\n",
            "\n"
          ]
        }
      ]
    },
    {
      "cell_type": "code",
      "source": [
        "# Testing for Spanish texts\n",
        "y_pred_es_svc = classifier.predict(X_test_spanish_embeddings)\n",
        "\n",
        "acc_es_svc = accuracy_score(y_test,y_pred_es_svc)\n",
        "cm_es_svc = confusion_matrix(y_test,y_pred_es_svc)\n",
        "cr_es_svc = classification_report(y_test, y_pred_es_svc, target_names=['ham', 'spam'])\n",
        "\n",
        "print(f'Accuracy of SVC for Spanish Texts is {acc_es_svc:.4f}\\n')\n",
        "print(f'Confusion Matrix of SVC for Spanish Texts is \\n{cm_es_svc}\\n')\n",
        "print(f'Classification Report of SVC for Spanish Texts is \\n{cr_es_svc}')"
      ],
      "metadata": {
        "colab": {
          "base_uri": "https://localhost:8080/"
        },
        "id": "q7AhMpRt1HF8",
        "outputId": "de14f6df-54a6-49f3-94a5-b8879940b716"
      },
      "execution_count": 67,
      "outputs": [
        {
          "output_type": "stream",
          "name": "stdout",
          "text": [
            "Accuracy of SVC for Spanish Texts is 0.9855\n",
            "\n",
            "Confusion Matrix of SVC for Spanish Texts is \n",
            "[[939   0]\n",
            " [ 16 146]]\n",
            "\n",
            "Classification Report of SVC for Spanish Texts is \n",
            "              precision    recall  f1-score   support\n",
            "\n",
            "         ham       0.98      1.00      0.99       939\n",
            "        spam       1.00      0.90      0.95       162\n",
            "\n",
            "    accuracy                           0.99      1101\n",
            "   macro avg       0.99      0.95      0.97      1101\n",
            "weighted avg       0.99      0.99      0.99      1101\n",
            "\n"
          ]
        }
      ]
    },
    {
      "cell_type": "markdown",
      "source": [
        "Comapring the performance of different languages on the model"
      ],
      "metadata": {
        "id": "CQHn9yhC5rgv"
      }
    },
    {
      "cell_type": "code",
      "source": [
        "confusion_matrices = [cm_en_svc, cm_fr_svc, cm_ar_svc, cm_es_svc]\n",
        "confusion_matrix_comparison(confusion_matrices)"
      ],
      "metadata": {
        "id": "hWrz7SBg55Ko",
        "colab": {
          "base_uri": "https://localhost:8080/",
          "height": 607
        },
        "outputId": "96c8567d-9a19-4fec-86f1-22c419c3a804"
      },
      "execution_count": 68,
      "outputs": [
        {
          "output_type": "display_data",
          "data": {
            "text/plain": [
              "<Figure size 800x600 with 4 Axes>"
            ],
            "image/png": "[encoded data removed]"
          },
          "metadata": {}
        }
      ]
    },
    {
      "cell_type": "code",
      "source": [
        "count_plot_comparison(confusion_matrices)"
      ],
      "metadata": {
        "colab": {
          "base_uri": "https://localhost:8080/",
          "height": 479
        },
        "id": "LuhiNQQM3Mlu",
        "outputId": "87bdfa00-60c9-4b69-b3a4-a985d6ab2c3f"
      },
      "execution_count": 69,
      "outputs": [
        {
          "output_type": "display_data",
          "data": {
            "text/plain": [
              "<Figure size 640x480 with 1 Axes>"
            ],
            "image/png": "[encoded data removed]"
          },
          "metadata": {}
        }
      ]
    },
    {
      "cell_type": "markdown",
      "source": [
        "### Model 2 Training and Evaluation - Naive Bayes Model"
      ],
      "metadata": {
        "id": "d2VEoQqY7BMl"
      }
    },
    {
      "cell_type": "code",
      "source": [
        "from sklearn.naive_bayes import GaussianNB\n",
        "\n",
        "gnb = GaussianNB()\n",
        "gnb.fit(X_train_embeddings, y_train)"
      ],
      "metadata": {
        "colab": {
          "base_uri": "https://localhost:8080/",
          "height": 75
        },
        "id": "jupHaO3J7K7z",
        "outputId": "80d77749-1d95-45bf-b7fb-61963b767252"
      },
      "execution_count": 70,
      "outputs": [
        {
          "output_type": "execute_result",
          "data": {
            "text/plain": [
              "GaussianNB()"
            ],
            "text/html": [
              "<style>#sk-container-id-6 {color: black;background-color: white;}#sk-container-id-6 pre{padding: 0;}#sk-container-id-6 div.sk-toggleable {background-color: white;}#sk-container-id-6 label.sk-toggleable__label {cursor: pointer;display: block;width: 100%;margin-bottom: 0;padding: 0.3em;box-sizing: border-box;text-align: center;}#sk-container-id-6 label.sk-toggleable__label-arrow:before {content: \"▸\";float: left;margin-right: 0.25em;color: #696969;}#sk-container-id-6 label.sk-toggleable__label-arrow:hover:before {color: black;}#sk-container-id-6 div.sk-estimator:hover label.sk-toggleable__label-arrow:before {color: black;}#sk-container-id-6 div.sk-toggleable__content {max-height: 0;max-width: 0;overflow: hidden;text-align: left;background-color: #f0f8ff;}#sk-container-id-6 div.sk-toggleable__content pre {margin: 0.2em;color: black;border-radius: 0.25em;background-color: #f0f8ff;}#sk-container-id-6 input.sk-toggleable__control:checked~div.sk-toggleable__content {max-height: 200px;max-width: 100%;overflow: auto;}#sk-container-id-6 input.sk-toggleable__control:checked~label.sk-toggleable__label-arrow:before {content: \"▾\";}#sk-container-id-6 div.sk-estimator input.sk-toggleable__control:checked~label.sk-toggleable__label {background-color: #d4ebff;}#sk-container-id-6 div.sk-label input.sk-toggleable__control:checked~label.sk-toggleable__label {background-color: #d4ebff;}#sk-container-id-6 input.sk-hidden--visually {border: 0;clip: rect(1px 1px 1px 1px);clip: rect(1px, 1px, 1px, 1px);height: 1px;margin: -1px;overflow: hidden;padding: 0;position: absolute;width: 1px;}#sk-container-id-6 div.sk-estimator {font-family: monospace;background-color: #f0f8ff;border: 1px dotted black;border-radius: 0.25em;box-sizing: border-box;margin-bottom: 0.5em;}#sk-container-id-6 div.sk-estimator:hover {background-color: #d4ebff;}#sk-container-id-6 div.sk-parallel-item::after {content: \"\";width: 100%;border-bottom: 1px solid gray;flex-grow: 1;}#sk-container-id-6 div.sk-label:hover label.sk-toggleable__label {background-color: #d4ebff;}#sk-container-id-6 div.sk-serial::before {content: \"\";position: absolute;border-left: 1px solid gray;box-sizing: border-box;top: 0;bottom: 0;left: 50%;z-index: 0;}#sk-container-id-6 div.sk-serial {display: flex;flex-direction: column;align-items: center;background-color: white;padding-right: 0.2em;padding-left: 0.2em;position: relative;}#sk-container-id-6 div.sk-item {position: relative;z-index: 1;}#sk-container-id-6 div.sk-parallel {display: flex;align-items: stretch;justify-content: center;background-color: white;position: relative;}#sk-container-id-6 div.sk-item::before, #sk-container-id-6 div.sk-parallel-item::before {content: \"\";position: absolute;border-left: 1px solid gray;box-sizing: border-box;top: 0;bottom: 0;left: 50%;z-index: -1;}#sk-container-id-6 div.sk-parallel-item {display: flex;flex-direction: column;z-index: 1;position: relative;background-color: white;}#sk-container-id-6 div.sk-parallel-item:first-child::after {align-self: flex-end;width: 50%;}#sk-container-id-6 div.sk-parallel-item:last-child::after {align-self: flex-start;width: 50%;}#sk-container-id-6 div.sk-parallel-item:only-child::after {width: 0;}#sk-container-id-6 div.sk-dashed-wrapped {border: 1px dashed gray;margin: 0 0.4em 0.5em 0.4em;box-sizing: border-box;padding-bottom: 0.4em;background-color: white;}#sk-container-id-6 div.sk-label label {font-family: monospace;font-weight: bold;display: inline-block;line-height: 1.2em;}#sk-container-id-6 div.sk-label-container {text-align: center;}#sk-container-id-6 div.sk-container {/* jupyter's `normalize.less` sets `[hidden] { display: none; }` but bootstrap.min.css set `[hidden] { display: none !important; }` so we also need the `!important` here to be able to override the default hidden behavior on the sphinx rendered scikit-learn.org. See: https://github.com/scikit-learn/scikit-learn/issues/21755 */display: inline-block !important;position: relative;}#sk-container-id-6 div.sk-text-repr-fallback {display: none;}</style><div id=\"sk-container-id-6\" class=\"sk-top-container\"><div class=\"sk-text-repr-fallback\"><pre>GaussianNB()</pre><b>In a Jupyter environment, please rerun this cell to show the HTML representation or trust the notebook. <br />On GitHub, the HTML representation is unable to render, please try loading this page with nbviewer.org.</b></div><div class=\"sk-container\" hidden><div class=\"sk-item\"><div class=\"sk-estimator sk-toggleable\"><input class=\"sk-toggleable__control sk-hidden--visually\" id=\"sk-estimator-id-6\" type=\"checkbox\" checked><label for=\"sk-estimator-id-6\" class=\"sk-toggleable__label sk-toggleable__label-arrow\">GaussianNB</label><div class=\"sk-toggleable__content\"><pre>GaussianNB()</pre></div></div></div></div></div>"
            ]
          },
          "metadata": {},
          "execution_count": 70
        }
      ]
    },
    {
      "cell_type": "code",
      "source": [
        "# Testing for English texts\n",
        "y_pred_en_gnb = gnb.predict(X_test_english_embeddings)\n",
        "\n",
        "acc_en_gnb = accuracy_score(y_test,y_pred_en_gnb)\n",
        "cm_en_gnb = confusion_matrix(y_test,y_pred_en_gnb)\n",
        "cr_en_gnb = classification_report(y_test, y_pred_en_gnb, target_names=['ham', 'spam'])\n",
        "\n",
        "print(f'Accuracy of GNB for English Texts is {acc_en_gnb:.4f}\\n')\n",
        "print(f'Confusion Matrix of GNB for English Texts is \\n{cm_en_gnb}\\n')\n",
        "print(f'Classification Report of GNB for English Texts is \\n{cr_en_gnb}')"
      ],
      "metadata": {
        "colab": {
          "base_uri": "https://localhost:8080/"
        },
        "id": "oL9l9HVy8B9G",
        "outputId": "c4deb04f-2b39-4cc2-87db-da38d9131c0e"
      },
      "execution_count": 71,
      "outputs": [
        {
          "output_type": "stream",
          "name": "stdout",
          "text": [
            "Accuracy of GNB for English Texts is 0.9809\n",
            "\n",
            "Confusion Matrix of GNB for English Texts is \n",
            "[[930   9]\n",
            " [ 12 150]]\n",
            "\n",
            "Classification Report of GNB for English Texts is \n",
            "              precision    recall  f1-score   support\n",
            "\n",
            "         ham       0.99      0.99      0.99       939\n",
            "        spam       0.94      0.93      0.93       162\n",
            "\n",
            "    accuracy                           0.98      1101\n",
            "   macro avg       0.97      0.96      0.96      1101\n",
            "weighted avg       0.98      0.98      0.98      1101\n",
            "\n"
          ]
        }
      ]
    },
    {
      "cell_type": "code",
      "source": [
        "# Testing for French texts\n",
        "y_pred_fr_gnb = gnb.predict(X_test_french_embeddings)\n",
        "\n",
        "acc_fr_gnb = accuracy_score(y_test,y_pred_fr_gnb)\n",
        "cm_fr_gnb = confusion_matrix(y_test,y_pred_fr_gnb)\n",
        "cr_fr_gnb = classification_report(y_test, y_pred_fr_gnb, target_names=['ham', 'spam'])\n",
        "\n",
        "print(f'Accuracy of GNB for French Texts is {acc_fr_gnb:.4f}\\n')\n",
        "print(f'Confusion Matrix of GNB for French Texts is \\n{cm_fr_gnb}\\n')\n",
        "print(f'Classification Report of GNB for French Texts is \\n{cr_fr_gnb}')"
      ],
      "metadata": {
        "colab": {
          "base_uri": "https://localhost:8080/"
        },
        "id": "pu0-8ur58kHc",
        "outputId": "acce149e-e814-4059-b485-cc001acdc739"
      },
      "execution_count": 72,
      "outputs": [
        {
          "output_type": "stream",
          "name": "stdout",
          "text": [
            "Accuracy of GNB for French Texts is 0.9718\n",
            "\n",
            "Confusion Matrix of GNB for French Texts is \n",
            "[[917  22]\n",
            " [  9 153]]\n",
            "\n",
            "Classification Report of GNB for French Texts is \n",
            "              precision    recall  f1-score   support\n",
            "\n",
            "         ham       0.99      0.98      0.98       939\n",
            "        spam       0.87      0.94      0.91       162\n",
            "\n",
            "    accuracy                           0.97      1101\n",
            "   macro avg       0.93      0.96      0.95      1101\n",
            "weighted avg       0.97      0.97      0.97      1101\n",
            "\n"
          ]
        }
      ]
    },
    {
      "cell_type": "code",
      "source": [
        "# Testing for Arabic texts\n",
        "y_pred_ar_gnb = gnb.predict(X_test_arabic_embeddings)\n",
        "\n",
        "acc_ar_gnb = accuracy_score(y_test,y_pred_ar_gnb)\n",
        "cm_ar_gnb = confusion_matrix(y_test,y_pred_ar_gnb)\n",
        "cr_ar_gnb = classification_report(y_test, y_pred_ar_gnb, target_names=['ham', 'spam'])\n",
        "\n",
        "print(f'Accuracy of GNB for Arabic Texts is {acc_ar_gnb:.4f}\\n')\n",
        "print(f'Confusion Matrix of GNB for Arabic Texts is \\n{cm_ar_gnb}\\n')\n",
        "print(f'Classification Report of GNB for Arabic Texts is \\n{cr_ar_gnb}')"
      ],
      "metadata": {
        "colab": {
          "base_uri": "https://localhost:8080/"
        },
        "id": "QT0-PF4u86Nj",
        "outputId": "ebe13135-d1bd-47e0-8caf-ab61b9f0e5f6"
      },
      "execution_count": 73,
      "outputs": [
        {
          "output_type": "stream",
          "name": "stdout",
          "text": [
            "Accuracy of GNB for Arabic Texts is 0.9728\n",
            "\n",
            "Confusion Matrix of GNB for Arabic Texts is \n",
            "[[925  14]\n",
            " [ 16 146]]\n",
            "\n",
            "Classification Report of GNB for Arabic Texts is \n",
            "              precision    recall  f1-score   support\n",
            "\n",
            "         ham       0.98      0.99      0.98       939\n",
            "        spam       0.91      0.90      0.91       162\n",
            "\n",
            "    accuracy                           0.97      1101\n",
            "   macro avg       0.95      0.94      0.95      1101\n",
            "weighted avg       0.97      0.97      0.97      1101\n",
            "\n"
          ]
        }
      ]
    },
    {
      "cell_type": "code",
      "source": [
        "# Testing for Spanish texts\n",
        "y_pred_es_gnb = gnb.predict(X_test_spanish_embeddings)\n",
        "\n",
        "acc_es_gnb = accuracy_score(y_test,y_pred_es_gnb)\n",
        "cm_es_gnb = confusion_matrix(y_test,y_pred_es_gnb)\n",
        "cr_es_gnb = classification_report(y_test, y_pred_es_gnb, target_names=['ham', 'spam'])\n",
        "\n",
        "print(f'Accuracy of GNB for Spanish Texts is {acc_es_gnb:.4f}\\n')\n",
        "print(f'Confusion Matrix of GNB for Spanish Texts is \\n{cm_es_gnb}\\n')\n",
        "print(f'Classification Report of GNB for Spanish Texts is \\n{cr_es_gnb}')"
      ],
      "metadata": {
        "colab": {
          "base_uri": "https://localhost:8080/"
        },
        "id": "LocdbeOu9SRi",
        "outputId": "e180c147-dcf7-4311-ac43-472ba7cc6eec"
      },
      "execution_count": 74,
      "outputs": [
        {
          "output_type": "stream",
          "name": "stdout",
          "text": [
            "Accuracy of GNB for Spanish Texts is 0.9755\n",
            "\n",
            "Confusion Matrix of GNB for Spanish Texts is \n",
            "[[922  17]\n",
            " [ 10 152]]\n",
            "\n",
            "Classification Report of GNB for Spanish Texts is \n",
            "              precision    recall  f1-score   support\n",
            "\n",
            "         ham       0.99      0.98      0.99       939\n",
            "        spam       0.90      0.94      0.92       162\n",
            "\n",
            "    accuracy                           0.98      1101\n",
            "   macro avg       0.94      0.96      0.95      1101\n",
            "weighted avg       0.98      0.98      0.98      1101\n",
            "\n"
          ]
        }
      ]
    },
    {
      "cell_type": "code",
      "source": [
        "confusion_matrices = [cm_en_gnb, cm_fr_gnb, cm_ar_gnb, cm_es_gnb]\n",
        "confusion_matrix_comparison(confusion_matrices)"
      ],
      "metadata": {
        "id": "P4eYXCwY9rYR",
        "colab": {
          "base_uri": "https://localhost:8080/",
          "height": 607
        },
        "outputId": "780a4c6f-3ef7-4d95-8907-5fb6226f96ff"
      },
      "execution_count": 75,
      "outputs": [
        {
          "output_type": "display_data",
          "data": {
            "text/plain": [
              "<Figure size 800x600 with 4 Axes>"
            ],
            "image/png": "[encoded data removed]"
          },
          "metadata": {}
        }
      ]
    },
    {
      "cell_type": "code",
      "source": [
        "count_plot_comparison(confusion_matrices)"
      ],
      "metadata": {
        "colab": {
          "base_uri": "https://localhost:8080/",
          "height": 479
        },
        "id": "OZFfszYj-coI",
        "outputId": "04bee37e-f655-4667-84fe-29fe568761d2"
      },
      "execution_count": 76,
      "outputs": [
        {
          "output_type": "display_data",
          "data": {
            "text/plain": [
              "<Figure size 640x480 with 1 Axes>"
            ],
            "image/png": "[encoded data removed]"
          },
          "metadata": {}
        }
      ]
    },
    {
      "cell_type": "markdown",
      "source": [
        "We can see that the number of false negatives has increased in comparison to the previous model. The accuracies of predictions has also decreased."
      ],
      "metadata": {
        "id": "zvSxF_aI_0VC"
      }
    },
    {
      "cell_type": "markdown",
      "source": [
        "### Model 3 Training and Evaluation - XGBoost Model"
      ],
      "metadata": {
        "id": "m3_gFdZ3AVaO"
      }
    },
    {
      "cell_type": "code",
      "source": [
        "from sklearn.ensemble import GradientBoostingClassifier\n",
        "\n",
        "xgb = GradientBoostingClassifier(random_state=0)\n",
        "xgb.fit(X_train_embeddings, y_train)"
      ],
      "metadata": {
        "colab": {
          "base_uri": "https://localhost:8080/",
          "height": 75
        },
        "id": "tLcsaxBmM4vz",
        "outputId": "0eff185b-aa75-431f-ca25-29a4a57211c9"
      },
      "execution_count": 77,
      "outputs": [
        {
          "output_type": "execute_result",
          "data": {
            "text/plain": [
              "GradientBoostingClassifier(random_state=0)"
            ],
            "text/html": [
              "<style>#sk-container-id-7 {color: black;background-color: white;}#sk-container-id-7 pre{padding: 0;}#sk-container-id-7 div.sk-toggleable {background-color: white;}#sk-container-id-7 label.sk-toggleable__label {cursor: pointer;display: block;width: 100%;margin-bottom: 0;padding: 0.3em;box-sizing: border-box;text-align: center;}#sk-container-id-7 label.sk-toggleable__label-arrow:before {content: \"▸\";float: left;margin-right: 0.25em;color: #696969;}#sk-container-id-7 label.sk-toggleable__label-arrow:hover:before {color: black;}#sk-container-id-7 div.sk-estimator:hover label.sk-toggleable__label-arrow:before {color: black;}#sk-container-id-7 div.sk-toggleable__content {max-height: 0;max-width: 0;overflow: hidden;text-align: left;background-color: #f0f8ff;}#sk-container-id-7 div.sk-toggleable__content pre {margin: 0.2em;color: black;border-radius: 0.25em;background-color: #f0f8ff;}#sk-container-id-7 input.sk-toggleable__control:checked~div.sk-toggleable__content {max-height: 200px;max-width: 100%;overflow: auto;}#sk-container-id-7 input.sk-toggleable__control:checked~label.sk-toggleable__label-arrow:before {content: \"▾\";}#sk-container-id-7 div.sk-estimator input.sk-toggleable__control:checked~label.sk-toggleable__label {background-color: #d4ebff;}#sk-container-id-7 div.sk-label input.sk-toggleable__control:checked~label.sk-toggleable__label {background-color: #d4ebff;}#sk-container-id-7 input.sk-hidden--visually {border: 0;clip: rect(1px 1px 1px 1px);clip: rect(1px, 1px, 1px, 1px);height: 1px;margin: -1px;overflow: hidden;padding: 0;position: absolute;width: 1px;}#sk-container-id-7 div.sk-estimator {font-family: monospace;background-color: #f0f8ff;border: 1px dotted black;border-radius: 0.25em;box-sizing: border-box;margin-bottom: 0.5em;}#sk-container-id-7 div.sk-estimator:hover {background-color: #d4ebff;}#sk-container-id-7 div.sk-parallel-item::after {content: \"\";width: 100%;border-bottom: 1px solid gray;flex-grow: 1;}#sk-container-id-7 div.sk-label:hover label.sk-toggleable__label {background-color: #d4ebff;}#sk-container-id-7 div.sk-serial::before {content: \"\";position: absolute;border-left: 1px solid gray;box-sizing: border-box;top: 0;bottom: 0;left: 50%;z-index: 0;}#sk-container-id-7 div.sk-serial {display: flex;flex-direction: column;align-items: center;background-color: white;padding-right: 0.2em;padding-left: 0.2em;position: relative;}#sk-container-id-7 div.sk-item {position: relative;z-index: 1;}#sk-container-id-7 div.sk-parallel {display: flex;align-items: stretch;justify-content: center;background-color: white;position: relative;}#sk-container-id-7 div.sk-item::before, #sk-container-id-7 div.sk-parallel-item::before {content: \"\";position: absolute;border-left: 1px solid gray;box-sizing: border-box;top: 0;bottom: 0;left: 50%;z-index: -1;}#sk-container-id-7 div.sk-parallel-item {display: flex;flex-direction: column;z-index: 1;position: relative;background-color: white;}#sk-container-id-7 div.sk-parallel-item:first-child::after {align-self: flex-end;width: 50%;}#sk-container-id-7 div.sk-parallel-item:last-child::after {align-self: flex-start;width: 50%;}#sk-container-id-7 div.sk-parallel-item:only-child::after {width: 0;}#sk-container-id-7 div.sk-dashed-wrapped {border: 1px dashed gray;margin: 0 0.4em 0.5em 0.4em;box-sizing: border-box;padding-bottom: 0.4em;background-color: white;}#sk-container-id-7 div.sk-label label {font-family: monospace;font-weight: bold;display: inline-block;line-height: 1.2em;}#sk-container-id-7 div.sk-label-container {text-align: center;}#sk-container-id-7 div.sk-container {/* jupyter's `normalize.less` sets `[hidden] { display: none; }` but bootstrap.min.css set `[hidden] { display: none !important; }` so we also need the `!important` here to be able to override the default hidden behavior on the sphinx rendered scikit-learn.org. See: https://github.com/scikit-learn/scikit-learn/issues/21755 */display: inline-block !important;position: relative;}#sk-container-id-7 div.sk-text-repr-fallback {display: none;}</style><div id=\"sk-container-id-7\" class=\"sk-top-container\"><div class=\"sk-text-repr-fallback\"><pre>GradientBoostingClassifier(random_state=0)</pre><b>In a Jupyter environment, please rerun this cell to show the HTML representation or trust the notebook. <br />On GitHub, the HTML representation is unable to render, please try loading this page with nbviewer.org.</b></div><div class=\"sk-container\" hidden><div class=\"sk-item\"><div class=\"sk-estimator sk-toggleable\"><input class=\"sk-toggleable__control sk-hidden--visually\" id=\"sk-estimator-id-7\" type=\"checkbox\" checked><label for=\"sk-estimator-id-7\" class=\"sk-toggleable__label sk-toggleable__label-arrow\">GradientBoostingClassifier</label><div class=\"sk-toggleable__content\"><pre>GradientBoostingClassifier(random_state=0)</pre></div></div></div></div></div>"
            ]
          },
          "metadata": {},
          "execution_count": 77
        }
      ]
    },
    {
      "cell_type": "code",
      "source": [
        "# Testing for English texts\n",
        "y_pred_en_xgb = xgb.predict(X_test_english_embeddings)\n",
        "\n",
        "acc_en_xgb = accuracy_score(y_test,y_pred_en_xgb)\n",
        "cm_en_xgb = confusion_matrix(y_test,y_pred_en_xgb)\n",
        "cr_en_xgb = classification_report(y_test, y_pred_en_xgb, target_names=['ham', 'spam'])\n",
        "\n",
        "print(f'Accuracy of XGBoost for English Texts is {acc_en_xgb:.4f}\\n')\n",
        "print(f'Confusion Matrix of XGBoost for English Texts is \\n{cm_en_xgb}\\n')\n",
        "print(f'Classification Report of XGBoost for English Texts is \\n{cr_en_xgb}')"
      ],
      "metadata": {
        "colab": {
          "base_uri": "https://localhost:8080/"
        },
        "id": "coes0zlPBoCD",
        "outputId": "94ea3e89-3364-4b9a-e304-d4c35be72f35"
      },
      "execution_count": 78,
      "outputs": [
        {
          "output_type": "stream",
          "name": "stdout",
          "text": [
            "Accuracy of XGBoost for English Texts is 0.9864\n",
            "\n",
            "Confusion Matrix of XGBoost for English Texts is \n",
            "[[935   4]\n",
            " [ 11 151]]\n",
            "\n",
            "Classification Report of XGBoost for English Texts is \n",
            "              precision    recall  f1-score   support\n",
            "\n",
            "         ham       0.99      1.00      0.99       939\n",
            "        spam       0.97      0.93      0.95       162\n",
            "\n",
            "    accuracy                           0.99      1101\n",
            "   macro avg       0.98      0.96      0.97      1101\n",
            "weighted avg       0.99      0.99      0.99      1101\n",
            "\n"
          ]
        }
      ]
    },
    {
      "cell_type": "code",
      "source": [
        "# Testing for French texts\n",
        "y_pred_fr_xgb = xgb.predict(X_test_french_embeddings)\n",
        "\n",
        "acc_fr_xgb = accuracy_score(y_test,y_pred_fr_xgb)\n",
        "cm_fr_xgb = confusion_matrix(y_test,y_pred_fr_xgb)\n",
        "cr_fr_xgb = classification_report(y_test, y_pred_fr_xgb, target_names=['ham', 'spam'])\n",
        "\n",
        "print(f'Accuracy of XGBoost for French Texts is {acc_fr_xgb:.4f}\\n')\n",
        "print(f'Confusion Matrix of XGBoost for French Texts is \\n{cm_fr_xgb}\\n')\n",
        "print(f'Classification Report of XGBoost for French Texts is \\n{cr_fr_xgb}')"
      ],
      "metadata": {
        "colab": {
          "base_uri": "https://localhost:8080/"
        },
        "id": "RYGtn60dOSoS",
        "outputId": "a033a965-450c-42d2-e640-06ebe0f35cdc"
      },
      "execution_count": 79,
      "outputs": [
        {
          "output_type": "stream",
          "name": "stdout",
          "text": [
            "Accuracy of XGBoost for French Texts is 0.9773\n",
            "\n",
            "Confusion Matrix of XGBoost for French Texts is \n",
            "[[937   2]\n",
            " [ 23 139]]\n",
            "\n",
            "Classification Report of XGBoost for French Texts is \n",
            "              precision    recall  f1-score   support\n",
            "\n",
            "         ham       0.98      1.00      0.99       939\n",
            "        spam       0.99      0.86      0.92       162\n",
            "\n",
            "    accuracy                           0.98      1101\n",
            "   macro avg       0.98      0.93      0.95      1101\n",
            "weighted avg       0.98      0.98      0.98      1101\n",
            "\n"
          ]
        }
      ]
    },
    {
      "cell_type": "code",
      "source": [
        "# Testing for Arabic texts\n",
        "y_pred_ar_xgb = xgb.predict(X_test_arabic_embeddings)\n",
        "\n",
        "acc_ar_xgb = accuracy_score(y_test,y_pred_ar_xgb)\n",
        "cm_ar_xgb = confusion_matrix(y_test,y_pred_ar_xgb)\n",
        "cr_ar_xgb = classification_report(y_test, y_pred_ar_xgb, target_names=['ham', 'spam'])\n",
        "\n",
        "print(f'Accuracy of XGBoost for Arabic Texts is {acc_ar_xgb:.4f}\\n')\n",
        "print(f'Confusion Matrix of XGBoost for Arabic Texts is \\n{cm_ar_xgb}\\n')\n",
        "print(f'Classification Report of XGBoost for Arabic Texts is \\n{cr_ar_xgb}')"
      ],
      "metadata": {
        "colab": {
          "base_uri": "https://localhost:8080/"
        },
        "id": "ew44Pq10OmTk",
        "outputId": "85dde38b-0873-484f-a612-a896556a351c"
      },
      "execution_count": 80,
      "outputs": [
        {
          "output_type": "stream",
          "name": "stdout",
          "text": [
            "Accuracy of XGBoost for Arabic Texts is 0.9655\n",
            "\n",
            "Confusion Matrix of XGBoost for Arabic Texts is \n",
            "[[933   6]\n",
            " [ 32 130]]\n",
            "\n",
            "Classification Report of XGBoost for Arabic Texts is \n",
            "              precision    recall  f1-score   support\n",
            "\n",
            "         ham       0.97      0.99      0.98       939\n",
            "        spam       0.96      0.80      0.87       162\n",
            "\n",
            "    accuracy                           0.97      1101\n",
            "   macro avg       0.96      0.90      0.93      1101\n",
            "weighted avg       0.97      0.97      0.96      1101\n",
            "\n"
          ]
        }
      ]
    },
    {
      "cell_type": "code",
      "source": [
        "# Testing for Spanish texts\n",
        "y_pred_es_xgb = xgb.predict(X_test_spanish_embeddings)\n",
        "\n",
        "acc_es_xgb = accuracy_score(y_test,y_pred_es_xgb)\n",
        "cm_es_xgb = confusion_matrix(y_test,y_pred_es_xgb)\n",
        "cr_es_xgb = classification_report(y_test, y_pred_es_xgb, target_names=['ham', 'spam'])\n",
        "\n",
        "print(f'Accuracy of XGBoost for Spanish Texts is {acc_es_xgb:.4f}\\n')\n",
        "print(f'Confusion Matrix of XGBoost for Spanish Texts is \\n{cm_es_xgb}\\n')\n",
        "print(f'Classification Report of XGBoost for Spanish Texts is \\n{cr_es_xgb}')"
      ],
      "metadata": {
        "colab": {
          "base_uri": "https://localhost:8080/"
        },
        "id": "WP8myAyCO6Yu",
        "outputId": "1ad6000b-5fac-4b4f-e91c-28a7d5636508"
      },
      "execution_count": 81,
      "outputs": [
        {
          "output_type": "stream",
          "name": "stdout",
          "text": [
            "Accuracy of XGBoost for Spanish Texts is 0.9709\n",
            "\n",
            "Confusion Matrix of XGBoost for Spanish Texts is \n",
            "[[934   5]\n",
            " [ 27 135]]\n",
            "\n",
            "Classification Report of XGBoost for Spanish Texts is \n",
            "              precision    recall  f1-score   support\n",
            "\n",
            "         ham       0.97      0.99      0.98       939\n",
            "        spam       0.96      0.83      0.89       162\n",
            "\n",
            "    accuracy                           0.97      1101\n",
            "   macro avg       0.97      0.91      0.94      1101\n",
            "weighted avg       0.97      0.97      0.97      1101\n",
            "\n"
          ]
        }
      ]
    },
    {
      "cell_type": "code",
      "source": [
        "# List of confusion matrices and languages\n",
        "confusion_matrices = [cm_en_xgb, cm_fr_xgb, cm_ar_xgb, cm_es_xgb]\n",
        "confusion_matrix_comparison(confusion_matrices)"
      ],
      "metadata": {
        "id": "0nKd_kjjPZA_",
        "colab": {
          "base_uri": "https://localhost:8080/",
          "height": 607
        },
        "outputId": "e76d34d8-aa7a-4351-8ace-870d34149bf8"
      },
      "execution_count": 82,
      "outputs": [
        {
          "output_type": "display_data",
          "data": {
            "text/plain": [
              "<Figure size 800x600 with 4 Axes>"
            ],
            "image/png": "[encoded data removed]"
          },
          "metadata": {}
        }
      ]
    },
    {
      "cell_type": "code",
      "source": [
        "count_plot_comparison(confusion_matrices)"
      ],
      "metadata": {
        "colab": {
          "base_uri": "https://localhost:8080/",
          "height": 479
        },
        "outputId": "391106fb-5015-40be-96d7-5ca728176af5",
        "id": "DGAxpIrPPpLc"
      },
      "execution_count": 83,
      "outputs": [
        {
          "output_type": "display_data",
          "data": {
            "text/plain": [
              "<Figure size 640x480 with 1 Axes>"
            ],
            "image/png": "[encoded data removed]"
          },
          "metadata": {}
        }
      ]
    },
    {
      "cell_type": "markdown",
      "source": [
        "### Comapring the 3 Model Results"
      ],
      "metadata": {
        "id": "JnsJKq3qV-yC"
      }
    },
    {
      "cell_type": "code",
      "source": [
        "# Summing the confusion matrices of all languages for each model\n",
        "cm_bert_svc = cm_en_svc + cm_fr_svc + cm_ar_svc + cm_es_svc\n",
        "cm_bert_gnb = cm_en_gnb + cm_fr_gnb + cm_ar_gnb + cm_es_gnb\n",
        "cm_bert_xgb = cm_en_xgb + cm_fr_xgb + cm_ar_xgb + cm_es_xgb\n",
        "\n",
        "confusion_matrices = [cm_bert_svc, cm_bert_gnb, cm_bert_xgb]"
      ],
      "metadata": {
        "id": "XG6pLpW_WEH4"
      },
      "execution_count": 84,
      "outputs": []
    },
    {
      "cell_type": "code",
      "source": [
        "def count_plot_model_comparison(cm):\n",
        "  confusion_matrices = cm\n",
        "  model_names = ['SVC', 'Naive Bayes', 'XGBoost']\n",
        "\n",
        "  # Calculate predictions for each Model\n",
        "  predictions = [calculate_predictions(cm) for cm in confusion_matrices]\n",
        "\n",
        "  # Create a DataFrame for count plot\n",
        "  df_predictions = pd.DataFrame(predictions, columns=['True Positive', 'False Positive', 'True Negative', 'False Negative'])\n",
        "  df_predictions['Model'] = model_names\n",
        "\n",
        "  # Melt the DataFrame for count plot\n",
        "  df_melted = pd.melt(df_predictions, id_vars='Model', var_name='Prediction Type', value_name='Count')\n",
        "\n",
        "  # Creating a count plot\n",
        "  sns.barplot(y='Count', x='Model', hue='Prediction Type', data=df_melted)\n",
        "  plt.title('Model Comparison - Predictions', fontsize=16)\n",
        "  plt.xlabel('Model', fontsize=14)\n",
        "  plt.ylabel('Count', fontsize=14)\n",
        "\n",
        "  plt.show()"
      ],
      "metadata": {
        "id": "cc4WjHkxW9xa"
      },
      "execution_count": 85,
      "outputs": []
    },
    {
      "cell_type": "code",
      "source": [
        "count_plot_model_comparison(confusion_matrices)"
      ],
      "metadata": {
        "colab": {
          "base_uri": "https://localhost:8080/",
          "height": 479
        },
        "id": "k24LT3TuZWH8",
        "outputId": "a9ecd4d2-7fcd-4cb1-cb05-a81fee931a5f"
      },
      "execution_count": 86,
      "outputs": [
        {
          "output_type": "display_data",
          "data": {
            "text/plain": [
              "<Figure size 640x480 with 1 Axes>"
            ],
            "image/png": "[encoded data removed]"
          },
          "metadata": {}
        }
      ]
    },
    {
      "cell_type": "markdown",
      "source": [
        "We observe that SVC has the least (almost 0) False negatives, while Bayes Model has the highest number of false negatives. XGBoost counts for the most number of False Positives. Hence, it can be said that the Support Vector Classifier model performed the best followed by XGBoost. Naive Bayes performed the least."
      ],
      "metadata": {
        "id": "5cSPKce9Xcps"
      }
    },
    {
      "cell_type": "markdown",
      "source": [
        "## Comparison of the Classical ML with DistilBERT"
      ],
      "metadata": {
        "id": "tgP2MO69kVM3"
      }
    },
    {
      "cell_type": "code",
      "source": [
        "confusion_matrices = [cm_svc, cm_bert_svc, cm_gnb, cm_bert_gnb, cm_xgb, cm_bert_xgb]"
      ],
      "metadata": {
        "id": "Gu23R6_CZ2vX"
      },
      "execution_count": 87,
      "outputs": []
    },
    {
      "cell_type": "code",
      "source": [
        "def count_plot_model_comparison(cm):\n",
        "  confusion_matrices = cm\n",
        "  model_names = ['SVM - 1', 'SVM - 2', 'Naive Bayes - 1', 'Naive Bayes - 2', 'XGBoost - 1', 'XGBoost - 2']\n",
        "\n",
        "  # Calculate predictions for each Model\n",
        "  predictions = [calculate_predictions(cm) for cm in confusion_matrices]\n",
        "\n",
        "  # Create a DataFrame for count plot\n",
        "  df_predictions = pd.DataFrame(predictions, columns=['True Positive', 'False Positive', 'True Negative', 'False Negative'])\n",
        "  df_predictions['Model'] = model_names\n",
        "\n",
        "  # Melt the DataFrame for count plot\n",
        "  df_melted = pd.melt(df_predictions, id_vars='Model', var_name='Prediction Type', value_name='Count')\n",
        "\n",
        "  # Creating a count plot\n",
        "  plt.figure(figsize=(12, 6))\n",
        "  sns.barplot(y='Count', x='Model', hue='Prediction Type', data=df_melted)\n",
        "  plt.title('Classical and BERT ML Models Comparison - Predictions', fontsize=16)\n",
        "  plt.xlabel('Count', fontsize=14)\n",
        "  plt.ylabel('Model', fontsize=14)\n",
        "\n",
        "  plt.show()"
      ],
      "metadata": {
        "id": "OrbnvrA8kWjR"
      },
      "execution_count": 88,
      "outputs": []
    },
    {
      "cell_type": "code",
      "source": [
        "count_plot_model_comparison(confusion_matrices)"
      ],
      "metadata": {
        "colab": {
          "base_uri": "https://localhost:8080/",
          "height": 571
        },
        "id": "wLD_BrVVimYD",
        "outputId": "cdc7974c-f211-4a31-b687-7930efcd76d3"
      },
      "execution_count": 89,
      "outputs": [
        {
          "output_type": "display_data",
          "data": {
            "text/plain": [
              "<Figure size 1200x600 with 1 Axes>"
            ],
            "image/png": "[encoded data removed]"
          },
          "metadata": {}
        }
      ]
    },
    {
      "cell_type": "markdown",
      "source": [
        "It can clearly be observed from the chart that the Classical ML Models without Pre-trained transformers perform worst. The Classical ML Models have high number of False Positives and False Negatives and low count of True Negatives. The Models with DistilBERT encoding gave very high accuracies and required training on only one language. With Classical ML Models, all the interested languages data was trained but the accuracies reported are very low."
      ],
      "metadata": {
        "id": "LjwiH2LRbSIb"
      }
    }
  ]
}